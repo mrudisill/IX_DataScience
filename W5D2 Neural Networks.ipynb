{
 "cells": [
  {
   "cell_type": "markdown",
   "metadata": {
    "toc": true
   },
   "source": [
    "<h1>Table of Contents<span class=\"tocSkip\"></span></h1>\n",
    "<div class=\"toc\"><ul class=\"toc-item\"><li><span><a href=\"#Cropland-Mapping-with-Random-Forests-and-Neural-Networks\" data-toc-modified-id=\"Cropland-Mapping-with-Random-Forests-and-Neural-Networks-1\"><span class=\"toc-item-num\">1&nbsp;&nbsp;</span>Cropland Mapping with Random Forests and Neural Networks</a></span><ul class=\"toc-item\"><li><span><a href=\"#1.-Introduction\" data-toc-modified-id=\"1.-Introduction-1.1\"><span class=\"toc-item-num\">1.1&nbsp;&nbsp;</span>1. Introduction</a></span></li><li><span><a href=\"#2.-Objectives-of-this-machine-learning-exercise\" data-toc-modified-id=\"2.-Objectives-of-this-machine-learning-exercise-1.2\"><span class=\"toc-item-num\">1.2&nbsp;&nbsp;</span>2. Objectives of this machine learning exercise</a></span></li><li><span><a href=\"#3.-The-dataset\" data-toc-modified-id=\"3.-The-dataset-1.3\"><span class=\"toc-item-num\">1.3&nbsp;&nbsp;</span>3. The dataset</a></span></li><li><span><a href=\"#Creating-New-Environment-may-be-needed\" data-toc-modified-id=\"Creating-New-Environment-may-be-needed-1.4\"><span class=\"toc-item-num\">1.4&nbsp;&nbsp;</span>Creating New Environment may be needed</a></span></li><li><span><a href=\"#4.1.-Importing-required-libraries\" data-toc-modified-id=\"4.1.-Importing-required-libraries-1.5\"><span class=\"toc-item-num\">1.5&nbsp;&nbsp;</span>4.1. Importing required libraries</a></span><ul class=\"toc-item\"><li><span><a href=\"#4.3.-Importing-the-dataset\" data-toc-modified-id=\"4.3.-Importing-the-dataset-1.5.1\"><span class=\"toc-item-num\">1.5.1&nbsp;&nbsp;</span>4.3. Importing the dataset</a></span></li></ul></li><li><span><a href=\"#5.-Exploratory-data-analysis-and-preprocessing\" data-toc-modified-id=\"5.-Exploratory-data-analysis-and-preprocessing-1.6\"><span class=\"toc-item-num\">1.6&nbsp;&nbsp;</span>5. Exploratory data analysis and preprocessing</a></span><ul class=\"toc-item\"><li><span><a href=\"#5.1.-Correlation\" data-toc-modified-id=\"5.1.-Correlation-1.6.1\"><span class=\"toc-item-num\">1.6.1&nbsp;&nbsp;</span>5.1. Correlation</a></span></li><li><span><a href=\"#5.3.-Creating-train-and-test-sets\" data-toc-modified-id=\"5.3.-Creating-train-and-test-sets-1.6.2\"><span class=\"toc-item-num\">1.6.2&nbsp;&nbsp;</span>5.3. Creating train and test sets</a></span></li><li><span><a href=\"#5.4.-Feature-scaling\" data-toc-modified-id=\"5.4.-Feature-scaling-1.6.3\"><span class=\"toc-item-num\">1.6.3&nbsp;&nbsp;</span>5.4. Feature scaling</a></span></li></ul></li><li><span><a href=\"#6.-Machine-Learning\" data-toc-modified-id=\"6.-Machine-Learning-1.7\"><span class=\"toc-item-num\">1.7&nbsp;&nbsp;</span>6. Machine Learning</a></span><ul class=\"toc-item\"><li><span><a href=\"#6.2.-Deep-Learning-(Artificial-Neural-Network)\" data-toc-modified-id=\"6.2.-Deep-Learning-(Artificial-Neural-Network)-1.7.1\"><span class=\"toc-item-num\">1.7.1&nbsp;&nbsp;</span>6.2. Deep Learning (Artificial Neural Network)</a></span><ul class=\"toc-item\"><li><span><a href=\"#6.2.1.-Model-definition\" data-toc-modified-id=\"6.2.1.-Model-definition-1.7.1.1\"><span class=\"toc-item-num\">1.7.1.1&nbsp;&nbsp;</span>6.2.1. Model definition</a></span></li><li><span><a href=\"#6.2.2.-Model-fitting\" data-toc-modified-id=\"6.2.2.-Model-fitting-1.7.1.2\"><span class=\"toc-item-num\">1.7.1.2&nbsp;&nbsp;</span>6.2.2. Model fitting</a></span></li><li><span><a href=\"#6.2.3.-Predictions\" data-toc-modified-id=\"6.2.3.-Predictions-1.7.1.3\"><span class=\"toc-item-num\">1.7.1.3&nbsp;&nbsp;</span>6.2.3. Predictions</a></span></li></ul></li></ul></li><li><span><a href=\"#7.-Classification-performance\" data-toc-modified-id=\"7.-Classification-performance-1.8\"><span class=\"toc-item-num\">1.8&nbsp;&nbsp;</span>7. Classification performance</a></span></li></ul></li></ul></div>"
   ]
  },
  {
   "cell_type": "markdown",
   "metadata": {
    "id": "3HoaY5cLXXva"
   },
   "source": [
    "# Cropland Mapping with Random Forests and Neural Networks\n",
    "\n",
    "<p style=\"text-align: justify\">This case study is based on the \"<b>Crop mapping using fused optical-radar dataset</b>\", created by <a href=\"http://i-khosravi.ir/\">Dr. Iman Khosravi</a> (Department of Remote Sensing & GIS, Faculty of Geography, University of Tehran, Iran) and donated to the <b>University of California, Irvine (UCI) Machine Learning Repository</b> (<a href=\"https://archive.ics.uci.edu/ml/datasets/Crop+mapping+using+fused+optical-radar+data+set\">here</a>), where it is currently hosted."
   ]
  },
  {
   "cell_type": "markdown",
   "metadata": {
    "id": "vaDNa5_uc_Nv"
   },
   "source": [
    "## 1. Introduction"
   ]
  },
  {
   "cell_type": "markdown",
   "metadata": {
    "id": "bQ4_bdmnc_Nv"
   },
   "source": [
    "Crop maps play an important role in various applications such as crop inventories, crop insurance, yield estimation and the enforcement of quota limits.\n",
    "\n",
    "The dataset serving as the basis for this machine learning study, described in detail in Section 3, contains a large set of numerical features derived from remote sensing information assembled by two primary sources:</p>\n",
    "<ul>\n",
    "    <li style=\"text-align: justify\">Optical information (actual images) was collected by RapidEye satellites;</li>\n",
    "    <li style=\"text-align: justify\">Radar-based information was collected by an Unihnabitated Aerial Vehicle Synthetic Aperture Radar (UAVSAR) system.</li>\n",
    "</ul>\n",
    "<p style=\"text-align: justify\">As the amount and complexity of data gathered from such different sources over several time spans is inherently huge, <b>machine learning</b> plays a central role when it comes to the final classification purpose.\n"
   ]
  },
  {
   "cell_type": "markdown",
   "metadata": {
    "id": "unKGD74Qc_Nw"
   },
   "source": [
    "<img src=\"https://i.imgur.com/4oTGmTA.png\" width=\"500\" height=\"500\">"
   ]
  },
  {
   "cell_type": "markdown",
   "metadata": {
    "id": "Hb5cvzjKc_Nw"
   },
   "source": [
    "## 2. Objectives of this machine learning exercise"
   ]
  },
  {
   "cell_type": "markdown",
   "metadata": {
    "id": "d4WSsq5wc_Nx"
   },
   "source": [
    "<p style=\"text-align: justify\">Two major objectives are proposed for this study:</p>\n",
    "<ol>\n",
    "    <li style=\"text-align: justify\">Assess the performance of scikit-learn's Random Forest Classifier;</li>\n",
    "    <li style=\"text-align: justify\">Investigate potential performance improvements that may be offered by an Artificial Neural Network (ANN).</li>\n",
    "</ol>"
   ]
  },
  {
   "cell_type": "markdown",
   "metadata": {
    "id": "7Cb56fEpc_Nx"
   },
   "source": [
    "## 3. The dataset"
   ]
  },
  {
   "cell_type": "markdown",
   "metadata": {
    "id": "B4xPzMNcc_Nx"
   },
   "source": [
    "<p style=\"text-align: justify\">The dataset chosen for this machine learning exercise contains fused, bi-temporal optical-radar data for cropland classification, in tabular form, derived from images collected by RapidEye satellites (optical) and polarimetric radar information collected by Unmanned Aerial Vehicle Synthetic Aperture Radars (UAVSAR) over an agricultural region near <b>Winnipeg, Canada</b> on <b>July 5th and July 14th, 2012</b>. In this area, seven different crop cultures existed at the time of collection:</p>\n",
    "<ol>\n",
    "    <li style=\"text-align: justify\">Corn</li>\n",
    "    <li style=\"text-align: justify\">Pea</li>\n",
    "    <li style=\"text-align: justify\">Canola</li>\n",
    "    <li style=\"text-align: justify\">Soy</li>\n",
    "    <li style=\"text-align: justify\">Oat</li>\n",
    "    <li style=\"text-align: justify\">Wheat</li>\n",
    "    <li style=\"text-align: justify\">Broadleaf</li>\n",
    "</ol>"
   ]
  },
  {
   "cell_type": "markdown",
   "metadata": {
    "id": "vzWnQk2qc_Nx"
   },
   "source": [
    "<img src=\"https://i.imgur.com/KAaR1oa.png\" width=\"800\" height=\"800\">"
   ]
  },
  {
   "cell_type": "markdown",
   "metadata": {
    "id": "SFfoeVIPc_Nx"
   },
   "source": [
    "<p style=\"text-align: justify\">The dataset has 325,834 observations, each containing 175 attributes structured the following way:</p>\n",
    "<p><b>Dependent variable</b>:</p>\n",
    "<ul>\n",
    "    <li style=\"text-align: justify\">Crop class, as described above ('label', integer value ranging from 1 to 7);</li>\n",
    "</ul>\n",
    "<p><b>Predictive features</b>:</p>\n",
    "<ul>\n",
    "    <li style=\"text-align: justify\">Polarimetric radar features (49) collected on July 5th, 2012 ('f1' to 'f49', real values);</li>\n",
    "    <li style=\"text-align: justify\">Polarimetric radar features (49) collected on July 14th, 2012 ('f50' to 'f98', real values);</li>\n",
    "    <li style=\"text-align: justify\">Optical features (38) collected on July 5th, 2012 ('f99' to 'f136', real values);</li>\n",
    "    <li style=\"text-align: justify\">Optical features (38) collected on July 14th, 2012 ('f137' to 'f174', real values).</li>\n",
    "</ul>\n",
    "<p style=\"text-align: justify\">There are no missing values.</p>"
   ]
  },
  {
   "cell_type": "markdown",
   "metadata": {},
   "source": [
    "## Creating New Environment may be needed\n"
   ]
  },
  {
   "cell_type": "code",
   "execution_count": 1,
   "metadata": {},
   "outputs": [],
   "source": [
    "# Run this in terminal line by line\n",
    "# Create and activate a new virtual environment\n",
    "# python -m venv myenv\n",
    "# source myenv/bin/activate  # On Windows use `myenv\\Scripts\\activate`\n",
    "\n",
    "# Upgrade pip\n",
    "# pip install --upgrade pip\n",
    "\n",
    "# Install Jupyter and necessary packages\n",
    "# pip install jupyter tensorflow pandas scikit-learn ipykernel\n",
    "\n",
    "# Add the virtual environment to Jupyter\n",
    "# python -m ipykernel install --user --name=myenv --display-name \"Python (myenv)\"\n",
    "\n",
    "# Launch Jupyter Notebook\n",
    "# jupyter notebook"
   ]
  },
  {
   "cell_type": "markdown",
   "metadata": {
    "id": "oPMZ7Gd3c_Nx"
   },
   "source": [
    "## 4.1. Importing required libraries"
   ]
  },
  {
   "cell_type": "code",
   "execution_count": 2,
   "metadata": {},
   "outputs": [],
   "source": [
    "#!pip install keras"
   ]
  },
  {
   "cell_type": "code",
   "execution_count": 3,
   "metadata": {},
   "outputs": [],
   "source": [
    "#!pip install tensorflow"
   ]
  },
  {
   "cell_type": "code",
   "execution_count": 4,
   "metadata": {
    "id": "FsIIqK0UXSUN"
   },
   "outputs": [],
   "source": [
    "import numpy as np\n",
    "import pandas as pd\n",
    "from datetime import datetime\n",
    "\n",
    "from sklearn.preprocessing import StandardScaler\n",
    "from sklearn.ensemble import RandomForestClassifier\n",
    "from sklearn.metrics import accuracy_score, precision_score, recall_score, precision_recall_fscore_support\n",
    "\n",
    "from keras.models import Sequential\n",
    "from keras.layers import Dense, Dropout\n",
    "from keras.optimizers import Adam\n",
    "import matplotlib.pyplot as plt\n",
    "import seaborn as sns"
   ]
  },
  {
   "cell_type": "code",
   "execution_count": 5,
   "metadata": {
    "id": "N9zdp0b5c_Ny"
   },
   "outputs": [],
   "source": [
    "import warnings\n",
    "from datetime import datetime\n",
    "\n",
    "warnings.filterwarnings('ignore')\n",
    "start_time = datetime.now()"
   ]
  },
  {
   "cell_type": "markdown",
   "metadata": {
    "id": "wOygnihzc_Nz"
   },
   "source": [
    "### 4.3. Importing the dataset"
   ]
  },
  {
   "cell_type": "markdown",
   "metadata": {
    "id": "SIoj5F0Fc_Nz"
   },
   "source": [
    "<p style=\"text-align: justify\">The dataset containing 325,834 observations is imported and shuffled.</p> Preventing Order Bias: Datasets often have some inherent order, such as time-series data or grouped data. If this order is preserved, models may learn spurious patterns or relationships that are not generalizable."
   ]
  },
  {
   "cell_type": "code",
   "execution_count": 6,
   "metadata": {
    "id": "yFi2NNY7Xf6c"
   },
   "outputs": [],
   "source": [
    "# Importing the dataset\n",
    "dataset = pd.read_csv('/Users/mollyrudisill/ix24_mollyr/ix_datascience-main/classwork/data/WinnipegDataset.txt')\n",
    "dataset = dataset.sample(frac=1)"
   ]
  },
  {
   "cell_type": "markdown",
   "metadata": {
    "id": "Ifv88VIBc_Nz"
   },
   "source": [
    "## 5. Exploratory data analysis and preprocessing"
   ]
  },
  {
   "cell_type": "markdown",
   "metadata": {
    "id": "KJPMra3fc_Nz"
   },
   "source": [
    "<p style=\"text-align: justify\">A glimpse at the dataset structure confirms observation shuffling.</p>"
   ]
  },
  {
   "cell_type": "code",
   "execution_count": 7,
   "metadata": {
    "id": "xUz0vXPoc_Nz",
    "outputId": "ac0f8df7-7ba3-4f8f-d1db-ac3e7cd08a33"
   },
   "outputs": [
    {
     "data": {
      "text/html": [
       "<div>\n",
       "<style scoped>\n",
       "    .dataframe tbody tr th:only-of-type {\n",
       "        vertical-align: middle;\n",
       "    }\n",
       "\n",
       "    .dataframe tbody tr th {\n",
       "        vertical-align: top;\n",
       "    }\n",
       "\n",
       "    .dataframe thead th {\n",
       "        text-align: right;\n",
       "    }\n",
       "</style>\n",
       "<table border=\"1\" class=\"dataframe\">\n",
       "  <thead>\n",
       "    <tr style=\"text-align: right;\">\n",
       "      <th></th>\n",
       "      <th>label</th>\n",
       "      <th>f1</th>\n",
       "      <th>f2</th>\n",
       "      <th>f3</th>\n",
       "      <th>f4</th>\n",
       "      <th>f5</th>\n",
       "      <th>f6</th>\n",
       "      <th>f7</th>\n",
       "      <th>f8</th>\n",
       "      <th>f9</th>\n",
       "      <th>...</th>\n",
       "      <th>f165</th>\n",
       "      <th>f166</th>\n",
       "      <th>f167</th>\n",
       "      <th>f168</th>\n",
       "      <th>f169</th>\n",
       "      <th>f170</th>\n",
       "      <th>f171</th>\n",
       "      <th>f172</th>\n",
       "      <th>f173</th>\n",
       "      <th>f174</th>\n",
       "    </tr>\n",
       "  </thead>\n",
       "  <tbody>\n",
       "    <tr>\n",
       "      <th>82308</th>\n",
       "      <td>3</td>\n",
       "      <td>-12.5400</td>\n",
       "      <td>-22.421</td>\n",
       "      <td>-14.5690</td>\n",
       "      <td>-16.354</td>\n",
       "      <td>-12.9910</td>\n",
       "      <td>-16.385</td>\n",
       "      <td>2.02890</td>\n",
       "      <td>-9.8806</td>\n",
       "      <td>-7.8516</td>\n",
       "      <td>...</td>\n",
       "      <td>0.18519</td>\n",
       "      <td>0.141990</td>\n",
       "      <td>4.00000</td>\n",
       "      <td>0.000000</td>\n",
       "      <td>1.00000</td>\n",
       "      <td>0.00000</td>\n",
       "      <td>0.00000</td>\n",
       "      <td>-0.00000</td>\n",
       "      <td>1.00000</td>\n",
       "      <td>1.00000</td>\n",
       "    </tr>\n",
       "    <tr>\n",
       "      <th>122328</th>\n",
       "      <td>4</td>\n",
       "      <td>-13.7230</td>\n",
       "      <td>-22.387</td>\n",
       "      <td>-15.1010</td>\n",
       "      <td>-17.399</td>\n",
       "      <td>-13.7530</td>\n",
       "      <td>-17.270</td>\n",
       "      <td>1.37810</td>\n",
       "      <td>-8.6639</td>\n",
       "      <td>-7.2859</td>\n",
       "      <td>...</td>\n",
       "      <td>0.16049</td>\n",
       "      <td>0.661440</td>\n",
       "      <td>2.22220</td>\n",
       "      <td>0.172840</td>\n",
       "      <td>0.83333</td>\n",
       "      <td>0.33333</td>\n",
       "      <td>0.33333</td>\n",
       "      <td>1.00270</td>\n",
       "      <td>0.48148</td>\n",
       "      <td>0.53452</td>\n",
       "    </tr>\n",
       "    <tr>\n",
       "      <th>267235</th>\n",
       "      <td>6</td>\n",
       "      <td>-19.4500</td>\n",
       "      <td>-28.696</td>\n",
       "      <td>-16.7730</td>\n",
       "      <td>-21.237</td>\n",
       "      <td>-17.2990</td>\n",
       "      <td>-21.206</td>\n",
       "      <td>-2.67660</td>\n",
       "      <td>-9.2455</td>\n",
       "      <td>-11.9220</td>\n",
       "      <td>...</td>\n",
       "      <td>0.43210</td>\n",
       "      <td>-0.250000</td>\n",
       "      <td>6.00000</td>\n",
       "      <td>0.000000</td>\n",
       "      <td>1.00000</td>\n",
       "      <td>0.00000</td>\n",
       "      <td>0.00000</td>\n",
       "      <td>-0.00000</td>\n",
       "      <td>1.00000</td>\n",
       "      <td>1.00000</td>\n",
       "    </tr>\n",
       "    <tr>\n",
       "      <th>295986</th>\n",
       "      <td>6</td>\n",
       "      <td>-17.2120</td>\n",
       "      <td>-26.251</td>\n",
       "      <td>-16.6480</td>\n",
       "      <td>-20.978</td>\n",
       "      <td>-15.6890</td>\n",
       "      <td>-20.947</td>\n",
       "      <td>-0.56401</td>\n",
       "      <td>-9.0391</td>\n",
       "      <td>-9.6031</td>\n",
       "      <td>...</td>\n",
       "      <td>0.28395</td>\n",
       "      <td>0.158110</td>\n",
       "      <td>1.44440</td>\n",
       "      <td>0.246910</td>\n",
       "      <td>0.83333</td>\n",
       "      <td>0.33333</td>\n",
       "      <td>0.33333</td>\n",
       "      <td>0.93689</td>\n",
       "      <td>0.43210</td>\n",
       "      <td>0.39528</td>\n",
       "    </tr>\n",
       "    <tr>\n",
       "      <th>260299</th>\n",
       "      <td>6</td>\n",
       "      <td>-16.8080</td>\n",
       "      <td>-26.942</td>\n",
       "      <td>-16.2590</td>\n",
       "      <td>-19.901</td>\n",
       "      <td>-15.7760</td>\n",
       "      <td>-20.061</td>\n",
       "      <td>-0.54918</td>\n",
       "      <td>-10.1330</td>\n",
       "      <td>-10.6830</td>\n",
       "      <td>...</td>\n",
       "      <td>0.38272</td>\n",
       "      <td>-0.530330</td>\n",
       "      <td>2.00000</td>\n",
       "      <td>0.000000</td>\n",
       "      <td>0.94444</td>\n",
       "      <td>0.11111</td>\n",
       "      <td>0.11111</td>\n",
       "      <td>0.34883</td>\n",
       "      <td>0.80247</td>\n",
       "      <td>0.50000</td>\n",
       "    </tr>\n",
       "    <tr>\n",
       "      <th>...</th>\n",
       "      <td>...</td>\n",
       "      <td>...</td>\n",
       "      <td>...</td>\n",
       "      <td>...</td>\n",
       "      <td>...</td>\n",
       "      <td>...</td>\n",
       "      <td>...</td>\n",
       "      <td>...</td>\n",
       "      <td>...</td>\n",
       "      <td>...</td>\n",
       "      <td>...</td>\n",
       "      <td>...</td>\n",
       "      <td>...</td>\n",
       "      <td>...</td>\n",
       "      <td>...</td>\n",
       "      <td>...</td>\n",
       "      <td>...</td>\n",
       "      <td>...</td>\n",
       "      <td>...</td>\n",
       "      <td>...</td>\n",
       "      <td>...</td>\n",
       "    </tr>\n",
       "    <tr>\n",
       "      <th>225283</th>\n",
       "      <td>5</td>\n",
       "      <td>-16.0160</td>\n",
       "      <td>-25.753</td>\n",
       "      <td>-17.6190</td>\n",
       "      <td>-20.780</td>\n",
       "      <td>-15.2420</td>\n",
       "      <td>-21.724</td>\n",
       "      <td>1.60210</td>\n",
       "      <td>-9.7364</td>\n",
       "      <td>-8.1343</td>\n",
       "      <td>...</td>\n",
       "      <td>0.13580</td>\n",
       "      <td>-0.178820</td>\n",
       "      <td>2.00000</td>\n",
       "      <td>0.000000</td>\n",
       "      <td>1.00000</td>\n",
       "      <td>0.00000</td>\n",
       "      <td>0.00000</td>\n",
       "      <td>-0.00000</td>\n",
       "      <td>1.00000</td>\n",
       "      <td>1.00000</td>\n",
       "    </tr>\n",
       "    <tr>\n",
       "      <th>15812</th>\n",
       "      <td>1</td>\n",
       "      <td>-9.5279</td>\n",
       "      <td>-17.672</td>\n",
       "      <td>-8.3884</td>\n",
       "      <td>-11.518</td>\n",
       "      <td>-8.8477</td>\n",
       "      <td>-11.389</td>\n",
       "      <td>-1.13950</td>\n",
       "      <td>-8.1441</td>\n",
       "      <td>-9.2836</td>\n",
       "      <td>...</td>\n",
       "      <td>0.23457</td>\n",
       "      <td>0.494970</td>\n",
       "      <td>0.11111</td>\n",
       "      <td>0.098765</td>\n",
       "      <td>0.83333</td>\n",
       "      <td>0.33333</td>\n",
       "      <td>0.33333</td>\n",
       "      <td>0.84869</td>\n",
       "      <td>0.50617</td>\n",
       "      <td>-0.18898</td>\n",
       "    </tr>\n",
       "    <tr>\n",
       "      <th>254751</th>\n",
       "      <td>6</td>\n",
       "      <td>-17.9100</td>\n",
       "      <td>-26.473</td>\n",
       "      <td>-18.8870</td>\n",
       "      <td>-20.478</td>\n",
       "      <td>-17.9860</td>\n",
       "      <td>-21.873</td>\n",
       "      <td>0.97730</td>\n",
       "      <td>-8.5631</td>\n",
       "      <td>-7.5858</td>\n",
       "      <td>...</td>\n",
       "      <td>1.00000</td>\n",
       "      <td>1.000000</td>\n",
       "      <td>2.00000</td>\n",
       "      <td>0.000000</td>\n",
       "      <td>1.00000</td>\n",
       "      <td>0.00000</td>\n",
       "      <td>0.00000</td>\n",
       "      <td>-0.00000</td>\n",
       "      <td>1.00000</td>\n",
       "      <td>1.00000</td>\n",
       "    </tr>\n",
       "    <tr>\n",
       "      <th>42133</th>\n",
       "      <td>2</td>\n",
       "      <td>-9.7935</td>\n",
       "      <td>-15.519</td>\n",
       "      <td>-9.4247</td>\n",
       "      <td>-13.325</td>\n",
       "      <td>-8.2823</td>\n",
       "      <td>-12.834</td>\n",
       "      <td>-0.36884</td>\n",
       "      <td>-5.7259</td>\n",
       "      <td>-6.0947</td>\n",
       "      <td>...</td>\n",
       "      <td>0.25926</td>\n",
       "      <td>0.670820</td>\n",
       "      <td>2.00000</td>\n",
       "      <td>0.000000</td>\n",
       "      <td>1.00000</td>\n",
       "      <td>0.00000</td>\n",
       "      <td>0.00000</td>\n",
       "      <td>-0.00000</td>\n",
       "      <td>1.00000</td>\n",
       "      <td>1.00000</td>\n",
       "    </tr>\n",
       "    <tr>\n",
       "      <th>253809</th>\n",
       "      <td>6</td>\n",
       "      <td>-18.2320</td>\n",
       "      <td>-27.717</td>\n",
       "      <td>-17.9970</td>\n",
       "      <td>-22.660</td>\n",
       "      <td>-16.7250</td>\n",
       "      <td>-22.293</td>\n",
       "      <td>-0.23499</td>\n",
       "      <td>-9.4849</td>\n",
       "      <td>-9.7199</td>\n",
       "      <td>...</td>\n",
       "      <td>0.65432</td>\n",
       "      <td>0.000007</td>\n",
       "      <td>2.00000</td>\n",
       "      <td>0.000000</td>\n",
       "      <td>0.83333</td>\n",
       "      <td>0.33333</td>\n",
       "      <td>0.33333</td>\n",
       "      <td>0.63651</td>\n",
       "      <td>0.55556</td>\n",
       "      <td>0.50000</td>\n",
       "    </tr>\n",
       "  </tbody>\n",
       "</table>\n",
       "<p>325834 rows × 175 columns</p>\n",
       "</div>"
      ],
      "text/plain": [
       "        label       f1      f2       f3      f4       f5      f6       f7  \\\n",
       "82308       3 -12.5400 -22.421 -14.5690 -16.354 -12.9910 -16.385  2.02890   \n",
       "122328      4 -13.7230 -22.387 -15.1010 -17.399 -13.7530 -17.270  1.37810   \n",
       "267235      6 -19.4500 -28.696 -16.7730 -21.237 -17.2990 -21.206 -2.67660   \n",
       "295986      6 -17.2120 -26.251 -16.6480 -20.978 -15.6890 -20.947 -0.56401   \n",
       "260299      6 -16.8080 -26.942 -16.2590 -19.901 -15.7760 -20.061 -0.54918   \n",
       "...       ...      ...     ...      ...     ...      ...     ...      ...   \n",
       "225283      5 -16.0160 -25.753 -17.6190 -20.780 -15.2420 -21.724  1.60210   \n",
       "15812       1  -9.5279 -17.672  -8.3884 -11.518  -8.8477 -11.389 -1.13950   \n",
       "254751      6 -17.9100 -26.473 -18.8870 -20.478 -17.9860 -21.873  0.97730   \n",
       "42133       2  -9.7935 -15.519  -9.4247 -13.325  -8.2823 -12.834 -0.36884   \n",
       "253809      6 -18.2320 -27.717 -17.9970 -22.660 -16.7250 -22.293 -0.23499   \n",
       "\n",
       "             f8       f9  ...     f165      f166     f167      f168     f169  \\\n",
       "82308   -9.8806  -7.8516  ...  0.18519  0.141990  4.00000  0.000000  1.00000   \n",
       "122328  -8.6639  -7.2859  ...  0.16049  0.661440  2.22220  0.172840  0.83333   \n",
       "267235  -9.2455 -11.9220  ...  0.43210 -0.250000  6.00000  0.000000  1.00000   \n",
       "295986  -9.0391  -9.6031  ...  0.28395  0.158110  1.44440  0.246910  0.83333   \n",
       "260299 -10.1330 -10.6830  ...  0.38272 -0.530330  2.00000  0.000000  0.94444   \n",
       "...         ...      ...  ...      ...       ...      ...       ...      ...   \n",
       "225283  -9.7364  -8.1343  ...  0.13580 -0.178820  2.00000  0.000000  1.00000   \n",
       "15812   -8.1441  -9.2836  ...  0.23457  0.494970  0.11111  0.098765  0.83333   \n",
       "254751  -8.5631  -7.5858  ...  1.00000  1.000000  2.00000  0.000000  1.00000   \n",
       "42133   -5.7259  -6.0947  ...  0.25926  0.670820  2.00000  0.000000  1.00000   \n",
       "253809  -9.4849  -9.7199  ...  0.65432  0.000007  2.00000  0.000000  0.83333   \n",
       "\n",
       "           f170     f171     f172     f173     f174  \n",
       "82308   0.00000  0.00000 -0.00000  1.00000  1.00000  \n",
       "122328  0.33333  0.33333  1.00270  0.48148  0.53452  \n",
       "267235  0.00000  0.00000 -0.00000  1.00000  1.00000  \n",
       "295986  0.33333  0.33333  0.93689  0.43210  0.39528  \n",
       "260299  0.11111  0.11111  0.34883  0.80247  0.50000  \n",
       "...         ...      ...      ...      ...      ...  \n",
       "225283  0.00000  0.00000 -0.00000  1.00000  1.00000  \n",
       "15812   0.33333  0.33333  0.84869  0.50617 -0.18898  \n",
       "254751  0.00000  0.00000 -0.00000  1.00000  1.00000  \n",
       "42133   0.00000  0.00000 -0.00000  1.00000  1.00000  \n",
       "253809  0.33333  0.33333  0.63651  0.55556  0.50000  \n",
       "\n",
       "[325834 rows x 175 columns]"
      ]
     },
     "execution_count": 7,
     "metadata": {},
     "output_type": "execute_result"
    }
   ],
   "source": [
    "dataset"
   ]
  },
  {
   "cell_type": "markdown",
   "metadata": {
    "id": "ylNAAS7Tc_N0"
   },
   "source": [
    "<p style=\"text-align: justify\">In addition, the analysis of unique labels shows a somehow balanced distribution (class share percentages mapped and charted below), with the exception of '<b>broadleaf</b>' and '<b>pea</b>'."
   ]
  },
  {
   "cell_type": "code",
   "execution_count": 8,
   "metadata": {
    "id": "1Nrd1_xoc_N0",
    "outputId": "04cc09cd-5064-4139-88ed-50a932d2ad23"
   },
   "outputs": [
    {
     "name": "stdout",
     "output_type": "stream",
     "text": [
      "Class share\n",
      "\n",
      "Class 1: 12.02 %\n",
      "Class 2: 1.10 %\n",
      "Class 3: 23.22 %\n",
      "Class 4: 22.73 %\n",
      "Class 5: 14.46 %\n",
      "Class 6: 26.11 %\n",
      "Class 7: 0.35 %\n"
     ]
    }
   ],
   "source": [
    "class_share = pd.Series(100 * dataset.label.value_counts(normalize=True)).sort_index()\n",
    "print('Class share\\n')\n",
    "for i in range(0,7):\n",
    "    print(f'Class {class_share.index[i]}: {class_share.iloc[i]:.2f} %')"
   ]
  },
  {
   "cell_type": "code",
   "execution_count": 9,
   "metadata": {
    "id": "wylBZpAgc_N0",
    "outputId": "e51d8c77-d737-4269-d22e-b5197b27881f"
   },
   "outputs": [
    {
     "data": {
      "text/plain": [
       "Text(0, 0.5, 'Share (%)')"
      ]
     },
     "execution_count": 9,
     "metadata": {},
     "output_type": "execute_result"
    },
    {
     "data": {
      "image/png": "[encoded data removed]",
      "text/plain": [
       "<Figure size 800x500 with 1 Axes>"
      ]
     },
     "metadata": {},
     "output_type": "display_data"
    }
   ],
   "source": [
    "fig, ax = plt.subplots(figsize=(8,5))\n",
    "sns.barplot(ax=ax, x = class_share.index, y = class_share, palette='Greens_d')\n",
    "plt.title('Cropland Class Share', fontsize=18)\n",
    "plt.xlabel('Cropland Class', fontsize=14)\n",
    "plt.ylabel('Share (%)', fontsize=14)"
   ]
  },
  {
   "cell_type": "markdown",
   "metadata": {
    "id": "dQFVQLPkc_N0"
   },
   "source": [
    "### 5.1. Correlation"
   ]
  },
  {
   "cell_type": "markdown",
   "metadata": {
    "id": "JB9Ib7_2c_N0"
   },
   "source": [
    "A threshold of 0.95 has been arbitrarily defined for filtering highly intercorrelated features.</p>"
   ]
  },
  {
   "cell_type": "code",
   "execution_count": 10,
   "metadata": {
    "id": "DLednyRxc_N0"
   },
   "outputs": [
    {
     "name": "stdout",
     "output_type": "stream",
     "text": [
      "Number of features to drop: 72\n",
      "Features to drop: ['f2', 'f5', 'f6', 'f13', 'f15', 'f16', 'f17', 'f18', 'f30', 'f32', 'f35', 'f36', 'f37', 'f38', 'f39', 'f40', 'f41', 'f45', 'f46', 'f47', 'f49', 'f53', 'f54', 'f55', 'f62', 'f64', 'f65', 'f66', 'f67', 'f79', 'f81', 'f84', 'f85', 'f86', 'f87', 'f88', 'f89', 'f90', 'f92', 'f94', 'f95', 'f96', 'f98', 'f102', 'f108', 'f109', 'f111', 'f112', 'f113', 'f114', 'f116', 'f117', 'f120', 'f121', 'f127', 'f129', 'f133', 'f135', 'f146', 'f147', 'f148', 'f149', 'f152', 'f153', 'f154', 'f156', 'f157', 'f158', 'f159', 'f165', 'f171', 'f173']\n"
     ]
    }
   ],
   "source": [
    "correlation_matrix = dataset.corr().abs()\n",
    "upper_matrix = correlation_matrix.where(np.triu(np.ones(correlation_matrix.shape), k=1).astype(bool))\n",
    "\n",
    "# Identify highly correlated features to drop\n",
    "highly_correlated_features_to_drop = [column for column in upper_matrix.columns if any(upper_matrix[column] > 0.95)]\n",
    "\n",
    "# Drop the highly correlated features from the dataset\n",
    "dataset = dataset.drop(columns=highly_correlated_features_to_drop)\n",
    "\n",
    "print(f'Number of features to drop: {len(highly_correlated_features_to_drop)}')\n",
    "print(f'Features to drop: {highly_correlated_features_to_drop}')\n"
   ]
  },
  {
   "cell_type": "code",
   "execution_count": 11,
   "metadata": {},
   "outputs": [
    {
     "data": {
      "text/plain": [
       "(325834, 103)"
      ]
     },
     "execution_count": 11,
     "metadata": {},
     "output_type": "execute_result"
    }
   ],
   "source": [
    "dataset.shape"
   ]
  },
  {
   "cell_type": "markdown",
   "metadata": {
    "id": "R2GAfVuvc_N6"
   },
   "source": [
    "### 5.3. Creating train and test sets"
   ]
  },
  {
   "cell_type": "code",
   "execution_count": 12,
   "metadata": {
    "id": "0wu6tmytSNKQ"
   },
   "outputs": [],
   "source": [
    "X = dataset.iloc[:, 1:]\n",
    "y = dataset.iloc[:, 0:1]"
   ]
  },
  {
   "cell_type": "code",
   "execution_count": 13,
   "metadata": {
    "id": "MSWmlRmSXkrO"
   },
   "outputs": [
    {
     "name": "stdout",
     "output_type": "stream",
     "text": [
      "Training features shape: (260667, 102)\n",
      "Testing features shape: (65167, 102)\n",
      "Training target shape: (260667, 1)\n",
      "Testing target shape: (65167, 1)\n"
     ]
    }
   ],
   "source": [
    "from sklearn.model_selection import train_test_split\n",
    "\n",
    "# Split the dataset into training and testing sets\n",
    "X_train, X_test, y_train, y_test = train_test_split(X, y, test_size=0.2, random_state=42)\n",
    "\n",
    "# Print the shapes of the resulting datasets\n",
    "print(f'Training features shape: {X_train.shape}')\n",
    "print(f'Testing features shape: {X_test.shape}')\n",
    "print(f'Training target shape: {y_train.shape}')\n",
    "print(f'Testing target shape: {y_test.shape}')"
   ]
  },
  {
   "cell_type": "markdown",
   "metadata": {
    "id": "H6MZZzrsc_N7"
   },
   "source": [
    "<p style=\"text-align: justify\">In preparation for testing at the end of this exercise, mapping class counts in the set of testing labels is important:</p>"
   ]
  },
  {
   "cell_type": "code",
   "execution_count": 14,
   "metadata": {
    "id": "Sr87wBaWc_N7",
    "outputId": "67cb842c-c3b9-45ed-99e6-2f95cdc3feac"
   },
   "outputs": [
    {
     "name": "stdout",
     "output_type": "stream",
     "text": [
      "Class count - Test labels\n",
      "\n",
      "Class 1: 7892\n",
      "Class 2: 742\n",
      "Class 3: 15316\n",
      "Class 4: 14654\n",
      "Class 5: 9466\n",
      "Class 6: 16882\n",
      "Class 7: 215\n"
     ]
    }
   ],
   "source": [
    "class_count = pd.Series(y_test.label.value_counts()).sort_index()\n",
    "print('Class count - Test labels\\n')\n",
    "for i in range(0,7):\n",
    "    print(f'Class {class_count.index[i]}: {class_count.iloc[i]}')"
   ]
  },
  {
   "cell_type": "markdown",
   "metadata": {},
   "source": [
    "For the <b>neural network</b> classification, the label column will be one-hot encoded with the help of Pandas' get_dummies method. Therefore, labels will now consist of arrays with seven binary elements, each of them referring to a specific crop class, allowing for the final class identification based on the array element with the highest predicted value.</li>"
   ]
  },
  {
   "cell_type": "code",
   "execution_count": 15,
   "metadata": {},
   "outputs": [],
   "source": [
    "y_train_ann = pd.get_dummies(y_train.label).values\n",
    "y_test_ann = pd.get_dummies(y_test.label).values"
   ]
  },
  {
   "cell_type": "markdown",
   "metadata": {
    "id": "rcezbVB_c_N7"
   },
   "source": [
    "### 5.4. Feature scaling"
   ]
  },
  {
   "cell_type": "code",
   "execution_count": 16,
   "metadata": {
    "id": "XjcMS4IQXscR"
   },
   "outputs": [],
   "source": [
    "# Scaling\n",
    "scaler = StandardScaler()\n",
    "X_train = scaler.fit_transform(X_train)\n",
    "X_test = scaler.transform(X_test)"
   ]
  },
  {
   "cell_type": "markdown",
   "metadata": {
    "id": "3dSmZYrRc_N7"
   },
   "source": [
    "## 6. Machine Learning"
   ]
  },
  {
   "cell_type": "markdown",
   "metadata": {
    "id": "UG9v9rbac_N8"
   },
   "source": [
    "<p style=\"text-align: justify\"></p>"
   ]
  },
  {
   "cell_type": "markdown",
   "metadata": {
    "id": "NRyzGkTKc_N8"
   },
   "source": [
    "### 6.2. Deep Learning (Artificial Neural Network)"
   ]
  },
  {
   "cell_type": "markdown",
   "metadata": {
    "id": "N1UbZmhtc_N8"
   },
   "source": [
    "#### 6.2.1. Model definition"
   ]
  },
  {
   "cell_type": "markdown",
   "metadata": {
    "id": "judaeH_yc_N8"
   },
   "source": [
    "<p style=\"text-align: justify\">The artificial neural network (ANN) architecture comprises a sequential structure with:</p>\n",
    "<ul>\n",
    "    <li>one input layer (102 input nodes);</li>\n",
    "    <li>three hidden layers (204, 204 and 102 nodes, respectively);</li>\n",
    "    <li>one seven-node output layer.</li>\n",
    "</ul>\n",
    "<p style=\"text-align: justify\">As features are standardized real numbers, '<b>relu</b>' is elected as the activation function of choice for hidden layers. "
   ]
  },
  {
   "cell_type": "markdown",
   "metadata": {
    "id": "Z1LieiZLc_N8"
   },
   "source": [
    "<img src=\"https://i.imgur.com/XcKIjmy.png\" width=\"600\" height=\"600\">"
   ]
  },
  {
   "cell_type": "code",
   "execution_count": 17,
   "metadata": {},
   "outputs": [],
   "source": [
    "# ANN\n",
    "ann_classifier = Sequential()\n",
    "\n",
    "# Input layer and first dense layer\n",
    "ann_classifier.add(Dense(units = 204, kernel_initializer = 'uniform', activation = 'relu', input_dim = 102))\n",
    "ann_classifier.add(Dropout(0.1))\n",
    "\n",
    "# Second dense layer\n",
    "ann_classifier.add(Dense(units = 204, kernel_initializer = 'uniform', activation = 'relu'))\n",
    "ann_classifier.add(Dropout(0.1))\n",
    "\n",
    "# Third dense layer\n",
    "ann_classifier.add(Dense(units = 102, kernel_initializer = 'uniform', activation = 'relu'))\n",
    "ann_classifier.add(Dropout(0.1))\n",
    "\n",
    "# Output layer\n",
    "ann_classifier.add(Dense(units = 7, kernel_initializer = 'uniform', activation = 'softmax'))\n",
    "\n",
    "# Model compilation\n",
    "\n",
    "optim = Adam(learning_rate=0.0005)\n",
    "\n",
    "ann_classifier.compile(optimizer = optim, loss = 'categorical_crossentropy', metrics = ['accuracy'])"
   ]
  },
  {
   "cell_type": "code",
   "execution_count": 18,
   "metadata": {},
   "outputs": [],
   "source": [
    "ann_train_history = ann_classifier.fit(X_train, y_train_ann, batch_size = 32, epochs = 30, verbose=0)"
   ]
  },
  {
   "cell_type": "markdown",
   "metadata": {
    "id": "vEVymBxcc_N8"
   },
   "source": [
    "#### 6.2.2. Model fitting"
   ]
  },
  {
   "cell_type": "markdown",
   "metadata": {
    "id": "8-RglsLuc_N9"
   },
   "source": [
    "<p style=\"text-align: justify\">Training accuracy and loss per training epoch are charted below.</p>\n",
    "<p style=\"text-align: justify\">As we are dealing with hundreds of thousands of observations, it is not unusual to see a neural network model converging fast. In this case, batches contain 64 observations. In every epoch the model will be exposed to more than 5,000 different batches. Few epochs may suffice to lead to high accuracy, low loss levels already in the beginning of the training session.</p>"
   ]
  },
  {
   "cell_type": "markdown",
   "metadata": {
    "id": "D7mEERltc_N9"
   },
   "source": [
    "#### 6.2.3. Predictions"
   ]
  },
  {
   "cell_type": "markdown",
   "metadata": {
    "id": "uncnjkdyc_N9"
   },
   "source": [
    "<p style=\"text-align: justify\">After fitting the model to the training set, predictions are generated for the testing set. As a reminder, each prediction will correspond to an array with seven elements, each of them referring to one particular crop class. The final array is '<b>binarized</b>': the array element with the highest value will be converted to '1' while all other array elements will be converted to '0'.</p>"
   ]
  },
  {
   "cell_type": "code",
   "execution_count": 19,
   "metadata": {
    "id": "PZbwJ8eQTreV"
   },
   "outputs": [
    {
     "name": "stdout",
     "output_type": "stream",
     "text": [
      "\u001b[1m2037/2037\u001b[0m \u001b[32m━━━━━━━━━━━━━━━━━━━━\u001b[0m\u001b[37m\u001b[0m \u001b[1m1s\u001b[0m 370us/step\n"
     ]
    }
   ],
   "source": [
    "y_pred_ann = ann_classifier.predict(X_test)\n",
    "for i in range(len(y_pred_ann)):\n",
    "    for j in range(7):\n",
    "        if y_pred_ann[i][j] == y_pred_ann[i].max():\n",
    "            y_pred_ann[i][j] = 1\n",
    "        else:\n",
    "            y_pred_ann[i][j] = 0\n",
    "y_pred_ann = y_pred_ann.astype(int)"
   ]
  },
  {
   "cell_type": "markdown",
   "metadata": {
    "id": "yeGn_OmMc_N9"
   },
   "source": [
    "<p style=\"text-align: justify\">A new sanity check reveals that the first prediction in the 'y_pred_ann' tensor matches the array generated for the first test set label - the class has been correctly predicted for this particular observation with our neural network.</p>"
   ]
  },
  {
   "cell_type": "code",
   "execution_count": 20,
   "metadata": {
    "id": "IdDtZ8CIc_N9",
    "outputId": "4b04f5c8-6681-43af-b579-191a76521402"
   },
   "outputs": [
    {
     "name": "stdout",
     "output_type": "stream",
     "text": [
      "Predicted: [0 0 1 0 0 0 0]\n",
      "Actual: [False False  True False False False False]\n"
     ]
    }
   ],
   "source": [
    "print(f'Predicted: {y_pred_ann[0]}')\n",
    "print(f'Actual: {y_test_ann[0]}')"
   ]
  },
  {
   "cell_type": "markdown",
   "metadata": {
    "id": "HGzS1D9Wc_N9"
   },
   "source": [
    "## 7. Classification performance"
   ]
  },
  {
   "cell_type": "markdown",
   "metadata": {
    "id": "wxsd8hErc_N9"
   },
   "source": [
    "Performance is herein evaluated with both statistical metrics and confusion matrices. As a reminder, in confusion matrices:</p>\n",
    "<ul>\n",
    "    <li>Columns correspond to <b>predicted</b> classes;</li>\n",
    "    <li>Rows correspond to <b>actual</b> classes.</li>"
   ]
  },
  {
   "cell_type": "code",
   "execution_count": 21,
   "metadata": {
    "id": "lymGnh2qa7Rp"
   },
   "outputs": [],
   "source": [
    "ann_cm = np.zeros((7,7))"
   ]
  },
  {
   "cell_type": "code",
   "execution_count": 22,
   "metadata": {
    "id": "VbQRnsPi5dsR"
   },
   "outputs": [],
   "source": [
    "ann_pred_correct = 0\n",
    "ann_pred_incorrect = 0\n",
    "for i in range(len(y_test_ann)):\n",
    "    if y_pred_ann[i].sum() > 0:\n",
    "        ann_index_test = np.where(y_test_ann[i] == 1)[0][0]\n",
    "        ann_index_pred = np.where(y_pred_ann[i] == 1)[0][0]\n",
    "        ann_cm[ann_index_test][ann_index_pred] += 1\n",
    "        if ann_index_test == ann_index_pred:\n",
    "            ann_pred_correct += 1\n",
    "        else:\n",
    "            ann_pred_incorrect += 1\n"
   ]
  },
  {
   "cell_type": "code",
   "execution_count": 23,
   "metadata": {
    "id": "0wSINLMq5fYl",
    "outputId": "f38088c0-a17b-4365-f862-7ba2952c7daa"
   },
   "outputs": [
    {
     "data": {
      "text/html": [
       "<div>\n",
       "<style scoped>\n",
       "    .dataframe tbody tr th:only-of-type {\n",
       "        vertical-align: middle;\n",
       "    }\n",
       "\n",
       "    .dataframe tbody tr th {\n",
       "        vertical-align: top;\n",
       "    }\n",
       "\n",
       "    .dataframe thead th {\n",
       "        text-align: right;\n",
       "    }\n",
       "</style>\n",
       "<table border=\"1\" class=\"dataframe\">\n",
       "  <thead>\n",
       "    <tr style=\"text-align: right;\">\n",
       "      <th></th>\n",
       "      <th>Corn</th>\n",
       "      <th>Pea</th>\n",
       "      <th>Canola</th>\n",
       "      <th>Soy</th>\n",
       "      <th>Oat</th>\n",
       "      <th>Wheat</th>\n",
       "      <th>Broadleaf</th>\n",
       "    </tr>\n",
       "  </thead>\n",
       "  <tbody>\n",
       "    <tr>\n",
       "      <th>Corn</th>\n",
       "      <td>7867</td>\n",
       "      <td>0</td>\n",
       "      <td>2</td>\n",
       "      <td>9</td>\n",
       "      <td>5</td>\n",
       "      <td>1</td>\n",
       "      <td>8</td>\n",
       "    </tr>\n",
       "    <tr>\n",
       "      <th>Pea</th>\n",
       "      <td>0</td>\n",
       "      <td>742</td>\n",
       "      <td>0</td>\n",
       "      <td>0</td>\n",
       "      <td>0</td>\n",
       "      <td>0</td>\n",
       "      <td>0</td>\n",
       "    </tr>\n",
       "    <tr>\n",
       "      <th>Canola</th>\n",
       "      <td>1</td>\n",
       "      <td>1</td>\n",
       "      <td>15297</td>\n",
       "      <td>2</td>\n",
       "      <td>8</td>\n",
       "      <td>7</td>\n",
       "      <td>0</td>\n",
       "    </tr>\n",
       "    <tr>\n",
       "      <th>Soy</th>\n",
       "      <td>3</td>\n",
       "      <td>0</td>\n",
       "      <td>4</td>\n",
       "      <td>14635</td>\n",
       "      <td>8</td>\n",
       "      <td>4</td>\n",
       "      <td>0</td>\n",
       "    </tr>\n",
       "    <tr>\n",
       "      <th>Oat</th>\n",
       "      <td>2</td>\n",
       "      <td>0</td>\n",
       "      <td>2</td>\n",
       "      <td>7</td>\n",
       "      <td>9439</td>\n",
       "      <td>16</td>\n",
       "      <td>0</td>\n",
       "    </tr>\n",
       "    <tr>\n",
       "      <th>Wheat</th>\n",
       "      <td>1</td>\n",
       "      <td>0</td>\n",
       "      <td>2</td>\n",
       "      <td>4</td>\n",
       "      <td>24</td>\n",
       "      <td>16848</td>\n",
       "      <td>3</td>\n",
       "    </tr>\n",
       "    <tr>\n",
       "      <th>Broadleaf</th>\n",
       "      <td>0</td>\n",
       "      <td>0</td>\n",
       "      <td>0</td>\n",
       "      <td>0</td>\n",
       "      <td>1</td>\n",
       "      <td>1</td>\n",
       "      <td>213</td>\n",
       "    </tr>\n",
       "  </tbody>\n",
       "</table>\n",
       "</div>"
      ],
      "text/plain": [
       "           Corn  Pea  Canola    Soy   Oat  Wheat  Broadleaf\n",
       "Corn       7867    0       2      9     5      1          8\n",
       "Pea           0  742       0      0     0      0          0\n",
       "Canola        1    1   15297      2     8      7          0\n",
       "Soy           3    0       4  14635     8      4          0\n",
       "Oat           2    0       2      7  9439     16          0\n",
       "Wheat         1    0       2      4    24  16848          3\n",
       "Broadleaf     0    0       0      0     1      1        213"
      ]
     },
     "execution_count": 23,
     "metadata": {},
     "output_type": "execute_result"
    }
   ],
   "source": [
    "ann_cmatrix = pd.DataFrame(ann_cm.astype(int),\n",
    "                           index = ['Corn', 'Pea', 'Canola', 'Soy', 'Oat', 'Wheat', 'Broadleaf'],\n",
    "                           columns = ['Corn', 'Pea', 'Canola', 'Soy', 'Oat', 'Wheat', 'Broadleaf'])\n",
    "ann_cmatrix"
   ]
  },
  {
   "cell_type": "code",
   "execution_count": 24,
   "metadata": {
    "id": "78fgfnt99klO",
    "outputId": "e55dad9a-485f-4b8a-cd9a-91e0604cfe91"
   },
   "outputs": [
    {
     "name": "stdout",
     "output_type": "stream",
     "text": [
      "Accuracy: 99.81 %\n",
      "Precision: 99.14 %\n",
      "Recall: 99.72 %\n",
      "F-Score: 99.42 %\n"
     ]
    }
   ],
   "source": [
    "ann_accuracy = accuracy_score(y_test_ann, y_pred_ann)\n",
    "ann_precision, ann_recall, ann_f_score, ann_support = precision_recall_fscore_support(y_test_ann, y_pred_ann, average='macro')\n",
    "print(f'Accuracy: {ann_accuracy * 100:.2f} %')\n",
    "print(f'Precision: {ann_precision * 100:.2f} %')\n",
    "print(f'Recall: {ann_recall * 100:.2f} %')\n",
    "print(f'F-Score: {ann_f_score * 100:.2f} %')"
   ]
  },
  {
   "cell_type": "code",
   "execution_count": 25,
   "metadata": {
    "id": "XbRB5llvc_N-",
    "outputId": "a6082b0d-644e-4329-eed5-fd9e87762309"
   },
   "outputs": [
    {
     "name": "stdout",
     "output_type": "stream",
     "text": [
      "Accuracy per class\n",
      "\n",
      "Corn: 99.91 %\n",
      "Pea: 99.87 %\n",
      "Canola: 99.93 %\n",
      "Soy: 99.85 %\n",
      "Oat: 99.52 %\n",
      "Wheat: 99.83 %\n",
      "Broadleaf: 95.09 %\n"
     ]
    }
   ],
   "source": [
    "print('Accuracy per class\\n')\n",
    "for i in range(len(ann_cmatrix)):\n",
    "    class_accuracy = ann_cmatrix.iloc[i,i] / ann_cmatrix.sum(axis=0)[i]\n",
    "    print(f'{ann_cmatrix.columns[i]}: {class_accuracy*100:.2f} %')"
   ]
  }
 ],
 "metadata": {
  "colab": {
   "provenance": []
  },
  "kernelspec": {
   "display_name": "base",
   "language": "python",
   "name": "python3"
  },
  "language_info": {
   "codemirror_mode": {
    "name": "ipython",
    "version": 3
   },
   "file_extension": ".py",
   "mimetype": "text/x-python",
   "name": "python",
   "nbconvert_exporter": "python",
   "pygments_lexer": "ipython3",
   "version": "3.11.8"
  },
  "toc": {
   "base_numbering": 1,
   "nav_menu": {},
   "number_sections": true,
   "sideBar": false,
   "skip_h1_title": false,
   "title_cell": "Table of Contents",
   "title_sidebar": "Contents",
   "toc_cell": true,
   "toc_position": {},
   "toc_section_display": true,
   "toc_window_display": false
  },
  "varInspector": {
   "cols": {
    "lenName": 16,
    "lenType": 16,
    "lenVar": 40
   },
   "kernels_config": {
    "python": {
     "delete_cmd_postfix": "",
     "delete_cmd_prefix": "del ",
     "library": "var_list.py",
     "varRefreshCmd": "print(var_dic_list())"
    },
    "r": {
     "delete_cmd_postfix": ") ",
     "delete_cmd_prefix": "rm(",
     "library": "var_list.r",
     "varRefreshCmd": "cat(var_dic_list()) "
    }
   },
   "types_to_exclude": [
    "module",
    "function",
    "builtin_function_or_method",
    "instance",
    "_Feature"
   ],
   "window_display": false
  }
 },
 "nbformat": 4,
 "nbformat_minor": 1
}
