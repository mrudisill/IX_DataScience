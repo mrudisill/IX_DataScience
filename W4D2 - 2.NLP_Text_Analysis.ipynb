{
  "cells": [
    {
      "cell_type": "markdown",
      "id": "6TVbId5gNHZ_",
      "metadata": {
        "id": "6TVbId5gNHZ_"
      },
      "source": [
        "# <font color='#eb3483'> Natural Language Processing </font>\n",
        "\n",
        "In this notebook, we will be working with a large dataset of movie reviews from the **Internet Movie Database (IMDb)**. The dataset contains 50,000 movie reviews that have been labelled as positive or negative. Positive means that the movie got a rating of more than six stars, while negative means that it got a rating less than five stars.\n",
        "\n",
        "Our goal is to build a machine learning model to predict whether a reviewer will like or dislike a movie based on his/her written review.\n",
        "\n",
        "The dataset can be downloaded [here](//drive.google.com/file/d/1mLLHORSCShHdgQO_m1lTSnKC28EYWtnZ/view?usp=drive_link)\n",
        "\n"
      ]
    },
    {
      "cell_type": "code",
      "execution_count": 1,
      "id": "2pHBG4nlNHaB",
      "metadata": {
        "id": "2pHBG4nlNHaB"
      },
      "outputs": [],
      "source": [
        "import pandas as pd\n",
        "import numpy as np\n",
        "\n",
        "import re # for regular expressions\n",
        "import requests # to read the HTML at a URL into Python\n",
        "from bs4 import BeautifulSoup # to extract text from HTML\n",
        "import nltk # natural language toolkit for stop words, stemming and lemmatization (and more!)"
      ]
    },
    {
      "cell_type": "code",
      "execution_count": null,
      "id": "GbJofvCFNVXw",
      "metadata": {
        "id": "GbJofvCFNVXw"
      },
      "outputs": [],
      "source": []
    },
    {
      "cell_type": "code",
      "execution_count": 2,
      "id": "TY7Tia12NXtg",
      "metadata": {
        "id": "TY7Tia12NXtg"
      },
      "outputs": [],
      "source": [
        "path = \"/Users/mollyrudisill/ix24_mollyr/ix_datascience-main/classwork/data/movies.csv\"\n",
        "df = pd.read_csv(path)"
      ]
    },
    {
      "cell_type": "code",
      "execution_count": 3,
      "id": "hs34n47YNHaB",
      "metadata": {
        "id": "hs34n47YNHaB"
      },
      "outputs": [
        {
          "data": {
            "text/html": [
              "<div>\n",
              "<style scoped>\n",
              "    .dataframe tbody tr th:only-of-type {\n",
              "        vertical-align: middle;\n",
              "    }\n",
              "\n",
              "    .dataframe tbody tr th {\n",
              "        vertical-align: top;\n",
              "    }\n",
              "\n",
              "    .dataframe thead th {\n",
              "        text-align: right;\n",
              "    }\n",
              "</style>\n",
              "<table border=\"1\" class=\"dataframe\">\n",
              "  <thead>\n",
              "    <tr style=\"text-align: right;\">\n",
              "      <th></th>\n",
              "      <th>review</th>\n",
              "      <th>sentiment</th>\n",
              "    </tr>\n",
              "  </thead>\n",
              "  <tbody>\n",
              "    <tr>\n",
              "      <th>0</th>\n",
              "      <td>Working with one of the best Shakespeare sourc...</td>\n",
              "      <td>0</td>\n",
              "    </tr>\n",
              "    <tr>\n",
              "      <th>1</th>\n",
              "      <td>Well...tremors I, the original started off in ...</td>\n",
              "      <td>0</td>\n",
              "    </tr>\n",
              "    <tr>\n",
              "      <th>2</th>\n",
              "      <td>Ouch! This one was a bit painful to sit throug...</td>\n",
              "      <td>0</td>\n",
              "    </tr>\n",
              "    <tr>\n",
              "      <th>3</th>\n",
              "      <td>I've seen some crappy movies in my life, but t...</td>\n",
              "      <td>0</td>\n",
              "    </tr>\n",
              "    <tr>\n",
              "      <th>4</th>\n",
              "      <td>\"Carriers\" follows the exploits of two guys an...</td>\n",
              "      <td>0</td>\n",
              "    </tr>\n",
              "    <tr>\n",
              "      <th>...</th>\n",
              "      <td>...</td>\n",
              "      <td>...</td>\n",
              "    </tr>\n",
              "    <tr>\n",
              "      <th>49995</th>\n",
              "      <td>This movie is certainly well-constructed, begi...</td>\n",
              "      <td>1</td>\n",
              "    </tr>\n",
              "    <tr>\n",
              "      <th>49996</th>\n",
              "      <td>Nice to see a comedy for grown ups. Masterfull...</td>\n",
              "      <td>1</td>\n",
              "    </tr>\n",
              "    <tr>\n",
              "      <th>49997</th>\n",
              "      <td>Jean Renoir's homage to the Paris of the late ...</td>\n",
              "      <td>1</td>\n",
              "    </tr>\n",
              "    <tr>\n",
              "      <th>49998</th>\n",
              "      <td>What are the movies? I mean.. what are movies ...</td>\n",
              "      <td>1</td>\n",
              "    </tr>\n",
              "    <tr>\n",
              "      <th>49999</th>\n",
              "      <td>I saw this movie on TV and loved it! I am a re...</td>\n",
              "      <td>1</td>\n",
              "    </tr>\n",
              "  </tbody>\n",
              "</table>\n",
              "<p>50000 rows × 2 columns</p>\n",
              "</div>"
            ],
            "text/plain": [
              "                                                  review  sentiment\n",
              "0      Working with one of the best Shakespeare sourc...          0\n",
              "1      Well...tremors I, the original started off in ...          0\n",
              "2      Ouch! This one was a bit painful to sit throug...          0\n",
              "3      I've seen some crappy movies in my life, but t...          0\n",
              "4      \"Carriers\" follows the exploits of two guys an...          0\n",
              "...                                                  ...        ...\n",
              "49995  This movie is certainly well-constructed, begi...          1\n",
              "49996  Nice to see a comedy for grown ups. Masterfull...          1\n",
              "49997  Jean Renoir's homage to the Paris of the late ...          1\n",
              "49998  What are the movies? I mean.. what are movies ...          1\n",
              "49999  I saw this movie on TV and loved it! I am a re...          1\n",
              "\n",
              "[50000 rows x 2 columns]"
            ]
          },
          "execution_count": 3,
          "metadata": {},
          "output_type": "execute_result"
        }
      ],
      "source": [
        "#df = pd.read_csv('data/movies.csv')\n",
        "df"
      ]
    },
    {
      "cell_type": "code",
      "execution_count": 4,
      "id": "1dHFnOPaITW_",
      "metadata": {
        "id": "1dHFnOPaITW_"
      },
      "outputs": [
        {
          "name": "stdout",
          "output_type": "stream",
          "text": [
            "sentiment\n",
            "0    25000\n",
            "1    25000\n",
            "Name: count, dtype: int64\n"
          ]
        }
      ],
      "source": [
        "# Count the number of 0s and 1s in 'sentiment'\n",
        "count_values = df['sentiment'].value_counts()\n",
        "\n",
        "print(count_values)"
      ]
    },
    {
      "cell_type": "markdown",
      "id": "x9xScSb_NHaC",
      "metadata": {
        "id": "x9xScSb_NHaC"
      },
      "source": [
        "## <font color='#eb3483'> Before We Start: List Comprehension in Python </font>\n",
        "\n",
        "Before we begin our intro to natural language processing, we need to discuss **list comprehension** in Python: an easy way to loop over and select/transform items in a list.\n",
        "\n",
        "As an example, suppose you have a list:\n",
        "\n",
        "```python\n",
        "mylist = [1,2,3,4,5]\n",
        "```\n",
        "\n",
        "and you want to return a new list that contains the squared values of each element. How would you do this?\n",
        "\n",
        "Well, you could use a ```for``` loop:"
      ]
    },
    {
      "cell_type": "code",
      "execution_count": 5,
      "id": "HKStcJkANHaC",
      "metadata": {
        "id": "HKStcJkANHaC"
      },
      "outputs": [
        {
          "data": {
            "text/plain": [
              "[1, 4, 9, 16, 25]"
            ]
          },
          "execution_count": 5,
          "metadata": {},
          "output_type": "execute_result"
        }
      ],
      "source": [
        "mylist = [1,2,3,4,5]\n",
        "newlist = []\n",
        "\n",
        "for i in range(len(mylist)):\n",
        "    newlist.append(mylist[i]**2)\n",
        "\n",
        "newlist"
      ]
    },
    {
      "cell_type": "markdown",
      "id": "x66NUXJxNHaC",
      "metadata": {
        "id": "x66NUXJxNHaC"
      },
      "source": [
        "A neater way to do this is to use **list comprehension**, which essentially includes the ``for`` loop within the list:"
      ]
    },
    {
      "cell_type": "code",
      "execution_count": 6,
      "id": "l2zjK8otNHaC",
      "metadata": {
        "id": "l2zjK8otNHaC"
      },
      "outputs": [
        {
          "data": {
            "text/plain": [
              "[1, 4, 9, 16, 25]"
            ]
          },
          "execution_count": 6,
          "metadata": {},
          "output_type": "execute_result"
        }
      ],
      "source": [
        "[x**2 for x in mylist]"
      ]
    },
    {
      "cell_type": "markdown",
      "id": "lBVXl_0ONHaC",
      "metadata": {
        "id": "lBVXl_0ONHaC"
      },
      "source": [
        "We can even include an `if` statement in our list comprehension to select only a subset of the items:"
      ]
    },
    {
      "cell_type": "code",
      "execution_count": 7,
      "id": "bgjz-qu0NHaC",
      "metadata": {
        "id": "bgjz-qu0NHaC"
      },
      "outputs": [
        {
          "data": {
            "text/plain": [
              "[1, 4, 9]"
            ]
          },
          "execution_count": 7,
          "metadata": {},
          "output_type": "execute_result"
        }
      ],
      "source": [
        "[x**2 for x in mylist if x < 4]"
      ]
    },
    {
      "cell_type": "markdown",
      "id": "jD61UL1QNHaD",
      "metadata": {
        "id": "jD61UL1QNHaD"
      },
      "source": [
        "## <font color='#eb3483'> Text Cleaning and Preprocessing </font>\n",
        "\n",
        "As you'll soon see, converting textual data into a format that can be used for machine learning can take a lot of time and effort. Often the techniques that we use are problem specific. Here, we will explore some of these approaches as they apply to our movies dataset. If you ever find yourself analysing text data, you'll probably need to adapt these methods to suit your needs."
      ]
    },
    {
      "cell_type": "markdown",
      "id": "otNZ0JshQNbL",
      "metadata": {
        "id": "otNZ0JshQNbL"
      },
      "source": [
        "###  <font color='#eb3483'> 1. HTML </font>\n",
        "\n",
        "Have a look at the first and fourth reviews (indexed as 0 and 3):"
      ]
    },
    {
      "cell_type": "code",
      "execution_count": 8,
      "id": "Hea7dA0UNHaD",
      "metadata": {
        "id": "Hea7dA0UNHaD"
      },
      "outputs": [
        {
          "data": {
            "text/plain": [
              "\"Working with one of the best Shakespeare sources, this film manages to be creditable to it's source, whilst still appealing to a wider audience.<br /><br />Branagh steals the film from under Fishburne's nose, and there's a talented cast on good form.\""
            ]
          },
          "execution_count": 8,
          "metadata": {},
          "output_type": "execute_result"
        }
      ],
      "source": [
        "df.review.iloc[0]"
      ]
    },
    {
      "cell_type": "code",
      "execution_count": 9,
      "id": "sVngMlQJNHaD",
      "metadata": {
        "id": "sVngMlQJNHaD"
      },
      "outputs": [
        {
          "data": {
            "text/plain": [
              "\"I've seen some crappy movies in my life, but this one must be among the very worst. Definately bottom 100 material (imo, that is).<br /><br />We follow two couples, the Dodds (Billy Bob Thornton as Lonnie Earl and Natasha Richardson as Darlene) and the Kirkendalls (Patrick Swayze as Roy and Charlize Theron as Candy) in one car on a roadtrip to Reno.<br /><br />Apparently, Lonnie isn't too happy with his sex-life, so he cheats on his wife with Candy, who's despirately trying to have a baby. Roy, meanwhile, isn't too sure if his sperm is OK so he's getting it checked by a doctor.<br /><br />Now, I had read the back of the DVD, but my girlfriend didn't, and she blurted out after about 20 minutes: 'oh yeah, she's gonna end up pregnant but her husband can't have any baby's'. Spot on, as this movie is soooo predictable. As well as boring. And annoying. Meaningless. Offensive. Terrible.<br /><br />An example of how much this movie stinks. The two couples set out in their big car towards Nevada, when they are stopped by 2 police-officers, as they didn't stop at a stop-sign. The guys know each other and finally bribe the two officers with a case of beer. Not only is this scene pointless and not important (or even relevant) for the movie, it takes about 5 minutes! It's just talk and talk and talk, without ever going somewhere.<br /><br />I still have to puke thinking about the ending though. Apparently, Roy ISN'T having problems down there so he IS the father of the child. How many times does that happen in the movies... try something new! The cheated wife ultimately forgives her husband and best friend for having the affair and they all live happily ever after. Yuck.<br /><br />Best scene of the movie is right at the end, with a couple of shots of the Grand Canyon. Why couldn't they just keep the camera on that for 90 minutes?<br /><br />One would expect more from this cast (although Thornton really tries), but you can't really blame them. Writers, shame on you!<br /><br />1/10.\""
            ]
          },
          "execution_count": 9,
          "metadata": {},
          "output_type": "execute_result"
        }
      ],
      "source": [
        "df.review.iloc[3]"
      ]
    },
    {
      "cell_type": "markdown",
      "id": "2zbAST5fNHaD",
      "metadata": {
        "id": "2zbAST5fNHaD"
      },
      "source": [
        "You'll notice that they contain expressions like ```<br />```. These are HTML tags - the ``<br>`` tag is used to display a line **br**eak in HTML code. The details are not important, but we probably don't want to keep these in the text.\n",
        "\n",
        "Let's remove HTML tags using the ``BeautifulSoup`` function from ``bs4``, an extremely useful library for extracting text from HTML and XML files."
      ]
    },
    {
      "cell_type": "code",
      "execution_count": 10,
      "id": "H4-pGoNtNHaD",
      "metadata": {
        "id": "H4-pGoNtNHaD"
      },
      "outputs": [
        {
          "data": {
            "text/plain": [
              "\"I've seen some crappy movies in my life, but this one must be among the very worst. Definately bottom 100 material (imo, that is).We follow two couples, the Dodds (Billy Bob Thornton as Lonnie Earl and Natasha Richardson as Darlene) and the Kirkendalls (Patrick Swayze as Roy and Charlize Theron as Candy) in one car on a roadtrip to Reno.Apparently, Lonnie isn't too happy with his sex-life, so he cheats on his wife with Candy, who's despirately trying to have a baby. Roy, meanwhile, isn't too sure if his sperm is OK so he's getting it checked by a doctor.Now, I had read the back of the DVD, but my girlfriend didn't, and she blurted out after about 20 minutes: 'oh yeah, she's gonna end up pregnant but her husband can't have any baby's'. Spot on, as this movie is soooo predictable. As well as boring. And annoying. Meaningless. Offensive. Terrible.An example of how much this movie stinks. The two couples set out in their big car towards Nevada, when they are stopped by 2 police-officers, as they didn't stop at a stop-sign. The guys know each other and finally bribe the two officers with a case of beer. Not only is this scene pointless and not important (or even relevant) for the movie, it takes about 5 minutes! It's just talk and talk and talk, without ever going somewhere.I still have to puke thinking about the ending though. Apparently, Roy ISN'T having problems down there so he IS the father of the child. How many times does that happen in the movies... try something new! The cheated wife ultimately forgives her husband and best friend for having the affair and they all live happily ever after. Yuck.Best scene of the movie is right at the end, with a couple of shots of the Grand Canyon. Why couldn't they just keep the camera on that for 90 minutes?One would expect more from this cast (although Thornton really tries), but you can't really blame them. Writers, shame on you!1/10.\""
            ]
          },
          "execution_count": 10,
          "metadata": {},
          "output_type": "execute_result"
        }
      ],
      "source": [
        "BeautifulSoup(df.review.iloc[3], 'html.parser').get_text()"
      ]
    },
    {
      "cell_type": "markdown",
      "id": "KD5JEAq-NHaD",
      "metadata": {
        "id": "KD5JEAq-NHaD"
      },
      "source": [
        "Ah, that looks better! Let's apply this function to all the reviews in our dataset."
      ]
    },
    {
      "cell_type": "code",
      "execution_count": 11,
      "id": "9DJqDu4jJOSd",
      "metadata": {
        "id": "9DJqDu4jJOSd"
      },
      "outputs": [
        {
          "name": "stderr",
          "output_type": "stream",
          "text": [
            "/var/folders/dk/95f115l12ms7fs6v815_g44c0000gn/T/ipykernel_58570/1364700578.py:3: MarkupResemblesLocatorWarning: The input looks more like a filename than markup. You may want to open this file and pass the filehandle into Beautiful Soup.\n",
            "  return BeautifulSoup(text, 'html.parser').get_text()\n"
          ]
        },
        {
          "data": {
            "text/html": [
              "<div>\n",
              "<style scoped>\n",
              "    .dataframe tbody tr th:only-of-type {\n",
              "        vertical-align: middle;\n",
              "    }\n",
              "\n",
              "    .dataframe tbody tr th {\n",
              "        vertical-align: top;\n",
              "    }\n",
              "\n",
              "    .dataframe thead th {\n",
              "        text-align: right;\n",
              "    }\n",
              "</style>\n",
              "<table border=\"1\" class=\"dataframe\">\n",
              "  <thead>\n",
              "    <tr style=\"text-align: right;\">\n",
              "      <th></th>\n",
              "      <th>review</th>\n",
              "      <th>sentiment</th>\n",
              "    </tr>\n",
              "  </thead>\n",
              "  <tbody>\n",
              "    <tr>\n",
              "      <th>0</th>\n",
              "      <td>Working with one of the best Shakespeare sourc...</td>\n",
              "      <td>0</td>\n",
              "    </tr>\n",
              "    <tr>\n",
              "      <th>1</th>\n",
              "      <td>Well...tremors I, the original started off in ...</td>\n",
              "      <td>0</td>\n",
              "    </tr>\n",
              "    <tr>\n",
              "      <th>2</th>\n",
              "      <td>Ouch! This one was a bit painful to sit throug...</td>\n",
              "      <td>0</td>\n",
              "    </tr>\n",
              "    <tr>\n",
              "      <th>3</th>\n",
              "      <td>I've seen some crappy movies in my life, but t...</td>\n",
              "      <td>0</td>\n",
              "    </tr>\n",
              "    <tr>\n",
              "      <th>4</th>\n",
              "      <td>\"Carriers\" follows the exploits of two guys an...</td>\n",
              "      <td>0</td>\n",
              "    </tr>\n",
              "    <tr>\n",
              "      <th>...</th>\n",
              "      <td>...</td>\n",
              "      <td>...</td>\n",
              "    </tr>\n",
              "    <tr>\n",
              "      <th>49995</th>\n",
              "      <td>This movie is certainly well-constructed, begi...</td>\n",
              "      <td>1</td>\n",
              "    </tr>\n",
              "    <tr>\n",
              "      <th>49996</th>\n",
              "      <td>Nice to see a comedy for grown ups. Masterfull...</td>\n",
              "      <td>1</td>\n",
              "    </tr>\n",
              "    <tr>\n",
              "      <th>49997</th>\n",
              "      <td>Jean Renoir's homage to the Paris of the late ...</td>\n",
              "      <td>1</td>\n",
              "    </tr>\n",
              "    <tr>\n",
              "      <th>49998</th>\n",
              "      <td>What are the movies? I mean.. what are movies ...</td>\n",
              "      <td>1</td>\n",
              "    </tr>\n",
              "    <tr>\n",
              "      <th>49999</th>\n",
              "      <td>I saw this movie on TV and loved it! I am a re...</td>\n",
              "      <td>1</td>\n",
              "    </tr>\n",
              "  </tbody>\n",
              "</table>\n",
              "<p>50000 rows × 2 columns</p>\n",
              "</div>"
            ],
            "text/plain": [
              "                                                  review  sentiment\n",
              "0      Working with one of the best Shakespeare sourc...          0\n",
              "1      Well...tremors I, the original started off in ...          0\n",
              "2      Ouch! This one was a bit painful to sit throug...          0\n",
              "3      I've seen some crappy movies in my life, but t...          0\n",
              "4      \"Carriers\" follows the exploits of two guys an...          0\n",
              "...                                                  ...        ...\n",
              "49995  This movie is certainly well-constructed, begi...          1\n",
              "49996  Nice to see a comedy for grown ups. Masterfull...          1\n",
              "49997  Jean Renoir's homage to the Paris of the late ...          1\n",
              "49998  What are the movies? I mean.. what are movies ...          1\n",
              "49999  I saw this movie on TV and loved it! I am a re...          1\n",
              "\n",
              "[50000 rows x 2 columns]"
            ]
          },
          "execution_count": 11,
          "metadata": {},
          "output_type": "execute_result"
        }
      ],
      "source": [
        "# Function to clean HTML tags\n",
        "def clean_html(text):\n",
        "    return BeautifulSoup(text, 'html.parser').get_text()\n",
        "\n",
        "# Apply the function to the entire column\n",
        "df['review'] = df['review'].apply(clean_html)\n",
        "\n",
        "df"
      ]
    },
    {
      "cell_type": "markdown",
      "id": "z-1aVCM1J1im",
      "metadata": {
        "id": "z-1aVCM1J1im"
      },
      "source": [
        "We can also use regular expressions library"
      ]
    },
    {
      "cell_type": "code",
      "execution_count": 12,
      "id": "LQP7HlT5NHaD",
      "metadata": {
        "id": "LQP7HlT5NHaD"
      },
      "outputs": [],
      "source": [
        "import re\n",
        "\n",
        "def remove_html(x):\n",
        "    cleanr = re.compile('<.*?>')\n",
        "    cleantext = re.sub(cleanr, '', x)\n",
        "    return cleantext\n",
        "\n",
        "df['review'] = df['review'].apply(remove_html)"
      ]
    },
    {
      "cell_type": "code",
      "execution_count": 13,
      "id": "IPosHXfCO-dF",
      "metadata": {
        "id": "IPosHXfCO-dF"
      },
      "outputs": [
        {
          "data": {
            "text/plain": [
              "'This is another typical unbelievable and non-sensical piece of Hollywood dreck.Kurt Russell, as Snake Pliskin in a business suit, convinces me he was a better 2nd baseman. Ray Liotta as the psychotic cop is totally predictable and absurd. Madeline Stowe is her usual cardboard self, and does little to be a convincing victim.Every scene in this persiflage is absolutely predictable all the way to the end when Kurt clouts Ray with a vase or something, knocking him down and out. Kurt and Madeline then do their obligatory end-of-the-movie embrace, and EVERYBODY--- except Russell and Stowe, KNOWS Liotta is going to get back up and menace the couple again.He does, of course, and Russell drills him 10 times with his 9mm, which was ENTIRELY unnecessary. This movie could just as well ended with the bludgeoning scene--- EXCEPT Hollywood dotes on unnecessary violence, and the more they can add, or \"enhance\", the more slobbery they get.'"
            ]
          },
          "execution_count": 13,
          "metadata": {},
          "output_type": "execute_result"
        }
      ],
      "source": [
        "df.review.iloc[44]"
      ]
    },
    {
      "cell_type": "markdown",
      "id": "mciYaBfnNHaD",
      "metadata": {
        "id": "mciYaBfnNHaD"
      },
      "source": [
        "###  <font color='#eb3483'> 2. Regular Expressions </font>\n",
        "\n",
        "If you take a look at a few of the reviews, you'll notice that people write differently. Some write \"I\" with a capital letter, while others don't worry about capitalization and simply write \"i\". Some write \"cant\" while others correctly write \"can't\" with the apostrophe. Some put a space after a full stop, others don't. We don't want these arbitrary differences affecting out analyses, so let's try and standardize the text. For example, let's convect all letters to lower case:"
      ]
    },
    {
      "cell_type": "code",
      "execution_count": 14,
      "id": "jab7FJT4NHaD",
      "metadata": {
        "id": "jab7FJT4NHaD"
      },
      "outputs": [
        {
          "data": {
            "text/plain": [
              "\"i've seen some crappy movies in my life, but this one must be among the very worst. definately bottom 100 material (imo, that is).we follow two couples, the dodds (billy bob thornton as lonnie earl and natasha richardson as darlene) and the kirkendalls (patrick swayze as roy and charlize theron as candy) in one car on a roadtrip to reno.apparently, lonnie isn't too happy with his sex-life, so he cheats on his wife with candy, who's despirately trying to have a baby. roy, meanwhile, isn't too sure if his sperm is ok so he's getting it checked by a doctor.now, i had read the back of the dvd, but my girlfriend didn't, and she blurted out after about 20 minutes: 'oh yeah, she's gonna end up pregnant but her husband can't have any baby's'. spot on, as this movie is soooo predictable. as well as boring. and annoying. meaningless. offensive. terrible.an example of how much this movie stinks. the two couples set out in their big car towards nevada, when they are stopped by 2 police-officers, as they didn't stop at a stop-sign. the guys know each other and finally bribe the two officers with a case of beer. not only is this scene pointless and not important (or even relevant) for the movie, it takes about 5 minutes! it's just talk and talk and talk, without ever going somewhere.i still have to puke thinking about the ending though. apparently, roy isn't having problems down there so he is the father of the child. how many times does that happen in the movies... try something new! the cheated wife ultimately forgives her husband and best friend for having the affair and they all live happily ever after. yuck.best scene of the movie is right at the end, with a couple of shots of the grand canyon. why couldn't they just keep the camera on that for 90 minutes?one would expect more from this cast (although thornton really tries), but you can't really blame them. writers, shame on you!1/10.\""
            ]
          },
          "execution_count": 14,
          "metadata": {},
          "output_type": "execute_result"
        }
      ],
      "source": [
        "myreview = df.review.iloc[3]\n",
        "myreview = myreview.lower()\n",
        "myreview"
      ]
    },
    {
      "cell_type": "markdown",
      "id": "D2jQLSHfNHaE",
      "metadata": {
        "id": "D2jQLSHfNHaE"
      },
      "source": [
        "Now let's find and replace all the commas with a space. You're probably used to doing this on your computer in MS Word - you just hit ``ctrl/cmd + F``, type in the letter/word you want to find, and then replace it. Turns out you can also do this programmatically using the ``sub`` (substitute) function from the `re` module:"
      ]
    },
    {
      "cell_type": "code",
      "execution_count": 15,
      "id": "DT3LJ63PNHaE",
      "metadata": {
        "id": "DT3LJ63PNHaE"
      },
      "outputs": [
        {
          "data": {
            "text/plain": [
              "\"i've seen some crappy movies in my life  but this one must be among the very worst. definately bottom 100 material (imo  that is).we follow two couples  the dodds (billy bob thornton as lonnie earl and natasha richardson as darlene) and the kirkendalls (patrick swayze as roy and charlize theron as candy) in one car on a roadtrip to reno.apparently  lonnie isn't too happy with his sex-life  so he cheats on his wife with candy  who's despirately trying to have a baby. roy  meanwhile  isn't too sure if his sperm is ok so he's getting it checked by a doctor.now  i had read the back of the dvd  but my girlfriend didn't  and she blurted out after about 20 minutes: 'oh yeah  she's gonna end up pregnant but her husband can't have any baby's'. spot on  as this movie is soooo predictable. as well as boring. and annoying. meaningless. offensive. terrible.an example of how much this movie stinks. the two couples set out in their big car towards nevada  when they are stopped by 2 police-officers  as they didn't stop at a stop-sign. the guys know each other and finally bribe the two officers with a case of beer. not only is this scene pointless and not important (or even relevant) for the movie  it takes about 5 minutes! it's just talk and talk and talk  without ever going somewhere.i still have to puke thinking about the ending though. apparently  roy isn't having problems down there so he is the father of the child. how many times does that happen in the movies... try something new! the cheated wife ultimately forgives her husband and best friend for having the affair and they all live happily ever after. yuck.best scene of the movie is right at the end  with a couple of shots of the grand canyon. why couldn't they just keep the camera on that for 90 minutes?one would expect more from this cast (although thornton really tries)  but you can't really blame them. writers  shame on you!1/10.\""
            ]
          },
          "execution_count": 15,
          "metadata": {},
          "output_type": "execute_result"
        }
      ],
      "source": [
        "re.sub(\",\", \" \", myreview)"
      ]
    },
    {
      "cell_type": "markdown",
      "id": "GldMtaUmNHaE",
      "metadata": {
        "id": "GldMtaUmNHaE"
      },
      "source": [
        "``re.sub`` is actually way more powerful than this. As its first argument, it accepts a **regular expression** or **regex** which is basically a *search pattern*. We can search for **any** pattern we like. For example, we could search a text string for all phone numbers that have the format +XX-XXX-XXX-XXXX, where X is a number. A regular expression is a way to express this pattern programmatically.\n",
        "\n",
        "We are not going to have time to cover all the possible ways to express patterns, so we'll just consider the ones that are useful for this dataset. For more information in regular expressions, look at the [```re``` help page](https://docs.python.org/3/library/re.html) or Google around."
      ]
    },
    {
      "cell_type": "markdown",
      "id": "B5gpvvhgNHaE",
      "metadata": {
        "id": "B5gpvvhgNHaE"
      },
      "source": [
        "We previously replaced all commas with a space. Let's also replace full stops, underscores, question marks and exclamation marks. The regex for this is ``[,._?!]`` which translates into \"find all instances of ``,`` or ``.``\". Note that the square brackets are simply used to enclose the different symbols that we want to find. They are not included in the search."
      ]
    },
    {
      "cell_type": "code",
      "execution_count": 16,
      "id": "vPOXBtKoNHaE",
      "metadata": {
        "id": "vPOXBtKoNHaE"
      },
      "outputs": [
        {
          "data": {
            "text/plain": [
              "\"i've seen some crappy movies in my life  but this one must be among the very worst  definately bottom 100 material (imo  that is) we follow two couples  the dodds (billy bob thornton as lonnie earl and natasha richardson as darlene) and the kirkendalls (patrick swayze as roy and charlize theron as candy) in one car on a roadtrip to reno apparently  lonnie isn't too happy with his sex-life  so he cheats on his wife with candy  who's despirately trying to have a baby  roy  meanwhile  isn't too sure if his sperm is ok so he's getting it checked by a doctor now  i had read the back of the dvd  but my girlfriend didn't  and she blurted out after about 20 minutes: 'oh yeah  she's gonna end up pregnant but her husband can't have any baby's'  spot on  as this movie is soooo predictable  as well as boring  and annoying  meaningless  offensive  terrible an example of how much this movie stinks  the two couples set out in their big car towards nevada  when they are stopped by 2 police-officers  as they didn't stop at a stop-sign  the guys know each other and finally bribe the two officers with a case of beer  not only is this scene pointless and not important (or even relevant) for the movie  it takes about 5 minutes  it's just talk and talk and talk  without ever going somewhere i still have to puke thinking about the ending though  apparently  roy isn't having problems down there so he is the father of the child  how many times does that happen in the movies    try something new  the cheated wife ultimately forgives her husband and best friend for having the affair and they all live happily ever after  yuck best scene of the movie is right at the end  with a couple of shots of the grand canyon  why couldn't they just keep the camera on that for 90 minutes one would expect more from this cast (although thornton really tries)  but you can't really blame them  writers  shame on you 1/10 \""
            ]
          },
          "execution_count": 16,
          "metadata": {},
          "output_type": "execute_result"
        }
      ],
      "source": [
        "re.sub(\"[,._?!]\", \" \", myreview)"
      ]
    },
    {
      "cell_type": "markdown",
      "id": "8xnIaDghNHaE",
      "metadata": {
        "id": "8xnIaDghNHaE"
      },
      "source": [
        "Let's also get rid of the numbers. Here the regex ``[0-9]`` reads \"find any number from 0 to 9\"."
      ]
    },
    {
      "cell_type": "code",
      "execution_count": 17,
      "id": "ja3wEbC5NHaE",
      "metadata": {
        "id": "ja3wEbC5NHaE"
      },
      "outputs": [
        {
          "data": {
            "text/plain": [
              "\"i've seen some crappy movies in my life, but this one must be among the very worst. definately bottom     material (imo, that is).we follow two couples, the dodds (billy bob thornton as lonnie earl and natasha richardson as darlene) and the kirkendalls (patrick swayze as roy and charlize theron as candy) in one car on a roadtrip to reno.apparently, lonnie isn't too happy with his sex-life, so he cheats on his wife with candy, who's despirately trying to have a baby. roy, meanwhile, isn't too sure if his sperm is ok so he's getting it checked by a doctor.now, i had read the back of the dvd, but my girlfriend didn't, and she blurted out after about    minutes: 'oh yeah, she's gonna end up pregnant but her husband can't have any baby's'. spot on, as this movie is soooo predictable. as well as boring. and annoying. meaningless. offensive. terrible.an example of how much this movie stinks. the two couples set out in their big car towards nevada, when they are stopped by   police-officers, as they didn't stop at a stop-sign. the guys know each other and finally bribe the two officers with a case of beer. not only is this scene pointless and not important (or even relevant) for the movie, it takes about   minutes! it's just talk and talk and talk, without ever going somewhere.i still have to puke thinking about the ending though. apparently, roy isn't having problems down there so he is the father of the child. how many times does that happen in the movies... try something new! the cheated wife ultimately forgives her husband and best friend for having the affair and they all live happily ever after. yuck.best scene of the movie is right at the end, with a couple of shots of the grand canyon. why couldn't they just keep the camera on that for    minutes?one would expect more from this cast (although thornton really tries), but you can't really blame them. writers, shame on you! /  .\""
            ]
          },
          "execution_count": 17,
          "metadata": {},
          "output_type": "execute_result"
        }
      ],
      "source": [
        "re.sub(\"[0-9]\", \" \", myreview)"
      ]
    },
    {
      "cell_type": "markdown",
      "id": "kl7c2hFNNHaE",
      "metadata": {
        "id": "kl7c2hFNNHaE"
      },
      "source": [
        "Let's combine are two regexs to simulatanously substitute commas, fullstops, exclamation and question marks, AND all numbers:"
      ]
    },
    {
      "cell_type": "code",
      "execution_count": 18,
      "id": "kC5wPcr5NHaE",
      "metadata": {
        "id": "kC5wPcr5NHaE"
      },
      "outputs": [
        {
          "data": {
            "text/plain": [
              "\"i've seen some crappy movies in my life  but this one must be among the very worst  definately bottom     material (imo  that is) we follow two couples  the dodds (billy bob thornton as lonnie earl and natasha richardson as darlene) and the kirkendalls (patrick swayze as roy and charlize theron as candy) in one car on a roadtrip to reno apparently  lonnie isn't too happy with his sex-life  so he cheats on his wife with candy  who's despirately trying to have a baby  roy  meanwhile  isn't too sure if his sperm is ok so he's getting it checked by a doctor now  i had read the back of the dvd  but my girlfriend didn't  and she blurted out after about    minutes: 'oh yeah  she's gonna end up pregnant but her husband can't have any baby's'  spot on  as this movie is soooo predictable  as well as boring  and annoying  meaningless  offensive  terrible an example of how much this movie stinks  the two couples set out in their big car towards nevada  when they are stopped by   police-officers  as they didn't stop at a stop-sign  the guys know each other and finally bribe the two officers with a case of beer  not only is this scene pointless and not important (or even relevant) for the movie  it takes about   minutes  it's just talk and talk and talk  without ever going somewhere i still have to puke thinking about the ending though  apparently  roy isn't having problems down there so he is the father of the child  how many times does that happen in the movies    try something new  the cheated wife ultimately forgives her husband and best friend for having the affair and they all live happily ever after  yuck best scene of the movie is right at the end  with a couple of shots of the grand canyon  why couldn't they just keep the camera on that for    minutes one would expect more from this cast (although thornton really tries)  but you can't really blame them  writers  shame on you  /   \""
            ]
          },
          "execution_count": 18,
          "metadata": {},
          "output_type": "execute_result"
        }
      ],
      "source": [
        "re.sub(\"[,._?!0-9]\", \" \", myreview)"
      ]
    },
    {
      "cell_type": "markdown",
      "id": "zEnHfKXNNHaE",
      "metadata": {
        "id": "zEnHfKXNNHaE"
      },
      "source": [
        "We also probably want to get rid of the dashes in \"sex-life\" and \"police-officers\" so that these are each represented by two separate words across all reviewers. Can we just add a \"-\" into our regex?\n",
        "\n",
        "Well, no... because a dash is already being used to specify the range of numbers 0-9. Because it already has a special use in a regex, if we want to include it, we must write ``\\-`` in the regex:\n",
        "\n"
      ]
    },
    {
      "cell_type": "code",
      "execution_count": 19,
      "id": "uaJeTzQxNHaE",
      "metadata": {
        "id": "uaJeTzQxNHaE"
      },
      "outputs": [
        {
          "data": {
            "text/plain": [
              "\"i've seen some crappy movies in my life  but this one must be among the very worst  definately bottom     material (imo  that is) we follow two couples  the dodds (billy bob thornton as lonnie earl and natasha richardson as darlene) and the kirkendalls (patrick swayze as roy and charlize theron as candy) in one car on a roadtrip to reno apparently  lonnie isn't too happy with his sex life  so he cheats on his wife with candy  who's despirately trying to have a baby  roy  meanwhile  isn't too sure if his sperm is ok so he's getting it checked by a doctor now  i had read the back of the dvd  but my girlfriend didn't  and she blurted out after about    minutes: 'oh yeah  she's gonna end up pregnant but her husband can't have any baby's'  spot on  as this movie is soooo predictable  as well as boring  and annoying  meaningless  offensive  terrible an example of how much this movie stinks  the two couples set out in their big car towards nevada  when they are stopped by   police officers  as they didn't stop at a stop sign  the guys know each other and finally bribe the two officers with a case of beer  not only is this scene pointless and not important (or even relevant) for the movie  it takes about   minutes  it's just talk and talk and talk  without ever going somewhere i still have to puke thinking about the ending though  apparently  roy isn't having problems down there so he is the father of the child  how many times does that happen in the movies    try something new  the cheated wife ultimately forgives her husband and best friend for having the affair and they all live happily ever after  yuck best scene of the movie is right at the end  with a couple of shots of the grand canyon  why couldn't they just keep the camera on that for    minutes one would expect more from this cast (although thornton really tries)  but you can't really blame them  writers  shame on you  /   \""
            ]
          },
          "execution_count": 19,
          "metadata": {},
          "output_type": "execute_result"
        }
      ],
      "source": [
        "re.sub(\"[,._?!0-9\\-]\", \" \", myreview)"
      ]
    },
    {
      "cell_type": "markdown",
      "id": "DMXpjcKANHaE",
      "metadata": {
        "id": "DMXpjcKANHaE"
      },
      "source": [
        "Similarly, the following *special* symbols also need to be preceded by a slash \"\\\\\":\n",
        "\n",
        "( ) [ ] & | \" / \\"
      ]
    },
    {
      "cell_type": "code",
      "execution_count": 20,
      "id": "x80oHGyPNHaF",
      "metadata": {
        "id": "x80oHGyPNHaF"
      },
      "outputs": [
        {
          "data": {
            "text/plain": [
              "\"i've seen some crappy movies in my life  but this one must be among the very worst  definately bottom     material  imo  that is  we follow two couples  the dodds  billy bob thornton as lonnie earl and natasha richardson as darlene  and the kirkendalls  patrick swayze as roy and charlize theron as candy  in one car on a roadtrip to reno apparently  lonnie isn't too happy with his sex life  so he cheats on his wife with candy  who's despirately trying to have a baby  roy  meanwhile  isn't too sure if his sperm is ok so he's getting it checked by a doctor now  i had read the back of the dvd  but my girlfriend didn't  and she blurted out after about    minutes: 'oh yeah  she's gonna end up pregnant but her husband can't have any baby's'  spot on  as this movie is soooo predictable  as well as boring  and annoying  meaningless  offensive  terrible an example of how much this movie stinks  the two couples set out in their big car towards nevada  when they are stopped by   police officers  as they didn't stop at a stop sign  the guys know each other and finally bribe the two officers with a case of beer  not only is this scene pointless and not important  or even relevant  for the movie  it takes about   minutes  it's just talk and talk and talk  without ever going somewhere i still have to puke thinking about the ending though  apparently  roy isn't having problems down there so he is the father of the child  how many times does that happen in the movies    try something new  the cheated wife ultimately forgives her husband and best friend for having the affair and they all live happily ever after  yuck best scene of the movie is right at the end  with a couple of shots of the grand canyon  why couldn't they just keep the camera on that for    minutes one would expect more from this cast  although thornton really tries   but you can't really blame them  writers  shame on you      \""
            ]
          },
          "execution_count": 20,
          "metadata": {},
          "output_type": "execute_result"
        }
      ],
      "source": [
        "re.sub(\"[.,_\\-!?\\(\\)\\/0-9]\", \" \", myreview)"
      ]
    },
    {
      "cell_type": "markdown",
      "id": "35Q8ugcsNHaF",
      "metadata": {
        "id": "35Q8ugcsNHaF"
      },
      "source": [
        "You may have noticed that we can end up with a lot of space between some words. A space is itself a character (we just can't see it). We can match a single space with the regex `[ ]`, but what if we want to match 1 or more spaces, so that we can, for instance, replaces three consecutive spaces with a single space? Easy peazy! We just use `[ ]+` as our regex:"
      ]
    },
    {
      "cell_type": "code",
      "execution_count": 21,
      "id": "9vjy2AIuNHaF",
      "metadata": {
        "id": "9vjy2AIuNHaF"
      },
      "outputs": [
        {
          "data": {
            "text/plain": [
              "\"i've seen some crappy movies in my life but this one must be among the very worst definately bottom material imo that is we follow two couples the dodds billy bob thornton as lonnie earl and natasha richardson as darlene and the kirkendalls patrick swayze as roy and charlize theron as candy in one car on a roadtrip to reno apparently lonnie isn't too happy with his sex life so he cheats on his wife with candy who's despirately trying to have a baby roy meanwhile isn't too sure if his sperm is ok so he's getting it checked by a doctor now i had read the back of the dvd but my girlfriend didn't and she blurted out after about minutes: 'oh yeah she's gonna end up pregnant but her husband can't have any baby's' spot on as this movie is soooo predictable as well as boring and annoying meaningless offensive terrible an example of how much this movie stinks the two couples set out in their big car towards nevada when they are stopped by police officers as they didn't stop at a stop sign the guys know each other and finally bribe the two officers with a case of beer not only is this scene pointless and not important or even relevant for the movie it takes about minutes it's just talk and talk and talk without ever going somewhere i still have to puke thinking about the ending though apparently roy isn't having problems down there so he is the father of the child how many times does that happen in the movies try something new the cheated wife ultimately forgives her husband and best friend for having the affair and they all live happily ever after yuck best scene of the movie is right at the end with a couple of shots of the grand canyon why couldn't they just keep the camera on that for minutes one would expect more from this cast although thornton really tries but you can't really blame them writers shame on you \""
            ]
          },
          "execution_count": 21,
          "metadata": {},
          "output_type": "execute_result"
        }
      ],
      "source": [
        "myreview = re.sub(\"[.,_\\-!?\\(\\)\\/0-9]\", \" \", myreview)\n",
        "myreview = re.sub(\"[ ]+\", \" \", myreview)\n",
        "myreview"
      ]
    },
    {
      "cell_type": "markdown",
      "id": "bQDRZUllNHaF",
      "metadata": {
        "id": "bQDRZUllNHaF"
      },
      "source": [
        "No more multiple spaces! Finally, let's remove the apostrophes from all contractions (e.g. can't, don't, etc) and possesive words (reviewer's --> reviewers), so that this is handled consistently across reviewers. Instead of replacing it with a space, we will replace it with nothing (that is, ``\"\"``) so we effectly remove it:"
      ]
    },
    {
      "cell_type": "code",
      "execution_count": 22,
      "id": "d3VyuXp9NHaF",
      "metadata": {
        "id": "d3VyuXp9NHaF"
      },
      "outputs": [
        {
          "data": {
            "text/plain": [
              "'ive seen some crappy movies in my life but this one must be among the very worst definately bottom material imo that is we follow two couples the dodds billy bob thornton as lonnie earl and natasha richardson as darlene and the kirkendalls patrick swayze as roy and charlize theron as candy in one car on a roadtrip to reno apparently lonnie isnt too happy with his sex life so he cheats on his wife with candy whos despirately trying to have a baby roy meanwhile isnt too sure if his sperm is ok so hes getting it checked by a doctor now i had read the back of the dvd but my girlfriend didnt and she blurted out after about minutes: oh yeah shes gonna end up pregnant but her husband cant have any babys spot on as this movie is soooo predictable as well as boring and annoying meaningless offensive terrible an example of how much this movie stinks the two couples set out in their big car towards nevada when they are stopped by police officers as they didnt stop at a stop sign the guys know each other and finally bribe the two officers with a case of beer not only is this scene pointless and not important or even relevant for the movie it takes about minutes its just talk and talk and talk without ever going somewhere i still have to puke thinking about the ending though apparently roy isnt having problems down there so he is the father of the child how many times does that happen in the movies try something new the cheated wife ultimately forgives her husband and best friend for having the affair and they all live happily ever after yuck best scene of the movie is right at the end with a couple of shots of the grand canyon why couldnt they just keep the camera on that for minutes one would expect more from this cast although thornton really tries but you cant really blame them writers shame on you '"
            ]
          },
          "execution_count": 22,
          "metadata": {},
          "output_type": "execute_result"
        }
      ],
      "source": [
        "myreview = re.sub(\"'\", \"\", myreview)\n",
        "myreview"
      ]
    },
    {
      "cell_type": "markdown",
      "id": "E806uNm8NHaF",
      "metadata": {
        "id": "E806uNm8NHaF"
      },
      "source": [
        "That looks good! Let's put everything we've done into a single function and apply it to all reviews:"
      ]
    },
    {
      "cell_type": "code",
      "execution_count": 23,
      "id": "aqob29EyNHaF",
      "metadata": {
        "id": "aqob29EyNHaF"
      },
      "outputs": [],
      "source": [
        "def reformat_string(x):\n",
        "    x = x.lower() # change to a lower case\n",
        "    x = re.sub('[.,_\\-!?\\(\\)\\/\\\"\\&0-9]', \" \", x) # remove certain characters\n",
        "    x = re.sub(\"[ ]+\", \" \", x) # replace multiple spaces with a single one\n",
        "    x = re.sub(\"'\", \"\", x) # remove apostrophes\n",
        "    return x\n",
        "\n",
        "df['review'] = df.review.apply(reformat_string)"
      ]
    },
    {
      "cell_type": "code",
      "execution_count": 24,
      "id": "JUUaDoc_NHaF",
      "metadata": {
        "id": "JUUaDoc_NHaF"
      },
      "outputs": [
        {
          "data": {
            "text/plain": [
              "'working with one of the best shakespeare sources this film manages to be creditable to its source whilst still appealing to a wider audience branagh steals the film from under fishburnes nose and theres a talented cast on good form '"
            ]
          },
          "execution_count": 24,
          "metadata": {},
          "output_type": "execute_result"
        }
      ],
      "source": [
        "df.review.iloc[0]"
      ]
    },
    {
      "cell_type": "code",
      "execution_count": 25,
      "id": "er9mBsiVNHaF",
      "metadata": {
        "id": "er9mBsiVNHaF"
      },
      "outputs": [
        {
          "data": {
            "text/plain": [
              "'well tremors i the original started off in and i found the movie quite enjoyable to watch however they proceeded to make tremors ii and iii trust me those movies started going downhill right after they finished the first one i mean ass blasters now only god himself is capable of answering the question why in gods name would they create another one of these dumpster dives of a movie tremors iv cannot be considered a bad movie in fact it cannot be even considered an epitome of a bad movie for it lives up to more than that as i attempted to sit though it i noticed that my eyes started to bleed and i hoped profusely that the little girl from the ring would crawl through the tv and kill me did they really think that dressing the people who had stared in the other movies up as though they were from the wild west would make the movie with the exact same occurrences any better honestly i would never suggest buying this movie i mean there are cheaper ways to find things that burn well '"
            ]
          },
          "execution_count": 25,
          "metadata": {},
          "output_type": "execute_result"
        }
      ],
      "source": [
        "df.review.iloc[1]"
      ]
    },
    {
      "cell_type": "markdown",
      "id": "4fuFV8tXNHaM",
      "metadata": {
        "id": "4fuFV8tXNHaM"
      },
      "source": [
        "### <font color='#eb3483'> 3. Stop Words </font>\n",
        "\n",
        "Let's go back to our movies dataset and have a look at the first review, for example:"
      ]
    },
    {
      "cell_type": "code",
      "execution_count": 26,
      "id": "sk9qzKzKNHaM",
      "metadata": {
        "id": "sk9qzKzKNHaM"
      },
      "outputs": [
        {
          "data": {
            "text/plain": [
              "'working with one of the best shakespeare sources this film manages to be creditable to its source whilst still appealing to a wider audience branagh steals the film from under fishburnes nose and theres a talented cast on good form '"
            ]
          },
          "execution_count": 26,
          "metadata": {},
          "output_type": "execute_result"
        }
      ],
      "source": [
        "df.review.iloc[0]"
      ]
    },
    {
      "cell_type": "markdown",
      "id": "O99wYjPgNHaM",
      "metadata": {
        "id": "O99wYjPgNHaM"
      },
      "source": [
        "Many of the words in this sentence are unlikely to be helpful for predicting the reviewer's sentiment. For example, \"with\", \"of\", \"the\", \"this\" and so on. Such words are referred to as **stop words**, and we would usually like to remove them from the sentence.\n",
        "\n",
        "The ```nltk``` (**n**atural **l**anguage **t**ool**k**it) library contains a set of 179 English stop words. We can use this list to omit stop words from our reviews:"
      ]
    },
    {
      "cell_type": "code",
      "execution_count": 27,
      "id": "LXV5cnbnNHaM",
      "metadata": {
        "id": "LXV5cnbnNHaM"
      },
      "outputs": [
        {
          "name": "stderr",
          "output_type": "stream",
          "text": [
            "[nltk_data] Downloading package stopwords to\n",
            "[nltk_data]     /Users/mollyrudisill/nltk_data...\n"
          ]
        },
        {
          "name": "stdout",
          "output_type": "stream",
          "text": [
            "List contains 179 stopwords\n"
          ]
        },
        {
          "name": "stderr",
          "output_type": "stream",
          "text": [
            "[nltk_data]   Unzipping corpora/stopwords.zip.\n"
          ]
        },
        {
          "data": {
            "text/plain": [
              "['i',\n",
              " 'me',\n",
              " 'my',\n",
              " 'myself',\n",
              " 'we',\n",
              " 'our',\n",
              " 'ours',\n",
              " 'ourselves',\n",
              " 'you',\n",
              " \"you're\",\n",
              " \"you've\",\n",
              " \"you'll\",\n",
              " \"you'd\",\n",
              " 'your',\n",
              " 'yours',\n",
              " 'yourself',\n",
              " 'yourselves',\n",
              " 'he',\n",
              " 'him',\n",
              " 'his',\n",
              " 'himself',\n",
              " 'she',\n",
              " \"she's\",\n",
              " 'her',\n",
              " 'hers',\n",
              " 'herself',\n",
              " 'it',\n",
              " \"it's\",\n",
              " 'its',\n",
              " 'itself',\n",
              " 'they',\n",
              " 'them',\n",
              " 'their',\n",
              " 'theirs',\n",
              " 'themselves',\n",
              " 'what',\n",
              " 'which',\n",
              " 'who',\n",
              " 'whom',\n",
              " 'this',\n",
              " 'that',\n",
              " \"that'll\",\n",
              " 'these',\n",
              " 'those',\n",
              " 'am',\n",
              " 'is',\n",
              " 'are',\n",
              " 'was',\n",
              " 'were',\n",
              " 'be',\n",
              " 'been',\n",
              " 'being',\n",
              " 'have',\n",
              " 'has',\n",
              " 'had',\n",
              " 'having',\n",
              " 'do',\n",
              " 'does',\n",
              " 'did',\n",
              " 'doing',\n",
              " 'a',\n",
              " 'an',\n",
              " 'the',\n",
              " 'and',\n",
              " 'but',\n",
              " 'if',\n",
              " 'or',\n",
              " 'because',\n",
              " 'as',\n",
              " 'until',\n",
              " 'while',\n",
              " 'of',\n",
              " 'at',\n",
              " 'by',\n",
              " 'for',\n",
              " 'with',\n",
              " 'about',\n",
              " 'against',\n",
              " 'between',\n",
              " 'into',\n",
              " 'through',\n",
              " 'during',\n",
              " 'before',\n",
              " 'after',\n",
              " 'above',\n",
              " 'below',\n",
              " 'to',\n",
              " 'from',\n",
              " 'up',\n",
              " 'down',\n",
              " 'in',\n",
              " 'out',\n",
              " 'on',\n",
              " 'off',\n",
              " 'over',\n",
              " 'under',\n",
              " 'again',\n",
              " 'further',\n",
              " 'then',\n",
              " 'once',\n",
              " 'here',\n",
              " 'there',\n",
              " 'when',\n",
              " 'where',\n",
              " 'why',\n",
              " 'how',\n",
              " 'all',\n",
              " 'any',\n",
              " 'both',\n",
              " 'each',\n",
              " 'few',\n",
              " 'more',\n",
              " 'most',\n",
              " 'other',\n",
              " 'some',\n",
              " 'such',\n",
              " 'no',\n",
              " 'nor',\n",
              " 'not',\n",
              " 'only',\n",
              " 'own',\n",
              " 'same',\n",
              " 'so',\n",
              " 'than',\n",
              " 'too',\n",
              " 'very',\n",
              " 's',\n",
              " 't',\n",
              " 'can',\n",
              " 'will',\n",
              " 'just',\n",
              " 'don',\n",
              " \"don't\",\n",
              " 'should',\n",
              " \"should've\",\n",
              " 'now',\n",
              " 'd',\n",
              " 'll',\n",
              " 'm',\n",
              " 'o',\n",
              " 're',\n",
              " 've',\n",
              " 'y',\n",
              " 'ain',\n",
              " 'aren',\n",
              " \"aren't\",\n",
              " 'couldn',\n",
              " \"couldn't\",\n",
              " 'didn',\n",
              " \"didn't\",\n",
              " 'doesn',\n",
              " \"doesn't\",\n",
              " 'hadn',\n",
              " \"hadn't\",\n",
              " 'hasn',\n",
              " \"hasn't\",\n",
              " 'haven',\n",
              " \"haven't\",\n",
              " 'isn',\n",
              " \"isn't\",\n",
              " 'ma',\n",
              " 'mightn',\n",
              " \"mightn't\",\n",
              " 'mustn',\n",
              " \"mustn't\",\n",
              " 'needn',\n",
              " \"needn't\",\n",
              " 'shan',\n",
              " \"shan't\",\n",
              " 'shouldn',\n",
              " \"shouldn't\",\n",
              " 'wasn',\n",
              " \"wasn't\",\n",
              " 'weren',\n",
              " \"weren't\",\n",
              " 'won',\n",
              " \"won't\",\n",
              " 'wouldn',\n",
              " \"wouldn't\"]"
            ]
          },
          "execution_count": 27,
          "metadata": {},
          "output_type": "execute_result"
        }
      ],
      "source": [
        "nltk.download('stopwords') # need to run this the first time only\n",
        "\n",
        "from nltk.corpus import stopwords\n",
        "stop = stopwords.words('english')\n",
        "print('List contains', len(stop), 'stopwords')\n",
        "stop"
      ]
    },
    {
      "cell_type": "markdown",
      "id": "9v1OV5bPNHaM",
      "metadata": {
        "id": "9v1OV5bPNHaM"
      },
      "source": [
        "Note that the stop words list contains contractions such as \"you're\" and \"you've\" that include an apostophe. Since we removed the apostrophes in our reviews, we will begin by removing them in the stop word list, and then exclude all the words in the stop word list from our reviews."
      ]
    },
    {
      "cell_type": "code",
      "execution_count": 28,
      "id": "SSUrVPeYNHaM",
      "metadata": {
        "id": "SSUrVPeYNHaM"
      },
      "outputs": [
        {
          "data": {
            "text/plain": [
              "['i',\n",
              " 'me',\n",
              " 'my',\n",
              " 'myself',\n",
              " 'we',\n",
              " 'our',\n",
              " 'ours',\n",
              " 'ourselves',\n",
              " 'you',\n",
              " 'youre',\n",
              " 'youve',\n",
              " 'youll',\n",
              " 'youd',\n",
              " 'your',\n",
              " 'yours',\n",
              " 'yourself',\n",
              " 'yourselves',\n",
              " 'he',\n",
              " 'him',\n",
              " 'his',\n",
              " 'himself',\n",
              " 'she',\n",
              " 'shes',\n",
              " 'her',\n",
              " 'hers',\n",
              " 'herself',\n",
              " 'it',\n",
              " 'its',\n",
              " 'its',\n",
              " 'itself',\n",
              " 'they',\n",
              " 'them',\n",
              " 'their',\n",
              " 'theirs',\n",
              " 'themselves',\n",
              " 'what',\n",
              " 'which',\n",
              " 'who',\n",
              " 'whom',\n",
              " 'this',\n",
              " 'that',\n",
              " 'thatll',\n",
              " 'these',\n",
              " 'those',\n",
              " 'am',\n",
              " 'is',\n",
              " 'are',\n",
              " 'was',\n",
              " 'were',\n",
              " 'be',\n",
              " 'been',\n",
              " 'being',\n",
              " 'have',\n",
              " 'has',\n",
              " 'had',\n",
              " 'having',\n",
              " 'do',\n",
              " 'does',\n",
              " 'did',\n",
              " 'doing',\n",
              " 'a',\n",
              " 'an',\n",
              " 'the',\n",
              " 'and',\n",
              " 'but',\n",
              " 'if',\n",
              " 'or',\n",
              " 'because',\n",
              " 'as',\n",
              " 'until',\n",
              " 'while',\n",
              " 'of',\n",
              " 'at',\n",
              " 'by',\n",
              " 'for',\n",
              " 'with',\n",
              " 'about',\n",
              " 'against',\n",
              " 'between',\n",
              " 'into',\n",
              " 'through',\n",
              " 'during',\n",
              " 'before',\n",
              " 'after',\n",
              " 'above',\n",
              " 'below',\n",
              " 'to',\n",
              " 'from',\n",
              " 'up',\n",
              " 'down',\n",
              " 'in',\n",
              " 'out',\n",
              " 'on',\n",
              " 'off',\n",
              " 'over',\n",
              " 'under',\n",
              " 'again',\n",
              " 'further',\n",
              " 'then',\n",
              " 'once',\n",
              " 'here',\n",
              " 'there',\n",
              " 'when',\n",
              " 'where',\n",
              " 'why',\n",
              " 'how',\n",
              " 'all',\n",
              " 'any',\n",
              " 'both',\n",
              " 'each',\n",
              " 'few',\n",
              " 'more',\n",
              " 'most',\n",
              " 'other',\n",
              " 'some',\n",
              " 'such',\n",
              " 'no',\n",
              " 'nor',\n",
              " 'not',\n",
              " 'only',\n",
              " 'own',\n",
              " 'same',\n",
              " 'so',\n",
              " 'than',\n",
              " 'too',\n",
              " 'very',\n",
              " 's',\n",
              " 't',\n",
              " 'can',\n",
              " 'will',\n",
              " 'just',\n",
              " 'don',\n",
              " 'dont',\n",
              " 'should',\n",
              " 'shouldve',\n",
              " 'now',\n",
              " 'd',\n",
              " 'll',\n",
              " 'm',\n",
              " 'o',\n",
              " 're',\n",
              " 've',\n",
              " 'y',\n",
              " 'ain',\n",
              " 'aren',\n",
              " 'arent',\n",
              " 'couldn',\n",
              " 'couldnt',\n",
              " 'didn',\n",
              " 'didnt',\n",
              " 'doesn',\n",
              " 'doesnt',\n",
              " 'hadn',\n",
              " 'hadnt',\n",
              " 'hasn',\n",
              " 'hasnt',\n",
              " 'haven',\n",
              " 'havent',\n",
              " 'isn',\n",
              " 'isnt',\n",
              " 'ma',\n",
              " 'mightn',\n",
              " 'mightnt',\n",
              " 'mustn',\n",
              " 'mustnt',\n",
              " 'needn',\n",
              " 'neednt',\n",
              " 'shan',\n",
              " 'shant',\n",
              " 'shouldn',\n",
              " 'shouldnt',\n",
              " 'wasn',\n",
              " 'wasnt',\n",
              " 'weren',\n",
              " 'werent',\n",
              " 'won',\n",
              " 'wont',\n",
              " 'wouldn',\n",
              " 'wouldnt']"
            ]
          },
          "execution_count": 28,
          "metadata": {},
          "output_type": "execute_result"
        }
      ],
      "source": [
        "stop = [re.sub(\"'\", \"\", w) for w in stop] # list comprehension\n",
        "stop"
      ]
    },
    {
      "cell_type": "code",
      "execution_count": 29,
      "id": "gCMwwGYUNHaM",
      "metadata": {
        "id": "gCMwwGYUNHaM"
      },
      "outputs": [
        {
          "data": {
            "text/plain": [
              "'working with one of the best shakespeare sources this film manages to be creditable to its source whilst still appealing to a wider audience branagh steals the film from under fishburnes nose and theres a talented cast on good form '"
            ]
          },
          "execution_count": 29,
          "metadata": {},
          "output_type": "execute_result"
        }
      ],
      "source": [
        "df.review.iloc[0]"
      ]
    },
    {
      "cell_type": "code",
      "execution_count": 30,
      "id": "tvO-HUbZNHaN",
      "metadata": {
        "id": "tvO-HUbZNHaN"
      },
      "outputs": [
        {
          "data": {
            "text/plain": [
              "'working one best shakespeare sources film manages creditable source whilst still appealing wider audience branagh steals film fishburnes nose theres talented cast good form'"
            ]
          },
          "execution_count": 30,
          "metadata": {},
          "output_type": "execute_result"
        }
      ],
      "source": [
        "# Split the string in the first element into a list of words.\n",
        "# Iterate over each word w in the list of words and include w in the resulting list only if it is not in the stop list.\n",
        "# Join the words back together with a space seperating each word\n",
        "' '.join([w for w in df.review.iloc[0].split() if w not in stop])"
      ]
    },
    {
      "cell_type": "markdown",
      "id": "woVMC50zNHaN",
      "metadata": {
        "id": "woVMC50zNHaN"
      },
      "source": [
        "Now we're ready to put this into a general function that we can apply to all reviews in our dataset:"
      ]
    },
    {
      "cell_type": "code",
      "execution_count": 31,
      "id": "dzWzbcCnNHaN",
      "metadata": {
        "id": "dzWzbcCnNHaN"
      },
      "outputs": [
        {
          "data": {
            "text/html": [
              "<div>\n",
              "<style scoped>\n",
              "    .dataframe tbody tr th:only-of-type {\n",
              "        vertical-align: middle;\n",
              "    }\n",
              "\n",
              "    .dataframe tbody tr th {\n",
              "        vertical-align: top;\n",
              "    }\n",
              "\n",
              "    .dataframe thead th {\n",
              "        text-align: right;\n",
              "    }\n",
              "</style>\n",
              "<table border=\"1\" class=\"dataframe\">\n",
              "  <thead>\n",
              "    <tr style=\"text-align: right;\">\n",
              "      <th></th>\n",
              "      <th>review</th>\n",
              "      <th>sentiment</th>\n",
              "    </tr>\n",
              "  </thead>\n",
              "  <tbody>\n",
              "    <tr>\n",
              "      <th>0</th>\n",
              "      <td>working one best shakespeare sources film mana...</td>\n",
              "      <td>0</td>\n",
              "    </tr>\n",
              "    <tr>\n",
              "      <th>1</th>\n",
              "      <td>well tremors original started found movie quit...</td>\n",
              "      <td>0</td>\n",
              "    </tr>\n",
              "    <tr>\n",
              "      <th>2</th>\n",
              "      <td>ouch one bit painful sit cute amusing premise ...</td>\n",
              "      <td>0</td>\n",
              "    </tr>\n",
              "    <tr>\n",
              "      <th>3</th>\n",
              "      <td>ive seen crappy movies life one must among wor...</td>\n",
              "      <td>0</td>\n",
              "    </tr>\n",
              "    <tr>\n",
              "      <th>4</th>\n",
              "      <td>carriers follows exploits two guys two gals st...</td>\n",
              "      <td>0</td>\n",
              "    </tr>\n",
              "  </tbody>\n",
              "</table>\n",
              "</div>"
            ],
            "text/plain": [
              "                                              review  sentiment\n",
              "0  working one best shakespeare sources film mana...          0\n",
              "1  well tremors original started found movie quit...          0\n",
              "2  ouch one bit painful sit cute amusing premise ...          0\n",
              "3  ive seen crappy movies life one must among wor...          0\n",
              "4  carriers follows exploits two guys two gals st...          0"
            ]
          },
          "execution_count": 31,
          "metadata": {},
          "output_type": "execute_result"
        }
      ],
      "source": [
        "def remove_stopwords(x):\n",
        "    return ' '.join([w for w in x.split() if w not in stop])\n",
        "\n",
        "df['review'] = df.review.apply(remove_stopwords)\n",
        "df.head()"
      ]
    },
    {
      "cell_type": "markdown",
      "id": "xvYU-Sx5NHaN",
      "metadata": {
        "id": "xvYU-Sx5NHaN"
      },
      "source": [
        "### <font color='#eb3483'> 5. Stemming & Lemmatization </font>\n",
        "\n",
        "Many words with the same meaning can be written in slighly different ways depending, for example, on tense (past, present and future tense) and plurality (singular vs plural). For example, \"run\", \"ran\", \"runs\" and \"running\" all refer to the same concept of \"running\" and we would therefore like to represent all of these different words as a single feature in our model for predicting sentiment. We can use stemming or lemmatization to achieve this.\n",
        "\n",
        "**Stemming** is the process of transforming a word into its root form to allow us to map related words to the same stem. There are many different stemming algorithms; we will use the first such algo developed by Martin Porter in 1979 and thus known as Porter stemming:"
      ]
    },
    {
      "cell_type": "code",
      "execution_count": 32,
      "id": "E5YoqKUANHaN",
      "metadata": {
        "id": "E5YoqKUANHaN"
      },
      "outputs": [],
      "source": [
        "from nltk.stem import PorterStemmer\n",
        "stemmer = PorterStemmer()"
      ]
    },
    {
      "cell_type": "code",
      "execution_count": 33,
      "id": "8zDQ1v-6NHaN",
      "metadata": {
        "id": "8zDQ1v-6NHaN"
      },
      "outputs": [
        {
          "data": {
            "text/html": [
              "<div>\n",
              "<style scoped>\n",
              "    .dataframe tbody tr th:only-of-type {\n",
              "        vertical-align: middle;\n",
              "    }\n",
              "\n",
              "    .dataframe tbody tr th {\n",
              "        vertical-align: top;\n",
              "    }\n",
              "\n",
              "    .dataframe thead th {\n",
              "        text-align: right;\n",
              "    }\n",
              "</style>\n",
              "<table border=\"1\" class=\"dataframe\">\n",
              "  <thead>\n",
              "    <tr style=\"text-align: right;\">\n",
              "      <th></th>\n",
              "      <th>review</th>\n",
              "      <th>sentiment</th>\n",
              "    </tr>\n",
              "  </thead>\n",
              "  <tbody>\n",
              "    <tr>\n",
              "      <th>0</th>\n",
              "      <td>work one best shakespear sourc film manag cred...</td>\n",
              "      <td>0</td>\n",
              "    </tr>\n",
              "    <tr>\n",
              "      <th>1</th>\n",
              "      <td>well tremor origin start found movi quit enjoy...</td>\n",
              "      <td>0</td>\n",
              "    </tr>\n",
              "    <tr>\n",
              "      <th>2</th>\n",
              "      <td>ouch one bit pain sit cute amus premis goe hel...</td>\n",
              "      <td>0</td>\n",
              "    </tr>\n",
              "    <tr>\n",
              "      <th>3</th>\n",
              "      <td>ive seen crappi movi life one must among worst...</td>\n",
              "      <td>0</td>\n",
              "    </tr>\n",
              "    <tr>\n",
              "      <th>4</th>\n",
              "      <td>carrier follow exploit two guy two gal stolen ...</td>\n",
              "      <td>0</td>\n",
              "    </tr>\n",
              "  </tbody>\n",
              "</table>\n",
              "</div>"
            ],
            "text/plain": [
              "                                              review  sentiment\n",
              "0  work one best shakespear sourc film manag cred...          0\n",
              "1  well tremor origin start found movi quit enjoy...          0\n",
              "2  ouch one bit pain sit cute amus premis goe hel...          0\n",
              "3  ive seen crappi movi life one must among worst...          0\n",
              "4  carrier follow exploit two guy two gal stolen ...          0"
            ]
          },
          "execution_count": 33,
          "metadata": {},
          "output_type": "execute_result"
        }
      ],
      "source": [
        "def stemming(x):\n",
        "    words = [stemmer.stem(w) for w in x.split()] # do stemming\n",
        "    return ' '.join(words)\n",
        "\n",
        "df['review'] = df.review.apply(stemming) # this may take a few minutes if the dataset is large\n",
        "df.head()"
      ]
    },
    {
      "cell_type": "markdown",
      "id": "XgveI8m6NHaN",
      "metadata": {
        "id": "XgveI8m6NHaN"
      },
      "source": [
        "Sometimes, stemming produces non-real words. This is usually not a problem. However, if we want gramatically correct words, we can use a similar process called **lemmatization** that attempts to identify the canonical form of a word:"
      ]
    },
    {
      "cell_type": "code",
      "execution_count": 34,
      "id": "j7PlVg_nNHaN",
      "metadata": {
        "id": "j7PlVg_nNHaN"
      },
      "outputs": [
        {
          "name": "stderr",
          "output_type": "stream",
          "text": [
            "[nltk_data] Downloading package wordnet to\n",
            "[nltk_data]     /Users/mollyrudisill/nltk_data...\n"
          ]
        },
        {
          "data": {
            "text/html": [
              "<div>\n",
              "<style scoped>\n",
              "    .dataframe tbody tr th:only-of-type {\n",
              "        vertical-align: middle;\n",
              "    }\n",
              "\n",
              "    .dataframe tbody tr th {\n",
              "        vertical-align: top;\n",
              "    }\n",
              "\n",
              "    .dataframe thead th {\n",
              "        text-align: right;\n",
              "    }\n",
              "</style>\n",
              "<table border=\"1\" class=\"dataframe\">\n",
              "  <thead>\n",
              "    <tr style=\"text-align: right;\">\n",
              "      <th></th>\n",
              "      <th>review</th>\n",
              "      <th>sentiment</th>\n",
              "    </tr>\n",
              "  </thead>\n",
              "  <tbody>\n",
              "    <tr>\n",
              "      <th>0</th>\n",
              "      <td>work one best shakespear sourc film manag cred...</td>\n",
              "      <td>0</td>\n",
              "    </tr>\n",
              "    <tr>\n",
              "      <th>1</th>\n",
              "      <td>well tremor origin start found movi quit enjoy...</td>\n",
              "      <td>0</td>\n",
              "    </tr>\n",
              "    <tr>\n",
              "      <th>2</th>\n",
              "      <td>ouch one bit pain sit cute amus premis goe hel...</td>\n",
              "      <td>0</td>\n",
              "    </tr>\n",
              "    <tr>\n",
              "      <th>3</th>\n",
              "      <td>ive seen crappi movi life one must among worst...</td>\n",
              "      <td>0</td>\n",
              "    </tr>\n",
              "    <tr>\n",
              "      <th>4</th>\n",
              "      <td>carrier follow exploit two guy two gal stolen ...</td>\n",
              "      <td>0</td>\n",
              "    </tr>\n",
              "  </tbody>\n",
              "</table>\n",
              "</div>"
            ],
            "text/plain": [
              "                                              review  sentiment\n",
              "0  work one best shakespear sourc film manag cred...          0\n",
              "1  well tremor origin start found movi quit enjoy...          0\n",
              "2  ouch one bit pain sit cute amus premis goe hel...          0\n",
              "3  ive seen crappi movi life one must among worst...          0\n",
              "4  carrier follow exploit two guy two gal stolen ...          0"
            ]
          },
          "execution_count": 34,
          "metadata": {},
          "output_type": "execute_result"
        }
      ],
      "source": [
        "from nltk.stem import WordNetLemmatizer\n",
        "nltk.download('wordnet') # run this the first time you use it\n",
        "\n",
        "lemmatizer = WordNetLemmatizer()\n",
        "\n",
        "# Function to lemmatize each word in a string\n",
        "def lemmatize_text(text):\n",
        "    return ' '.join([lemmatizer.lemmatize(word) for word in text.split()])\n",
        "\n",
        "# Apply the function to the 'text' column\n",
        "df['review'] = df['review'].apply(lemmatize_text)\n",
        "\n",
        "df.head()"
      ]
    },
    {
      "cell_type": "markdown",
      "id": "umIqM7zBNHaO",
      "metadata": {
        "id": "umIqM7zBNHaO"
      },
      "source": [
        "## <font color='#eb3483'> Formatting the Data for Machine Learning </font>\n",
        "\n",
        "Now that the reviews have been cleaned, we need to convert them into features that can be used in an ML algo.\n",
        "\n",
        "In a **bag-of-words** model, the frequency of each word in a sentence is regarded as a separate feature, *ignoring its context or adjacent words within a sentence*. In our movies dataset, the idea is that certain words would be more common in negative reviews, while other words would occur more frequently in positive reviews.\n",
        "\n",
        "Since feature engineering should always be performed on the training set and **not** on the test data, we begin by dividing our movies data into train and test sets, and make all of our decisions on the training data. In this dataset, I have already ordered the rows, so that the first 25,000 rows are the training set and the last 25,000 rows are the test set:"
      ]
    },
    {
      "cell_type": "code",
      "execution_count": 35,
      "id": "GzfXIgP8NHaO",
      "metadata": {
        "id": "GzfXIgP8NHaO"
      },
      "outputs": [],
      "source": [
        "train = df[:25000]\n",
        "test = df[25000:]"
      ]
    },
    {
      "cell_type": "code",
      "execution_count": 36,
      "id": "zRPiGX9vNHaO",
      "metadata": {
        "id": "zRPiGX9vNHaO"
      },
      "outputs": [
        {
          "data": {
            "text/plain": [
              "sentiment\n",
              "0    12500\n",
              "1    12500\n",
              "Name: count, dtype: int64"
            ]
          },
          "execution_count": 36,
          "metadata": {},
          "output_type": "execute_result"
        }
      ],
      "source": [
        "train.sentiment.value_counts()"
      ]
    },
    {
      "cell_type": "code",
      "execution_count": 37,
      "id": "wYDxiIHnNHaO",
      "metadata": {
        "id": "wYDxiIHnNHaO"
      },
      "outputs": [
        {
          "data": {
            "text/plain": [
              "sentiment\n",
              "0    12500\n",
              "1    12500\n",
              "Name: count, dtype: int64"
            ]
          },
          "execution_count": 37,
          "metadata": {},
          "output_type": "execute_result"
        }
      ],
      "source": [
        "test.sentiment.value_counts()"
      ]
    },
    {
      "cell_type": "markdown",
      "id": "2ZGscJNaNHaO",
      "metadata": {
        "id": "2ZGscJNaNHaO"
      },
      "source": [
        "### <font color='#eb3483'> 1. Tokenization </font>\n",
        "\n",
        "The process of splitting the sentences into words is referred to as **tokenization**. In this case, a word is referred to as a **token**. More generally though, a token could be a word pair, triplet or an even longer string of adjacent words.\n",
        "\n",
        "To contruct our features, we need to get the counts of **all the words/tokens** across **all the reviews** in our training data (25,000 reviews). This is going to be a very large number of words! We refer to this as the **vocabularly**.\n",
        "\n"
      ]
    },
    {
      "cell_type": "code",
      "execution_count": 38,
      "id": "S5XgstpNNHaO",
      "metadata": {
        "id": "S5XgstpNNHaO"
      },
      "outputs": [],
      "source": [
        "from sklearn.feature_extraction.text import CountVectorizer\n",
        "count_vectorizer = CountVectorizer()\n",
        "count_matrix = count_vectorizer.fit_transform(train.review.iloc[:5]) # apply just to the first 5 reviews"
      ]
    },
    {
      "cell_type": "code",
      "execution_count": 39,
      "id": "kyQK59RqNHaO",
      "metadata": {
        "id": "kyQK59RqNHaO"
      },
      "outputs": [
        {
          "data": {
            "text/plain": [
              "<5x532 sparse matrix of type '<class 'numpy.int64'>'\n",
              "\twith 620 stored elements in Compressed Sparse Row format>"
            ]
          },
          "execution_count": 39,
          "metadata": {},
          "output_type": "execute_result"
        }
      ],
      "source": [
        "count_matrix"
      ]
    },
    {
      "cell_type": "markdown",
      "id": "mTtIRH-bNHaO",
      "metadata": {
        "id": "mTtIRH-bNHaO"
      },
      "source": [
        "The output of the ```CountVectorizer``` is a sparse matrix. Most of the counts are zero, so Python uses a memory efficient format to store these data (it only needs to store the non-zero entries in memory). If we want to \"see\" the matrix, we can use the ```.toarray()``` function:"
      ]
    },
    {
      "cell_type": "code",
      "execution_count": 40,
      "id": "Osknp6gGNHaO",
      "metadata": {
        "id": "Osknp6gGNHaO"
      },
      "outputs": [
        {
          "data": {
            "text/plain": [
              "array([[0, 0, 0, ..., 0, 0, 0],\n",
              "       [0, 0, 0, ..., 0, 0, 0],\n",
              "       [0, 0, 0, ..., 0, 0, 0],\n",
              "       [0, 0, 0, ..., 1, 0, 1],\n",
              "       [1, 1, 1, ..., 0, 1, 0]])"
            ]
          },
          "execution_count": 40,
          "metadata": {},
          "output_type": "execute_result"
        }
      ],
      "source": [
        "count_matrix.toarray()"
      ]
    },
    {
      "cell_type": "markdown",
      "id": "n1YrnbPzNHaO",
      "metadata": {
        "id": "n1YrnbPzNHaO"
      },
      "source": [
        "Because we only apply the ```CountVectorizer``` to the first 5 reviews, this matrix is still small. It has 533 columns (a vocab of size 533). But if we were to apply it to the full dataset, the number of columns (words) would be more than 50,000, with 25,000 rows! So it makes sense to store this as efficiently as possible. You can extract the vobabularly from the fitted ```CountVectorizer``` object:"
      ]
    },
    {
      "cell_type": "code",
      "execution_count": 41,
      "id": "7N1kf7mfNHaO",
      "metadata": {
        "id": "7N1kf7mfNHaO"
      },
      "outputs": [
        {
          "data": {
            "text/plain": [
              "{'work': 524,\n",
              " 'one': 329,\n",
              " 'best': 42,\n",
              " 'shakespear': 416,\n",
              " 'sourc': 436,\n",
              " 'film': 173,\n",
              " 'manag': 286,\n",
              " 'credit': 106,\n",
              " 'whilst': 513,\n",
              " 'still': 445,\n",
              " 'appeal': 21,\n",
              " 'wider': 516,\n",
              " 'audienc': 28,\n",
              " 'branagh': 59,\n",
              " 'steal': 444,\n",
              " 'fishburn': 178,\n",
              " 'nose': 318,\n",
              " 'there': 471,\n",
              " 'talent': 463,\n",
              " 'cast': 76,\n",
              " 'good': 204,\n",
              " 'form': 184,\n",
              " 'well': 511,\n",
              " 'tremor': 487,\n",
              " 'origin': 330,\n",
              " 'start': 443,\n",
              " 'found': 185,\n",
              " 'movi': 304,\n",
              " 'quit': 378,\n",
              " 'enjoy': 149,\n",
              " 'watch': 506,\n",
              " 'howev': 231,\n",
              " 'proceed': 365,\n",
              " 'make': 285,\n",
              " 'ii': 235,\n",
              " 'iii': 236,\n",
              " 'trust': 490,\n",
              " 'go': 199,\n",
              " 'downhil': 133,\n",
              " 'right': 394,\n",
              " 'finish': 176,\n",
              " 'first': 177,\n",
              " 'mean': 291,\n",
              " 'as': 24,\n",
              " 'blaster': 50,\n",
              " 'god': 200,\n",
              " 'capabl': 71,\n",
              " 'answer': 18,\n",
              " 'question': 377,\n",
              " 'name': 308,\n",
              " 'would': 526,\n",
              " 'creat': 105,\n",
              " 'anoth': 17,\n",
              " 'dumpster': 136,\n",
              " 'dive': 130,\n",
              " 'iv': 247,\n",
              " 'cannot': 68,\n",
              " 'consid': 96,\n",
              " 'bad': 35,\n",
              " 'fact': 166,\n",
              " 'even': 153,\n",
              " 'epitom': 150,\n",
              " 'live': 278,\n",
              " 'attempt': 27,\n",
              " 'sit': 429,\n",
              " 'though': 477,\n",
              " 'notic': 320,\n",
              " 'eye': 165,\n",
              " 'bleed': 51,\n",
              " 'hope': 228,\n",
              " 'profus': 367,\n",
              " 'littl': 277,\n",
              " 'girl': 196,\n",
              " 'ring': 395,\n",
              " 'crawl': 104,\n",
              " 'tv': 492,\n",
              " 'kill': 258,\n",
              " 'realli': 382,\n",
              " 'think': 475,\n",
              " 'dress': 134,\n",
              " 'peopl': 345,\n",
              " 'stare': 442,\n",
              " 'wild': 519,\n",
              " 'west': 512,\n",
              " 'exact': 158,\n",
              " 'occurr': 322,\n",
              " 'better': 43,\n",
              " 'honestli': 226,\n",
              " 'never': 313,\n",
              " 'suggest': 452,\n",
              " 'buy': 65,\n",
              " 'cheaper': 82,\n",
              " 'way': 508,\n",
              " 'find': 175,\n",
              " 'thing': 474,\n",
              " 'burn': 64,\n",
              " 'ouch': 332,\n",
              " 'bit': 47,\n",
              " 'pain': 335,\n",
              " 'cute': 109,\n",
              " 'amus': 15,\n",
              " 'premis': 362,\n",
              " 'goe': 201,\n",
              " 'hell': 217,\n",
              " 'matthew': 290,\n",
              " 'modin': 301,\n",
              " 'almost': 10,\n",
              " 'alway': 12,\n",
              " 'pedestrian': 344,\n",
              " 'annoy': 16,\n",
              " 'disappoint': 128,\n",
              " 'deborah': 117,\n",
              " 'kara': 253,\n",
              " 'unger': 498,\n",
              " 'john': 252,\n",
              " 'nevil': 314,\n",
              " 'turn': 491,\n",
              " 'surprisingli': 456,\n",
              " 'decent': 118,\n",
              " 'perform': 347,\n",
              " 'alan': 8,\n",
              " 'bate': 37,\n",
              " 'jennif': 249,\n",
              " 'tilli': 479,\n",
              " 'among': 14,\n",
              " 'other': 331,\n",
              " 'play': 354,\n",
              " 'top': 482,\n",
              " 'know': 260,\n",
              " 'that': 470,\n",
              " 'part': 339,\n",
              " 'written': 528,\n",
              " 'hard': 212,\n",
              " 'blame': 48,\n",
              " 'actor': 3,\n",
              " 'script': 410,\n",
              " 'director': 127,\n",
              " 'schlock': 408,\n",
              " 'outrag': 333,\n",
              " 'charact': 80,\n",
              " 'ok': 327,\n",
              " 'gotta': 205,\n",
              " 'materi': 289,\n",
              " 'run': 401,\n",
              " 'away': 31,\n",
              " 'scream': 409,\n",
              " 'possibl': 359,\n",
              " 'ive': 248,\n",
              " 'seen': 412,\n",
              " 'crappi': 103,\n",
              " 'life': 275,\n",
              " 'must': 307,\n",
              " 'worst': 525,\n",
              " 'defin': 119,\n",
              " 'bottom': 58,\n",
              " 'imo': 237,\n",
              " 'follow': 181,\n",
              " 'two': 494,\n",
              " 'coupl': 100,\n",
              " 'dodd': 132,\n",
              " 'billi': 45,\n",
              " 'bob': 55,\n",
              " 'thornton': 476,\n",
              " 'lonni': 279,\n",
              " 'earl': 139,\n",
              " 'natasha': 309,\n",
              " 'richardson': 392,\n",
              " 'darlen': 112,\n",
              " 'kirkendal': 259,\n",
              " 'patrick': 342,\n",
              " 'swayz': 459,\n",
              " 'roy': 399,\n",
              " 'charliz': 81,\n",
              " 'theron': 472,\n",
              " 'candi': 67,\n",
              " 'car': 72,\n",
              " 'roadtrip': 397,\n",
              " 'reno': 391,\n",
              " 'appar': 20,\n",
              " 'happi': 210,\n",
              " 'sex': 415,\n",
              " 'cheat': 83,\n",
              " 'wife': 518,\n",
              " 'who': 515,\n",
              " 'despir': 123,\n",
              " 'tri': 488,\n",
              " 'babi': 32,\n",
              " 'meanwhil': 293,\n",
              " 'sure': 454,\n",
              " 'sperm': 439,\n",
              " 'he': 213,\n",
              " 'get': 195,\n",
              " 'check': 84,\n",
              " 'doctor': 131,\n",
              " 'read': 380,\n",
              " 'back': 33,\n",
              " 'dvd': 137,\n",
              " 'girlfriend': 197,\n",
              " 'blurt': 54,\n",
              " 'minutes': 298,\n",
              " 'oh': 325,\n",
              " 'yeah': 529,\n",
              " 'gonna': 203,\n",
              " 'end': 146,\n",
              " 'pregnant': 361,\n",
              " 'husband': 234,\n",
              " 'cant': 69,\n",
              " 'spot': 440,\n",
              " 'soooo': 435,\n",
              " 'predict': 360,\n",
              " 'bore': 57,\n",
              " 'meaningless': 292,\n",
              " 'offens': 323,\n",
              " 'terribl': 468,\n",
              " 'exampl': 160,\n",
              " 'much': 305,\n",
              " 'stink': 446,\n",
              " 'set': 414,\n",
              " 'big': 44,\n",
              " 'toward': 483,\n",
              " 'nevada': 312,\n",
              " 'stop': 448,\n",
              " 'polic': 358,\n",
              " 'offic': 324,\n",
              " 'sign': 426,\n",
              " 'guy': 207,\n",
              " 'final': 174,\n",
              " 'bribe': 61,\n",
              " 'case': 75,\n",
              " 'beer': 40,\n",
              " 'scene': 407,\n",
              " 'pointless': 357,\n",
              " 'import': 238,\n",
              " 'relev': 388,\n",
              " 'take': 462,\n",
              " 'minut': 297,\n",
              " 'talk': 464,\n",
              " 'without': 521,\n",
              " 'ever': 155,\n",
              " 'somewher': 434,\n",
              " 'puke': 371,\n",
              " 'problem': 364,\n",
              " 'father': 171,\n",
              " 'child': 85,\n",
              " 'mani': 287,\n",
              " 'time': 480,\n",
              " 'happen': 209,\n",
              " 'someth': 433,\n",
              " 'new': 315,\n",
              " 'ultim': 496,\n",
              " 'forgiv': 183,\n",
              " 'friend': 189,\n",
              " 'affair': 5,\n",
              " 'happili': 211,\n",
              " 'yuck': 531,\n",
              " 'shot': 422,\n",
              " 'grand': 206,\n",
              " 'canyon': 70,\n",
              " 'keep': 255,\n",
              " 'camera': 66,\n",
              " 'expect': 162,\n",
              " 'although': 11,\n",
              " 'writer': 527,\n",
              " 'shame': 417,\n",
              " 'carrier': 74,\n",
              " 'exploit': 163,\n",
              " 'gal': 193,\n",
              " 'stolen': 447,\n",
              " 'merced': 296,\n",
              " 'word': 523,\n",
              " 'road': 396,\n",
              " 'warrior': 505,\n",
              " 'hood': 227,\n",
              " 'hightail': 221,\n",
              " 'highway': 222,\n",
              " 'beach': 38,\n",
              " 'surfboard': 455,\n",
              " 'strap': 449,\n",
              " 'brian': 60,\n",
              " 'chri': 86,\n",
              " 'pine': 350,\n",
              " 'star': 441,\n",
              " 'trek': 486,\n",
              " 'drive': 135,\n",
              " 'bobbi': 56,\n",
              " 'piper': 351,\n",
              " 'perabo': 346,\n",
              " 'coyot': 102,\n",
              " 'ugli': 495,\n",
              " 'shotgun': 423,\n",
              " 'younger': 530,\n",
              " 'brother': 63,\n",
              " 'danni': 111,\n",
              " 'lou': 282,\n",
              " 'taylor': 465,\n",
              " 'pucci': 370,\n",
              " 'fanboy': 169,\n",
              " 'exactli': 159,\n",
              " 'kate': 254,\n",
              " 'emili': 144,\n",
              " 'vancamp': 500,\n",
              " 'occupi': 321,\n",
              " 'backseat': 34,\n",
              " 'quartet': 376,\n",
              " 'twentysometh': 493,\n",
              " 'nightmar': 316,\n",
              " 'viral': 502,\n",
              " 'pandem': 338,\n",
              " 'co': 92,\n",
              " 'scenarist': 406,\n",
              " 'alex': 9,\n",
              " 'pastor': 341,\n",
              " 'david': 114,\n",
              " 'tell': 466,\n",
              " 'absolut': 1,\n",
              " 'noth': 319,\n",
              " 'devast': 124,\n",
              " 'america': 13,\n",
              " 'natur': 310,\n",
              " 'lack': 263,\n",
              " 'exposit': 164,\n",
              " 'shave': 418,\n",
              " 'least': 269,\n",
              " 'fifteen': 172,\n",
              " 'slow': 430,\n",
              " 'cynic': 110,\n",
              " 'melodrama': 294,\n",
              " 'human': 232,\n",
              " 'degener': 120,\n",
              " 'crisi': 107,\n",
              " 'becom': 39,\n",
              " 'enemi': 147,\n",
              " 'lethal': 273,\n",
              " 'viru': 504,\n",
              " 'give': 198,\n",
              " 'shingl': 420,\n",
              " 'die': 126,\n",
              " 'everybodi': 157,\n",
              " 'around': 23,\n",
              " 'wear': 510,\n",
              " 'white': 514,\n",
              " 'mask': 288,\n",
              " 'mouth': 303,\n",
              " 'thin': 473,\n",
              " 'rubber': 400,\n",
              " 'band': 36,\n",
              " 'initi': 245,\n",
              " 'foursom': 187,\n",
              " 'encount': 145,\n",
              " 'desper': 122,\n",
              " 'frank': 188,\n",
              " 'christoph': 88,\n",
              " 'meloni': 295,\n",
              " 'runaway': 402,\n",
              " 'bride': 62,\n",
              " 'daughter': 113,\n",
              " 'jodi': 251,\n",
              " 'kiernan': 257,\n",
              " 'shipka': 421,\n",
              " 'land': 265,\n",
              " 'lost': 281,\n",
              " 'block': 52,\n",
              " 'suv': 458,\n",
              " 'swerv': 460,\n",
              " 'waylay': 509,\n",
              " 'process': 366,\n",
              " 'oil': 326,\n",
              " 'pan': 337,\n",
              " 'ruptur': 403,\n",
              " 'wind': 520,\n",
              " 'foot': 182,\n",
              " 'reluctantli': 390,\n",
              " 'hitch': 223,\n",
              " 'ride': 393,\n",
              " 'seal': 411,\n",
              " 'rear': 383,\n",
              " 'speckl': 438,\n",
              " 'blood': 53,\n",
              " 'heard': 215,\n",
              " 'cure': 108,\n",
              " 'ail': 7,\n",
              " 'hospit': 230,\n",
              " 'head': 214,\n",
              " 'sadli': 404,\n",
              " 'somebodi': 432,\n",
              " 'lie': 274,\n",
              " 'physician': 349,\n",
              " 'last': 266,\n",
              " 'kid': 256,\n",
              " 'kool': 262,\n",
              " 'aid': 6,\n",
              " 'put': 374,\n",
              " 'miseri': 299,\n",
              " 'improv': 240,\n",
              " 'condit': 94,\n",
              " 'el': 143,\n",
              " 'town': 484,\n",
              " 'dead': 115,\n",
              " 'success': 450,\n",
              " 'dial': 125,\n",
              " 'tone': 481,\n",
              " 'everi': 156,\n",
              " 'phone': 348,\n",
              " 'realiz': 381,\n",
              " 'let': 272,\n",
              " 'heroic': 220,\n",
              " 'appropri': 22,\n",
              " 'inde': 243,\n",
              " 'qualifi': 375,\n",
              " 'relentlessli': 387,\n",
              " 'depress': 121,\n",
              " 'effect': 140,\n",
              " 'four': 186,\n",
              " 'sympathet': 461,\n",
              " 'homicid': 225,\n",
              " 'murder': 306,\n",
              " 'protect': 369,\n",
              " 'reach': 379,\n",
              " 'countri': 99,\n",
              " 'club': 91,\n",
              " 'frolic': 190,\n",
              " 'golf': 202,\n",
              " 'cours': 101,\n",
              " 'show': 424,\n",
              " 'suit': 453,\n",
              " 'pump': 373,\n",
              " 'action': 2,\n",
              " 'incred': 242,\n",
              " 'protagonist': 368,\n",
              " 'escap': 151,\n",
              " 'scare': 405,\n",
              " 'fall': 168,\n",
              " 'water': 507,\n",
              " 'float': 180,\n",
              " 'corp': 97,\n",
              " 'eventu': 154,\n",
              " 'discov': 129,\n",
              " 'infect': 244,\n",
              " 'later': 267,\n",
              " 'ga': 192,\n",
              " 'like': 276,\n",
              " 'outset': 334,\n",
              " 'pair': 336,\n",
              " 'older': 328,\n",
              " 'christian': 87,\n",
              " 'woman': 522,\n",
              " 'birth': 46,\n",
              " 'need': 311,\n",
              " 'help': 218,\n",
              " 'throw': 478,\n",
              " 'caution': 78,\n",
              " 'blast': 49,\n",
              " 'ladi': 264,\n",
              " 'automat': 29,\n",
              " 'pistol': 352,\n",
              " 'refus': 385,\n",
              " 'catch': 77,\n",
              " 'slug': 431,\n",
              " 'leg': 270,\n",
              " 'passeng': 340,\n",
              " 'pizza': 353,\n",
              " 'either': 142,\n",
              " 'laugh': 268,\n",
              " 'humor': 233,\n",
              " 'virtual': 503,\n",
              " 'non': 317,\n",
              " 'exist': 161,\n",
              " 'hero': 219,\n",
              " 'villain': 501,\n",
              " 'care': 73,\n",
              " 'plight': 355,\n",
              " 'impress': 239,\n",
              " 'fun': 191,\n",
              " 'love': 283,\n",
              " 'energet': 148,\n",
              " 'reason': 384,\n",
              " 'hang': 208,\n",
              " 'hokum': 224,\n",
              " 'known': 261,\n",
              " 'actress': 4,\n",
              " 'releg': 386,\n",
              " 'inconsequenti': 241,\n",
              " 'role': 398,\n",
              " 'tragic': 485,\n",
              " 'mistak': 300,\n",
              " 'compass': 93,\n",
              " 'pay': 343,\n",
              " 'aw': 30,\n",
              " 'price': 363,\n",
              " 'testament': 469,\n",
              " 'chang': 79,\n",
              " 'point': 356,\n",
              " 'essenti': 152,\n",
              " 'abil': 0,\n",
              " 'pull': 372,\n",
              " 'eighti': 141,\n",
              " 'lucki': 284,\n",
              " 'heartless': 216,\n",
              " 'spanish': 437,\n",
              " 'momentum': 302,\n",
              " 'flag': 179,\n",
              " 'sinc': 427,\n",
              " 'relief': 389,\n",
              " 'sight': 425,\n",
              " 'sink': 428,\n",
              " 'irrévers': 246,\n",
              " 'cinematograph': 89,\n",
              " 'benoît': 41,\n",
              " 'debi': 116,\n",
              " 'fantast': 170,\n",
              " 'job': 250,\n",
              " 'widescreen': 517,\n",
              " 'lens': 271,\n",
              " 'unsavori': 499,\n",
              " 'trip': 489,\n",
              " 'look': 280,\n",
              " 'dynam': 138,\n",
              " 'asid': 25,\n",
              " 'closur': 90,\n",
              " 'sen': 413,\n",
              " 'suffer': 451,\n",
              " 'horribl': 229,\n",
              " 'german': 194,\n",
              " 'shepherd': 419,\n",
              " 'attack': 26,\n",
              " 'conjur': 95,\n",
              " 'suspens': 457,\n",
              " 'could': 98,\n",
              " 'unfortun': 497,\n",
              " 'tension': 467,\n",
              " 'fade': 167,\n",
              " 'anybodi': 19}"
            ]
          },
          "execution_count": 41,
          "metadata": {},
          "output_type": "execute_result"
        }
      ],
      "source": [
        "count_vectorizer.vocabulary_"
      ]
    },
    {
      "cell_type": "markdown",
      "id": "ZqCcWUyiNHaO",
      "metadata": {
        "id": "ZqCcWUyiNHaO"
      },
      "source": [
        "Note that this is a dictionary that maps each word to a column in our ``count_matrix`` array."
      ]
    },
    {
      "cell_type": "code",
      "execution_count": 42,
      "id": "OQ10uZ2mNHaO",
      "metadata": {
        "id": "OQ10uZ2mNHaO"
      },
      "outputs": [
        {
          "data": {
            "text/plain": [
              "dict_keys(['work', 'one', 'best', 'shakespear', 'sourc', 'film', 'manag', 'credit', 'whilst', 'still', 'appeal', 'wider', 'audienc', 'branagh', 'steal', 'fishburn', 'nose', 'there', 'talent', 'cast', 'good', 'form', 'well', 'tremor', 'origin', 'start', 'found', 'movi', 'quit', 'enjoy', 'watch', 'howev', 'proceed', 'make', 'ii', 'iii', 'trust', 'go', 'downhil', 'right', 'finish', 'first', 'mean', 'as', 'blaster', 'god', 'capabl', 'answer', 'question', 'name', 'would', 'creat', 'anoth', 'dumpster', 'dive', 'iv', 'cannot', 'consid', 'bad', 'fact', 'even', 'epitom', 'live', 'attempt', 'sit', 'though', 'notic', 'eye', 'bleed', 'hope', 'profus', 'littl', 'girl', 'ring', 'crawl', 'tv', 'kill', 'realli', 'think', 'dress', 'peopl', 'stare', 'wild', 'west', 'exact', 'occurr', 'better', 'honestli', 'never', 'suggest', 'buy', 'cheaper', 'way', 'find', 'thing', 'burn', 'ouch', 'bit', 'pain', 'cute', 'amus', 'premis', 'goe', 'hell', 'matthew', 'modin', 'almost', 'alway', 'pedestrian', 'annoy', 'disappoint', 'deborah', 'kara', 'unger', 'john', 'nevil', 'turn', 'surprisingli', 'decent', 'perform', 'alan', 'bate', 'jennif', 'tilli', 'among', 'other', 'play', 'top', 'know', 'that', 'part', 'written', 'hard', 'blame', 'actor', 'script', 'director', 'schlock', 'outrag', 'charact', 'ok', 'gotta', 'materi', 'run', 'away', 'scream', 'possibl', 'ive', 'seen', 'crappi', 'life', 'must', 'worst', 'defin', 'bottom', 'imo', 'follow', 'two', 'coupl', 'dodd', 'billi', 'bob', 'thornton', 'lonni', 'earl', 'natasha', 'richardson', 'darlen', 'kirkendal', 'patrick', 'swayz', 'roy', 'charliz', 'theron', 'candi', 'car', 'roadtrip', 'reno', 'appar', 'happi', 'sex', 'cheat', 'wife', 'who', 'despir', 'tri', 'babi', 'meanwhil', 'sure', 'sperm', 'he', 'get', 'check', 'doctor', 'read', 'back', 'dvd', 'girlfriend', 'blurt', 'minutes', 'oh', 'yeah', 'gonna', 'end', 'pregnant', 'husband', 'cant', 'spot', 'soooo', 'predict', 'bore', 'meaningless', 'offens', 'terribl', 'exampl', 'much', 'stink', 'set', 'big', 'toward', 'nevada', 'stop', 'polic', 'offic', 'sign', 'guy', 'final', 'bribe', 'case', 'beer', 'scene', 'pointless', 'import', 'relev', 'take', 'minut', 'talk', 'without', 'ever', 'somewher', 'puke', 'problem', 'father', 'child', 'mani', 'time', 'happen', 'someth', 'new', 'ultim', 'forgiv', 'friend', 'affair', 'happili', 'yuck', 'shot', 'grand', 'canyon', 'keep', 'camera', 'expect', 'although', 'writer', 'shame', 'carrier', 'exploit', 'gal', 'stolen', 'merced', 'word', 'road', 'warrior', 'hood', 'hightail', 'highway', 'beach', 'surfboard', 'strap', 'brian', 'chri', 'pine', 'star', 'trek', 'drive', 'bobbi', 'piper', 'perabo', 'coyot', 'ugli', 'shotgun', 'younger', 'brother', 'danni', 'lou', 'taylor', 'pucci', 'fanboy', 'exactli', 'kate', 'emili', 'vancamp', 'occupi', 'backseat', 'quartet', 'twentysometh', 'nightmar', 'viral', 'pandem', 'co', 'scenarist', 'alex', 'pastor', 'david', 'tell', 'absolut', 'noth', 'devast', 'america', 'natur', 'lack', 'exposit', 'shave', 'least', 'fifteen', 'slow', 'cynic', 'melodrama', 'human', 'degener', 'crisi', 'becom', 'enemi', 'lethal', 'viru', 'give', 'shingl', 'die', 'everybodi', 'around', 'wear', 'white', 'mask', 'mouth', 'thin', 'rubber', 'band', 'initi', 'foursom', 'encount', 'desper', 'frank', 'christoph', 'meloni', 'runaway', 'bride', 'daughter', 'jodi', 'kiernan', 'shipka', 'land', 'lost', 'block', 'suv', 'swerv', 'waylay', 'process', 'oil', 'pan', 'ruptur', 'wind', 'foot', 'reluctantli', 'hitch', 'ride', 'seal', 'rear', 'speckl', 'blood', 'heard', 'cure', 'ail', 'hospit', 'head', 'sadli', 'somebodi', 'lie', 'physician', 'last', 'kid', 'kool', 'aid', 'put', 'miseri', 'improv', 'condit', 'el', 'town', 'dead', 'success', 'dial', 'tone', 'everi', 'phone', 'realiz', 'let', 'heroic', 'appropri', 'inde', 'qualifi', 'relentlessli', 'depress', 'effect', 'four', 'sympathet', 'homicid', 'murder', 'protect', 'reach', 'countri', 'club', 'frolic', 'golf', 'cours', 'show', 'suit', 'pump', 'action', 'incred', 'protagonist', 'escap', 'scare', 'fall', 'water', 'float', 'corp', 'eventu', 'discov', 'infect', 'later', 'ga', 'like', 'outset', 'pair', 'older', 'christian', 'woman', 'birth', 'need', 'help', 'throw', 'caution', 'blast', 'ladi', 'automat', 'pistol', 'refus', 'catch', 'slug', 'leg', 'passeng', 'pizza', 'either', 'laugh', 'humor', 'virtual', 'non', 'exist', 'hero', 'villain', 'care', 'plight', 'impress', 'fun', 'love', 'energet', 'reason', 'hang', 'hokum', 'known', 'actress', 'releg', 'inconsequenti', 'role', 'tragic', 'mistak', 'compass', 'pay', 'aw', 'price', 'testament', 'chang', 'point', 'essenti', 'abil', 'pull', 'eighti', 'lucki', 'heartless', 'spanish', 'momentum', 'flag', 'sinc', 'relief', 'sight', 'sink', 'irrévers', 'cinematograph', 'benoît', 'debi', 'fantast', 'job', 'widescreen', 'lens', 'unsavori', 'trip', 'look', 'dynam', 'asid', 'closur', 'sen', 'suffer', 'horribl', 'german', 'shepherd', 'attack', 'conjur', 'suspens', 'could', 'unfortun', 'tension', 'fade', 'anybodi'])"
            ]
          },
          "execution_count": 42,
          "metadata": {},
          "output_type": "execute_result"
        }
      ],
      "source": [
        "count_vectorizer.vocabulary_. keys() # just the vocabulary"
      ]
    },
    {
      "cell_type": "code",
      "execution_count": 43,
      "id": "EQFyCqaDNHaP",
      "metadata": {
        "id": "EQFyCqaDNHaP"
      },
      "outputs": [
        {
          "data": {
            "text/html": [
              "<div>\n",
              "<style scoped>\n",
              "    .dataframe tbody tr th:only-of-type {\n",
              "        vertical-align: middle;\n",
              "    }\n",
              "\n",
              "    .dataframe tbody tr th {\n",
              "        vertical-align: top;\n",
              "    }\n",
              "\n",
              "    .dataframe thead th {\n",
              "        text-align: right;\n",
              "    }\n",
              "</style>\n",
              "<table border=\"1\" class=\"dataframe\">\n",
              "  <thead>\n",
              "    <tr style=\"text-align: right;\">\n",
              "      <th></th>\n",
              "      <th>abil</th>\n",
              "      <th>absolut</th>\n",
              "      <th>action</th>\n",
              "      <th>actor</th>\n",
              "      <th>actress</th>\n",
              "      <th>affair</th>\n",
              "      <th>aid</th>\n",
              "      <th>ail</th>\n",
              "      <th>alan</th>\n",
              "      <th>alex</th>\n",
              "      <th>...</th>\n",
              "      <th>woman</th>\n",
              "      <th>word</th>\n",
              "      <th>work</th>\n",
              "      <th>worst</th>\n",
              "      <th>would</th>\n",
              "      <th>writer</th>\n",
              "      <th>written</th>\n",
              "      <th>yeah</th>\n",
              "      <th>younger</th>\n",
              "      <th>yuck</th>\n",
              "    </tr>\n",
              "  </thead>\n",
              "  <tbody>\n",
              "    <tr>\n",
              "      <th>0</th>\n",
              "      <td>0</td>\n",
              "      <td>0</td>\n",
              "      <td>0</td>\n",
              "      <td>0</td>\n",
              "      <td>0</td>\n",
              "      <td>0</td>\n",
              "      <td>0</td>\n",
              "      <td>0</td>\n",
              "      <td>0</td>\n",
              "      <td>0</td>\n",
              "      <td>...</td>\n",
              "      <td>0</td>\n",
              "      <td>0</td>\n",
              "      <td>1</td>\n",
              "      <td>0</td>\n",
              "      <td>0</td>\n",
              "      <td>0</td>\n",
              "      <td>0</td>\n",
              "      <td>0</td>\n",
              "      <td>0</td>\n",
              "      <td>0</td>\n",
              "    </tr>\n",
              "    <tr>\n",
              "      <th>1</th>\n",
              "      <td>0</td>\n",
              "      <td>0</td>\n",
              "      <td>0</td>\n",
              "      <td>0</td>\n",
              "      <td>0</td>\n",
              "      <td>0</td>\n",
              "      <td>0</td>\n",
              "      <td>0</td>\n",
              "      <td>0</td>\n",
              "      <td>0</td>\n",
              "      <td>...</td>\n",
              "      <td>0</td>\n",
              "      <td>0</td>\n",
              "      <td>0</td>\n",
              "      <td>0</td>\n",
              "      <td>4</td>\n",
              "      <td>0</td>\n",
              "      <td>0</td>\n",
              "      <td>0</td>\n",
              "      <td>0</td>\n",
              "      <td>0</td>\n",
              "    </tr>\n",
              "    <tr>\n",
              "      <th>2</th>\n",
              "      <td>0</td>\n",
              "      <td>0</td>\n",
              "      <td>0</td>\n",
              "      <td>1</td>\n",
              "      <td>0</td>\n",
              "      <td>0</td>\n",
              "      <td>0</td>\n",
              "      <td>0</td>\n",
              "      <td>1</td>\n",
              "      <td>0</td>\n",
              "      <td>...</td>\n",
              "      <td>0</td>\n",
              "      <td>0</td>\n",
              "      <td>1</td>\n",
              "      <td>0</td>\n",
              "      <td>0</td>\n",
              "      <td>0</td>\n",
              "      <td>1</td>\n",
              "      <td>0</td>\n",
              "      <td>0</td>\n",
              "      <td>0</td>\n",
              "    </tr>\n",
              "    <tr>\n",
              "      <th>3</th>\n",
              "      <td>0</td>\n",
              "      <td>0</td>\n",
              "      <td>0</td>\n",
              "      <td>0</td>\n",
              "      <td>0</td>\n",
              "      <td>1</td>\n",
              "      <td>0</td>\n",
              "      <td>0</td>\n",
              "      <td>0</td>\n",
              "      <td>0</td>\n",
              "      <td>...</td>\n",
              "      <td>0</td>\n",
              "      <td>0</td>\n",
              "      <td>0</td>\n",
              "      <td>1</td>\n",
              "      <td>1</td>\n",
              "      <td>1</td>\n",
              "      <td>0</td>\n",
              "      <td>1</td>\n",
              "      <td>0</td>\n",
              "      <td>1</td>\n",
              "    </tr>\n",
              "    <tr>\n",
              "      <th>4</th>\n",
              "      <td>1</td>\n",
              "      <td>1</td>\n",
              "      <td>1</td>\n",
              "      <td>0</td>\n",
              "      <td>1</td>\n",
              "      <td>0</td>\n",
              "      <td>1</td>\n",
              "      <td>1</td>\n",
              "      <td>0</td>\n",
              "      <td>1</td>\n",
              "      <td>...</td>\n",
              "      <td>1</td>\n",
              "      <td>2</td>\n",
              "      <td>0</td>\n",
              "      <td>1</td>\n",
              "      <td>1</td>\n",
              "      <td>0</td>\n",
              "      <td>0</td>\n",
              "      <td>0</td>\n",
              "      <td>1</td>\n",
              "      <td>0</td>\n",
              "    </tr>\n",
              "  </tbody>\n",
              "</table>\n",
              "<p>5 rows × 532 columns</p>\n",
              "</div>"
            ],
            "text/plain": [
              "   abil  absolut  action  actor  actress  affair  aid  ail  alan  alex  ...  \\\n",
              "0     0        0       0      0        0       0    0    0     0     0  ...   \n",
              "1     0        0       0      0        0       0    0    0     0     0  ...   \n",
              "2     0        0       0      1        0       0    0    0     1     0  ...   \n",
              "3     0        0       0      0        0       1    0    0     0     0  ...   \n",
              "4     1        1       1      0        1       0    1    1     0     1  ...   \n",
              "\n",
              "   woman  word  work  worst  would  writer  written  yeah  younger  yuck  \n",
              "0      0     0     1      0      0       0        0     0        0     0  \n",
              "1      0     0     0      0      4       0        0     0        0     0  \n",
              "2      0     0     1      0      0       0        1     0        0     0  \n",
              "3      0     0     0      1      1       1        0     1        0     1  \n",
              "4      1     2     0      1      1       0        0     0        1     0  \n",
              "\n",
              "[5 rows x 532 columns]"
            ]
          },
          "execution_count": 43,
          "metadata": {},
          "output_type": "execute_result"
        }
      ],
      "source": [
        "# a neater version of the count_matrix:\n",
        "pd.DataFrame(count_matrix.toarray(), columns=pd.Series(count_vectorizer.vocabulary_).sort_values().index)"
      ]
    },
    {
      "cell_type": "markdown",
      "id": "Ma-vyUc_NHaP",
      "metadata": {
        "id": "Ma-vyUc_NHaP"
      },
      "source": [
        "As mentioned earlier, we could have considered word pairs as our tokens. This is called a **bigram**. This may be useful to deal with **negation** e.g. the bigram \"not good\" actually has the opposite meaning to unigram \"good\".  More generally, a token comprising $n$ words is referred to as an **$n$-gram**. Here's how we would implement bigram tokenization with ```CountVectorizer```:"
      ]
    },
    {
      "cell_type": "code",
      "execution_count": 44,
      "id": "3imYoGRRNHaP",
      "metadata": {
        "id": "3imYoGRRNHaP"
      },
      "outputs": [
        {
          "data": {
            "text/plain": [
              "dict_keys(['work one', 'one best', 'best shakespear', 'shakespear sourc', 'sourc film', 'film manag', 'manag credit', 'credit sourc', 'sourc whilst', 'whilst still', 'still appeal', 'appeal wider', 'wider audienc', 'audienc branagh', 'branagh steal', 'steal film', 'film fishburn', 'fishburn nose', 'nose there', 'there talent', 'talent cast', 'cast good', 'good form', 'well tremor', 'tremor origin', 'origin start', 'start found', 'found movi', 'movi quit', 'quit enjoy', 'enjoy watch', 'watch howev', 'howev proceed', 'proceed make', 'make tremor', 'tremor ii', 'ii iii', 'iii trust', 'trust movi', 'movi start', 'start go', 'go downhil', 'downhil right', 'right finish', 'finish first', 'first one', 'one mean', 'mean as', 'as blaster', 'blaster god', 'god capabl', 'capabl answer', 'answer question', 'question god', 'god name', 'name would', 'would creat', 'creat anoth', 'anoth one', 'one dumpster', 'dumpster dive', 'dive movi', 'movi tremor', 'tremor iv', 'iv cannot', 'cannot consid', 'consid bad', 'bad movi', 'movi fact', 'fact cannot', 'cannot even', 'even consid', 'consid epitom', 'epitom bad', 'movi live', 'live attempt', 'attempt sit', 'sit though', 'though notic', 'notic eye', 'eye start', 'start bleed', 'bleed hope', 'hope profus', 'profus littl', 'littl girl', 'girl ring', 'ring would', 'would crawl', 'crawl tv', 'tv kill', 'kill realli', 'realli think', 'think dress', 'dress peopl', 'peopl stare', 'stare movi', 'movi though', 'though wild', 'wild west', 'west would', 'would make', 'make movi', 'movi exact', 'exact occurr', 'occurr better', 'better honestli', 'honestli would', 'would never', 'never suggest', 'suggest buy', 'buy movi', 'movi mean', 'mean cheaper', 'cheaper way', 'way find', 'find thing', 'thing burn', 'burn well', 'ouch one', 'one bit', 'bit pain', 'pain sit', 'sit cute', 'cute amus', 'amus premis', 'premis goe', 'goe hell', 'hell matthew', 'matthew modin', 'modin almost', 'almost alway', 'alway pedestrian', 'pedestrian annoy', 'annoy disappoint', 'disappoint one', 'one deborah', 'deborah kara', 'kara unger', 'unger john', 'john nevil', 'nevil turn', 'turn surprisingli', 'surprisingli decent', 'decent perform', 'perform alan', 'alan bate', 'bate jennif', 'jennif tilli', 'tilli among', 'among other', 'other play', 'play way', 'way top', 'top know', 'know that', 'that way', 'way part', 'part written', 'written hard', 'hard blame', 'blame actor', 'actor script', 'script director', 'director schlock', 'schlock go', 'go outrag', 'outrag charact', 'charact that', 'that ok', 'ok gotta', 'gotta good', 'good materi', 'materi make', 'make work', 'work run', 'run away', 'away scream', 'scream movi', 'movi possibl', 'ive seen', 'seen crappi', 'crappi movi', 'movi life', 'life one', 'one must', 'must among', 'among worst', 'worst defin', 'defin bottom', 'bottom materi', 'materi imo', 'imo follow', 'follow two', 'two coupl', 'coupl dodd', 'dodd billi', 'billi bob', 'bob thornton', 'thornton lonni', 'lonni earl', 'earl natasha', 'natasha richardson', 'richardson darlen', 'darlen kirkendal', 'kirkendal patrick', 'patrick swayz', 'swayz roy', 'roy charliz', 'charliz theron', 'theron candi', 'candi one', 'one car', 'car roadtrip', 'roadtrip reno', 'reno appar', 'appar lonni', 'lonni happi', 'happi sex', 'sex life', 'life cheat', 'cheat wife', 'wife candi', 'candi who', 'who despir', 'despir tri', 'tri babi', 'babi roy', 'roy meanwhil', 'meanwhil sure', 'sure sperm', 'sperm ok', 'ok he', 'he get', 'get check', 'check doctor', 'doctor read', 'read back', 'back dvd', 'dvd girlfriend', 'girlfriend blurt', 'blurt minutes', 'minutes oh', 'oh yeah', 'yeah gonna', 'gonna end', 'end pregnant', 'pregnant husband', 'husband cant', 'cant babi', 'babi spot', 'spot movi', 'movi soooo', 'soooo predict', 'predict well', 'well bore', 'bore annoy', 'annoy meaningless', 'meaningless offens', 'offens terribl', 'terribl exampl', 'exampl much', 'much movi', 'movi stink', 'stink two', 'coupl set', 'set big', 'big car', 'car toward', 'toward nevada', 'nevada stop', 'stop polic', 'polic offic', 'offic stop', 'stop stop', 'stop sign', 'sign guy', 'guy know', 'know final', 'final bribe', 'bribe two', 'two offic', 'offic case', 'case beer', 'beer scene', 'scene pointless', 'pointless import', 'import even', 'even relev', 'relev movi', 'movi take', 'take minut', 'minut talk', 'talk talk', 'talk without', 'without ever', 'ever go', 'go somewher', 'somewher still', 'still puke', 'puke think', 'think end', 'end though', 'though appar', 'appar roy', 'roy problem', 'problem father', 'father child', 'child mani', 'mani time', 'time happen', 'happen movi', 'movi tri', 'tri someth', 'someth new', 'new cheat', 'wife ultim', 'ultim forgiv', 'forgiv husband', 'husband best', 'best friend', 'friend affair', 'affair live', 'live happili', 'happili ever', 'ever yuck', 'yuck best', 'best scene', 'scene movi', 'movi right', 'right end', 'end coupl', 'coupl shot', 'shot grand', 'grand canyon', 'canyon keep', 'keep camera', 'camera minut', 'minut one', 'one would', 'would expect', 'expect cast', 'cast although', 'although thornton', 'thornton realli', 'realli tri', 'tri cant', 'cant realli', 'realli blame', 'blame writer', 'writer shame', 'carrier follow', 'follow exploit', 'exploit two', 'two guy', 'guy two', 'two gal', 'gal stolen', 'stolen merced', 'merced word', 'word road', 'road warrior', 'warrior hood', 'hood hightail', 'hightail highway', 'highway beach', 'beach surfboard', 'surfboard strap', 'strap top', 'top car', 'car brian', 'brian chri', 'chri pine', 'pine star', 'star trek', 'trek drive', 'drive girlfriend', 'girlfriend bobbi', 'bobbi piper', 'piper perabo', 'perabo coyot', 'coyot ugli', 'ugli shotgun', 'shotgun brian', 'brian younger', 'younger brother', 'brother danni', 'danni lou', 'lou taylor', 'taylor pucci', 'pucci fanboy', 'fanboy friend', 'friend exactli', 'exactli girlfriend', 'girlfriend kate', 'kate emili', 'emili vancamp', 'vancamp ring', 'ring occupi', 'occupi backseat', 'backseat quartet', 'quartet twentysometh', 'twentysometh charact', 'charact live', 'live nightmar', 'nightmar appar', 'appar viral', 'viral pandem', 'pandem co', 'co director', 'director co', 'co scenarist', 'scenarist alex', 'alex pastor', 'pastor david', 'david pastor', 'pastor tell', 'tell absolut', 'absolut noth', 'noth devast', 'devast america', 'america natur', 'natur lack', 'lack exposit', 'exposit shave', 'shave least', 'least fifteen', 'fifteen minut', 'minut would', 'would slow', 'slow cynic', 'cynic melodrama', 'melodrama human', 'human degener', 'degener crisi', 'crisi becom', 'becom worst', 'worst enemi', 'enemi lethal', 'lethal viru', 'viru give', 'give shingl', 'shingl bleed', 'bleed die', 'die everybodi', 'everybodi run', 'run around', 'around wear', 'wear white', 'white mask', 'mask strap', 'strap nose', 'nose mouth', 'mouth thin', 'thin rubber', 'rubber band', 'band initi', 'initi foursom', 'foursom encount', 'encount desper', 'desper father', 'father frank', 'frank christoph', 'christoph meloni', 'meloni runaway', 'runaway bride', 'bride cute', 'cute littl', 'littl daughter', 'daughter jodi', 'jodi kiernan', 'kiernan shipka', 'shipka land', 'land lost', 'lost block', 'block highway', 'highway suv', 'suv brian', 'brian swerv', 'swerv around', 'around frank', 'frank tri', 'tri waylay', 'waylay process', 'process oil', 'oil pan', 'pan merced', 'merced ruptur', 'ruptur wind', 'wind foot', 'foot reluctantli', 'reluctantli hitch', 'hitch ride', 'ride frank', 'frank seal', 'seal jodi', 'jodi rear', 'rear suv', 'suv wear', 'wear mask', 'mask nose', 'mouth speckl', 'speckl blood', 'blood frank', 'frank heard', 'heard doctor', 'doctor cure', 'cure ail', 'ail peopl', 'peopl hospit', 'hospit head', 'head sadli', 'sadli somebodi', 'somebodi lie', 'lie frank', 'frank hospit', 'hospit physician', 'physician give', 'give last', 'last coupl', 'coupl kid', 'kid kool', 'kool aid', 'aid put', 'put miseri', 'miseri cure', 'cure improv', 'improv condit', 'condit everybodi', 'everybodi el', 'el town', 'town dead', 'dead kate', 'kate tri', 'tri without', 'without success', 'success get', 'get dial', 'dial tone', 'tone everi', 'everi phone', 'phone frank', 'frank realiz', 'realiz hope', 'hope daughter', 'daughter let', 'let heroic', 'heroic quartet', 'quartet appropri', 'appropri suv', 'suv take', 'take inde', 'inde carrier', 'carrier qualifi', 'qualifi relentlessli', 'relentlessli depress', 'depress movi', 'movi effect', 'effect pandem', 'pandem four', 'four sympathet', 'sympathet peopl', 'peopl degener', 'degener homicid', 'homicid murder', 'murder protect', 'protect reach', 'reach countri', 'countri club', 'club frolic', 'frolic around', 'around golf', 'golf cours', 'cours anoth', 'anoth four', 'four show', 'show suit', 'suit mask', 'mask pump', 'pump action', 'action shotgun', 'shotgun incred', 'incred protagonist', 'protagonist manag', 'manag escap', 'escap without', 'without get', 'get shot', 'shot brian', 'brian scare', 'scare almost', 'almost fall', 'fall water', 'water float', 'float corp', 'corp eventu', 'eventu discov', 'discov one', 'one becom', 'becom infect', 'infect later', 'later run', 'run ga', 'ga brian', 'brian block', 'highway like', 'like frank', 'frank outset', 'outset danni', 'danni tri', 'tri stop', 'stop pair', 'pair older', 'older christian', 'christian woman', 'woman drive', 'drive car', 'car danni', 'danni lie', 'lie pregnant', 'pregnant wife', 'wife give', 'give birth', 'birth need', 'need help', 'help brian', 'brian throw', 'throw caution', 'caution wind', 'wind blast', 'blast away', 'away ladi', 'ladi automat', 'automat pistol', 'pistol refus', 'refus help', 'brian catch', 'catch slug', 'slug leg', 'leg passeng', 'passeng kill', 'kill carrier', 'carrier beer', 'beer pizza', 'pizza movi', 'movi either', 'either laugh', 'laugh laugh', 'laugh humor', 'humor virtual', 'virtual non', 'non exist', 'exist end', 'end minut', 'minut movi', 'movi hero', 'hero turn', 'turn villain', 'villain care', 'care plight', 'plight chri', 'pine make', 'make quit', 'quit impress', 'impress fun', 'fun love', 'love brian', 'brian energet', 'energet perform', 'perform reason', 'reason hang', 'hang hokum', 'hokum well', 'well known', 'known actress', 'actress piper', 'perabo releg', 'releg inconsequenti', 'inconsequenti girlfriend', 'girlfriend role', 'role bobbi', 'bobbi make', 'make tragic', 'tragic mistak', 'mistak show', 'show compass', 'compass die', 'die littl', 'girl pay', 'pay aw', 'aw price', 'price testament', 'testament pine', 'pine perform', 'perform chang', 'chang charact', 'charact point', 'point put', 'put other', 'other essenti', 'essenti pine', 'pine role', 'role give', 'give abil', 'abil pull', 'pull one', 'one eighti', 'eighti happi', 'happi go', 'go lucki', 'lucki guy', 'guy heartless', 'heartless guy', 'two director', 'director spanish', 'spanish brother', 'brother never', 'never let', 'let momentum', 'momentum flag', 'flag sinc', 'sinc relief', 'relief sight', 'sight carrier', 'carrier sink', 'sink predict', 'predict irrévers', 'irrévers cinematograph', 'cinematograph benoît', 'benoît debi', 'debi fantast', 'fantast job', 'job widescreen', 'widescreen lens', 'lens unsavori', 'unsavori road', 'road trip', 'trip becom', 'becom debi', 'debi make', 'make look', 'look like', 'like dynam', 'dynam film', 'film asid', 'asid lack', 'lack happi', 'happi end', 'end closur', 'closur sen', 'sen word', 'word carrier', 'carrier suffer', 'suffer horribl', 'horribl cynic', 'cynic scene', 'scene german', 'german shepherd', 'shepherd attack', 'attack danni', 'danni conjur', 'conjur suspens', 'suspens even', 'even could', 'could improv', 'improv unfortun', 'unfortun pastor', 'pastor brother', 'brother scare', 'scare either', 'either much', 'much tension', 'tension suspens', 'suspens fade', 'fade realli', 'realli care', 'care happen', 'happen anybodi'])"
            ]
          },
          "execution_count": 44,
          "metadata": {},
          "output_type": "execute_result"
        }
      ],
      "source": [
        "bigram_vectorizer = CountVectorizer(ngram_range = (2,2))\n",
        "bigram_matrix = bigram_vectorizer.fit_transform(train.review.iloc[:5])\n",
        "bigram_vectorizer.vocabulary_.keys() # a dictionary mapping words to columns"
      ]
    },
    {
      "cell_type": "markdown",
      "id": "r_yiUeZNNHaP",
      "metadata": {
        "id": "r_yiUeZNNHaP"
      },
      "source": [
        "### <font color='#eb3483'> 2. Term Frequency-Inverse Document Frequency (TF-IDF) </font>\n",
        "\n",
        "The tokenization process can often produce very many features (i.e. a LARGE vocabularly). Part of the feature engineering process is to try and reduce less very large feature space down, which amounts to selected a subset of the vocabularly that we think is likely to be most relevant for predicting the outcome variable (sentiment, in our example).\n",
        "\n",
        "The frequency of a term (word) can certainly help here. As we mentioned earlier, if a word tends to occur more frequently among positive reviews than negative ones, then it is likely to be a good predictor. However, terms/words that occur frequently across all documents are not very informative e.g. words like \"with\" and \"is\". We therefore want to keep words that occur often within a document, but not often in all documents. The term frequency-inverse document frequency (TF-IDF) attempts to measure this. Higher values indicate that a word is more relevant, and can be used for feature selection."
      ]
    },
    {
      "cell_type": "code",
      "execution_count": 45,
      "id": "aq1O-iQzNHaP",
      "metadata": {
        "id": "aq1O-iQzNHaP"
      },
      "outputs": [
        {
          "name": "stdout",
          "output_type": "stream",
          "text": [
            "The vocularly has 53815 words\n"
          ]
        }
      ],
      "source": [
        "from sklearn.feature_extraction.text import TfidfVectorizer\n",
        "tfidf_vectorizer = TfidfVectorizer()\n",
        "tfidf_matrix = tfidf_vectorizer.fit_transform(train.review)\n",
        "\n",
        "print('The vocularly has', len(tfidf_vectorizer.vocabulary_.keys()), 'words')"
      ]
    },
    {
      "cell_type": "code",
      "execution_count": 46,
      "id": "WTuhyoxQNHaP",
      "metadata": {
        "id": "WTuhyoxQNHaP"
      },
      "outputs": [
        {
          "data": {
            "text/html": [
              "<div>\n",
              "<style scoped>\n",
              "    .dataframe tbody tr th:only-of-type {\n",
              "        vertical-align: middle;\n",
              "    }\n",
              "\n",
              "    .dataframe tbody tr th {\n",
              "        vertical-align: top;\n",
              "    }\n",
              "\n",
              "    .dataframe thead th {\n",
              "        text-align: right;\n",
              "    }\n",
              "</style>\n",
              "<table border=\"1\" class=\"dataframe\">\n",
              "  <thead>\n",
              "    <tr style=\"text-align: right;\">\n",
              "      <th></th>\n",
              "      <th>aa</th>\n",
              "      <th>aaa</th>\n",
              "      <th>aaaaaaah</th>\n",
              "      <th>aaaaah</th>\n",
              "      <th>aaaaatch</th>\n",
              "      <th>aaaahhhhhhh</th>\n",
              "      <th>aaaand</th>\n",
              "      <th>aaaarrgh</th>\n",
              "      <th>aaah</th>\n",
              "      <th>aaargh</th>\n",
              "      <th>...</th>\n",
              "      <th>était</th>\n",
              "      <th>étc</th>\n",
              "      <th>éveri</th>\n",
              "      <th>êxtase</th>\n",
              "      <th>ís</th>\n",
              "      <th>ísnt</th>\n",
              "      <th>østbye</th>\n",
              "      <th>über</th>\n",
              "      <th>üvegtigri</th>\n",
              "      <th>četvorka</th>\n",
              "    </tr>\n",
              "  </thead>\n",
              "  <tbody>\n",
              "    <tr>\n",
              "      <th>0</th>\n",
              "      <td>0.0</td>\n",
              "      <td>0.0</td>\n",
              "      <td>0.0</td>\n",
              "      <td>0.0</td>\n",
              "      <td>0.0</td>\n",
              "      <td>0.0</td>\n",
              "      <td>0.0</td>\n",
              "      <td>0.0</td>\n",
              "      <td>0.0</td>\n",
              "      <td>0.0</td>\n",
              "      <td>...</td>\n",
              "      <td>0.0</td>\n",
              "      <td>0.0</td>\n",
              "      <td>0.0</td>\n",
              "      <td>0.0</td>\n",
              "      <td>0.0</td>\n",
              "      <td>0.0</td>\n",
              "      <td>0.0</td>\n",
              "      <td>0.0</td>\n",
              "      <td>0.0</td>\n",
              "      <td>0.0</td>\n",
              "    </tr>\n",
              "    <tr>\n",
              "      <th>1</th>\n",
              "      <td>0.0</td>\n",
              "      <td>0.0</td>\n",
              "      <td>0.0</td>\n",
              "      <td>0.0</td>\n",
              "      <td>0.0</td>\n",
              "      <td>0.0</td>\n",
              "      <td>0.0</td>\n",
              "      <td>0.0</td>\n",
              "      <td>0.0</td>\n",
              "      <td>0.0</td>\n",
              "      <td>...</td>\n",
              "      <td>0.0</td>\n",
              "      <td>0.0</td>\n",
              "      <td>0.0</td>\n",
              "      <td>0.0</td>\n",
              "      <td>0.0</td>\n",
              "      <td>0.0</td>\n",
              "      <td>0.0</td>\n",
              "      <td>0.0</td>\n",
              "      <td>0.0</td>\n",
              "      <td>0.0</td>\n",
              "    </tr>\n",
              "    <tr>\n",
              "      <th>2</th>\n",
              "      <td>0.0</td>\n",
              "      <td>0.0</td>\n",
              "      <td>0.0</td>\n",
              "      <td>0.0</td>\n",
              "      <td>0.0</td>\n",
              "      <td>0.0</td>\n",
              "      <td>0.0</td>\n",
              "      <td>0.0</td>\n",
              "      <td>0.0</td>\n",
              "      <td>0.0</td>\n",
              "      <td>...</td>\n",
              "      <td>0.0</td>\n",
              "      <td>0.0</td>\n",
              "      <td>0.0</td>\n",
              "      <td>0.0</td>\n",
              "      <td>0.0</td>\n",
              "      <td>0.0</td>\n",
              "      <td>0.0</td>\n",
              "      <td>0.0</td>\n",
              "      <td>0.0</td>\n",
              "      <td>0.0</td>\n",
              "    </tr>\n",
              "    <tr>\n",
              "      <th>3</th>\n",
              "      <td>0.0</td>\n",
              "      <td>0.0</td>\n",
              "      <td>0.0</td>\n",
              "      <td>0.0</td>\n",
              "      <td>0.0</td>\n",
              "      <td>0.0</td>\n",
              "      <td>0.0</td>\n",
              "      <td>0.0</td>\n",
              "      <td>0.0</td>\n",
              "      <td>0.0</td>\n",
              "      <td>...</td>\n",
              "      <td>0.0</td>\n",
              "      <td>0.0</td>\n",
              "      <td>0.0</td>\n",
              "      <td>0.0</td>\n",
              "      <td>0.0</td>\n",
              "      <td>0.0</td>\n",
              "      <td>0.0</td>\n",
              "      <td>0.0</td>\n",
              "      <td>0.0</td>\n",
              "      <td>0.0</td>\n",
              "    </tr>\n",
              "    <tr>\n",
              "      <th>4</th>\n",
              "      <td>0.0</td>\n",
              "      <td>0.0</td>\n",
              "      <td>0.0</td>\n",
              "      <td>0.0</td>\n",
              "      <td>0.0</td>\n",
              "      <td>0.0</td>\n",
              "      <td>0.0</td>\n",
              "      <td>0.0</td>\n",
              "      <td>0.0</td>\n",
              "      <td>0.0</td>\n",
              "      <td>...</td>\n",
              "      <td>0.0</td>\n",
              "      <td>0.0</td>\n",
              "      <td>0.0</td>\n",
              "      <td>0.0</td>\n",
              "      <td>0.0</td>\n",
              "      <td>0.0</td>\n",
              "      <td>0.0</td>\n",
              "      <td>0.0</td>\n",
              "      <td>0.0</td>\n",
              "      <td>0.0</td>\n",
              "    </tr>\n",
              "  </tbody>\n",
              "</table>\n",
              "<p>5 rows × 53815 columns</p>\n",
              "</div>"
            ],
            "text/plain": [
              "    aa  aaa  aaaaaaah  aaaaah  aaaaatch  aaaahhhhhhh  aaaand  aaaarrgh  aaah  \\\n",
              "0  0.0  0.0       0.0     0.0       0.0          0.0     0.0       0.0   0.0   \n",
              "1  0.0  0.0       0.0     0.0       0.0          0.0     0.0       0.0   0.0   \n",
              "2  0.0  0.0       0.0     0.0       0.0          0.0     0.0       0.0   0.0   \n",
              "3  0.0  0.0       0.0     0.0       0.0          0.0     0.0       0.0   0.0   \n",
              "4  0.0  0.0       0.0     0.0       0.0          0.0     0.0       0.0   0.0   \n",
              "\n",
              "   aaargh  ...  était  étc  éveri  êxtase   ís  ísnt  østbye  über  üvegtigri  \\\n",
              "0     0.0  ...    0.0  0.0    0.0     0.0  0.0   0.0     0.0   0.0        0.0   \n",
              "1     0.0  ...    0.0  0.0    0.0     0.0  0.0   0.0     0.0   0.0        0.0   \n",
              "2     0.0  ...    0.0  0.0    0.0     0.0  0.0   0.0     0.0   0.0        0.0   \n",
              "3     0.0  ...    0.0  0.0    0.0     0.0  0.0   0.0     0.0   0.0        0.0   \n",
              "4     0.0  ...    0.0  0.0    0.0     0.0  0.0   0.0     0.0   0.0        0.0   \n",
              "\n",
              "   četvorka  \n",
              "0       0.0  \n",
              "1       0.0  \n",
              "2       0.0  \n",
              "3       0.0  \n",
              "4       0.0  \n",
              "\n",
              "[5 rows x 53815 columns]"
            ]
          },
          "execution_count": 46,
          "metadata": {},
          "output_type": "execute_result"
        }
      ],
      "source": [
        "tfidx_df = pd.DataFrame(tfidf_matrix.toarray(), columns=pd.Series(tfidf_vectorizer.vocabulary_).sort_values().index)\n",
        "tfidx_df.head()"
      ]
    },
    {
      "cell_type": "code",
      "execution_count": 47,
      "id": "LTPBX9oYNHaP",
      "metadata": {
        "id": "LTPBX9oYNHaP"
      },
      "outputs": [
        {
          "data": {
            "text/plain": [
              "movi       1395.217537\n",
              "film       1164.918810\n",
              "one         693.350536\n",
              "like        630.859384\n",
              "good        527.851566\n",
              "watch       526.649161\n",
              "time        505.284488\n",
              "see         477.634255\n",
              "make        470.569984\n",
              "stori       463.506564\n",
              "charact     461.662631\n",
              "get         445.976145\n",
              "realli      442.419940\n",
              "even        426.471006\n",
              "would       424.594410\n",
              "bad         420.443611\n",
              "show        400.694150\n",
              "well        386.446080\n",
              "great       384.303172\n",
              "scene       378.754442\n",
              "dtype: float64"
            ]
          },
          "execution_count": 47,
          "metadata": {},
          "output_type": "execute_result"
        }
      ],
      "source": [
        "word_relevance = tfidx_df.sum().sort_values(ascending=False)\n",
        "word_relevance.head(20)"
      ]
    },
    {
      "cell_type": "code",
      "execution_count": 48,
      "id": "88V3IvPdNHaP",
      "metadata": {
        "id": "88V3IvPdNHaP"
      },
      "outputs": [
        {
          "data": {
            "text/plain": [
              "indicit          0.027906\n",
              "carrion          0.027906\n",
              "tannouncement    0.017390\n",
              "superkick        0.017390\n",
              "strom            0.017390\n",
              "nwo              0.017390\n",
              "wassup           0.017390\n",
              "rvdmatch         0.017390\n",
              "champions        0.017390\n",
              "hurracanrana     0.017390\n",
              "pinfal           0.017390\n",
              "turnbuckl        0.017390\n",
              "noblematch       0.017390\n",
              "crossfac         0.017390\n",
              "stormmatch       0.017390\n",
              "dudleymatch      0.017390\n",
              "rollup           0.017390\n",
              "cenamatch        0.017390\n",
              "hardymatch       0.017390\n",
              "riksihi          0.017390\n",
              "dtype: float64"
            ]
          },
          "execution_count": 48,
          "metadata": {},
          "output_type": "execute_result"
        }
      ],
      "source": [
        "word_relevance.tail(20)"
      ]
    },
    {
      "cell_type": "code",
      "execution_count": 49,
      "id": "K1o7WMi6NHaP",
      "metadata": {
        "id": "K1o7WMi6NHaP"
      },
      "outputs": [
        {
          "name": "stderr",
          "output_type": "stream",
          "text": [
            "/opt/anaconda3/lib/python3.11/site-packages/seaborn/_oldcore.py:1119: FutureWarning: use_inf_as_na option is deprecated and will be removed in a future version. Convert inf values to NaN before operating instead.\n",
            "  with pd.option_context('mode.use_inf_as_na', True):\n",
            "/opt/anaconda3/lib/python3.11/site-packages/seaborn/_oldcore.py:1119: FutureWarning: use_inf_as_na option is deprecated and will be removed in a future version. Convert inf values to NaN before operating instead.\n",
            "  with pd.option_context('mode.use_inf_as_na', True):\n"
          ]
        },
        {
          "data": {
            "text/plain": [
              "<matplotlib.lines.Line2D at 0x175abcb90>"
            ]
          },
          "execution_count": 49,
          "metadata": {},
          "output_type": "execute_result"
        },
        {
          "data": {
            "image/png": "[encoded data removed]",
            "text/plain": [
              "<Figure size 640x480 with 1 Axes>"
            ]
          },
          "metadata": {},
          "output_type": "display_data"
        }
      ],
      "source": [
        "import numpy as np\n",
        "import seaborn as sns\n",
        "graph = sns.lineplot(x=np.arange(5000),y=word_relevance.iloc[:5000])\n",
        "graph.axvline(500, c='r')\n"
      ]
    },
    {
      "cell_type": "markdown",
      "id": "6YFFbEhHNHaP",
      "metadata": {
        "id": "6YFFbEhHNHaP"
      },
      "source": [
        "The resulting plot will have a red vertical line at the x-coordinate 500, which can be used to highlight a specific point or threshold in the data.\n",
        "\n",
        "Let's keep just the top 500 words/features for model building:"
      ]
    },
    {
      "cell_type": "code",
      "execution_count": 50,
      "id": "DBrXnfbdNHaP",
      "metadata": {
        "id": "DBrXnfbdNHaP"
      },
      "outputs": [],
      "source": [
        "vocab = word_relevance[:500].index\n",
        "\n",
        "tfidf_vect = TfidfVectorizer(vocabulary=vocab)\n",
        "X_train = tfidf_vect.fit_transform(train.review)\n",
        "X_test  = tfidf_vect.transform(test.review)"
      ]
    },
    {
      "cell_type": "code",
      "execution_count": 51,
      "id": "zLvqclL3NHaP",
      "metadata": {
        "id": "zLvqclL3NHaP"
      },
      "outputs": [
        {
          "name": "stdout",
          "output_type": "stream",
          "text": [
            "Training data shape: (25000, 500)\n",
            "Test data shape: (25000, 500)\n"
          ]
        }
      ],
      "source": [
        "print('Training data shape:', X_train.shape)\n",
        "print('Test data shape:', X_test.shape)"
      ]
    },
    {
      "cell_type": "markdown",
      "id": "2-JaRp_wNHaQ",
      "metadata": {
        "id": "2-JaRp_wNHaQ"
      },
      "source": [
        "## <font color='#eb3483'> Model Building </font>\n",
        "\n",
        "Now that we have a set of features and a discrete outcome variable, we can go ahead and train whichever classifier we choose... or better still, try a few different classification algos and choose the best one using the test data!\n",
        "\n",
        "As an example, let's train an out-of-the-box random forest:"
      ]
    },
    {
      "cell_type": "code",
      "execution_count": 52,
      "id": "ep-adAOcNHaQ",
      "metadata": {
        "id": "ep-adAOcNHaQ"
      },
      "outputs": [
        {
          "data": {
            "text/html": [
              "<style>#sk-container-id-1 {color: black;background-color: white;}#sk-container-id-1 pre{padding: 0;}#sk-container-id-1 div.sk-toggleable {background-color: white;}#sk-container-id-1 label.sk-toggleable__label {cursor: pointer;display: block;width: 100%;margin-bottom: 0;padding: 0.3em;box-sizing: border-box;text-align: center;}#sk-container-id-1 label.sk-toggleable__label-arrow:before {content: \"▸\";float: left;margin-right: 0.25em;color: #696969;}#sk-container-id-1 label.sk-toggleable__label-arrow:hover:before {color: black;}#sk-container-id-1 div.sk-estimator:hover label.sk-toggleable__label-arrow:before {color: black;}#sk-container-id-1 div.sk-toggleable__content {max-height: 0;max-width: 0;overflow: hidden;text-align: left;background-color: #f0f8ff;}#sk-container-id-1 div.sk-toggleable__content pre {margin: 0.2em;color: black;border-radius: 0.25em;background-color: #f0f8ff;}#sk-container-id-1 input.sk-toggleable__control:checked~div.sk-toggleable__content {max-height: 200px;max-width: 100%;overflow: auto;}#sk-container-id-1 input.sk-toggleable__control:checked~label.sk-toggleable__label-arrow:before {content: \"▾\";}#sk-container-id-1 div.sk-estimator input.sk-toggleable__control:checked~label.sk-toggleable__label {background-color: #d4ebff;}#sk-container-id-1 div.sk-label input.sk-toggleable__control:checked~label.sk-toggleable__label {background-color: #d4ebff;}#sk-container-id-1 input.sk-hidden--visually {border: 0;clip: rect(1px 1px 1px 1px);clip: rect(1px, 1px, 1px, 1px);height: 1px;margin: -1px;overflow: hidden;padding: 0;position: absolute;width: 1px;}#sk-container-id-1 div.sk-estimator {font-family: monospace;background-color: #f0f8ff;border: 1px dotted black;border-radius: 0.25em;box-sizing: border-box;margin-bottom: 0.5em;}#sk-container-id-1 div.sk-estimator:hover {background-color: #d4ebff;}#sk-container-id-1 div.sk-parallel-item::after {content: \"\";width: 100%;border-bottom: 1px solid gray;flex-grow: 1;}#sk-container-id-1 div.sk-label:hover label.sk-toggleable__label {background-color: #d4ebff;}#sk-container-id-1 div.sk-serial::before {content: \"\";position: absolute;border-left: 1px solid gray;box-sizing: border-box;top: 0;bottom: 0;left: 50%;z-index: 0;}#sk-container-id-1 div.sk-serial {display: flex;flex-direction: column;align-items: center;background-color: white;padding-right: 0.2em;padding-left: 0.2em;position: relative;}#sk-container-id-1 div.sk-item {position: relative;z-index: 1;}#sk-container-id-1 div.sk-parallel {display: flex;align-items: stretch;justify-content: center;background-color: white;position: relative;}#sk-container-id-1 div.sk-item::before, #sk-container-id-1 div.sk-parallel-item::before {content: \"\";position: absolute;border-left: 1px solid gray;box-sizing: border-box;top: 0;bottom: 0;left: 50%;z-index: -1;}#sk-container-id-1 div.sk-parallel-item {display: flex;flex-direction: column;z-index: 1;position: relative;background-color: white;}#sk-container-id-1 div.sk-parallel-item:first-child::after {align-self: flex-end;width: 50%;}#sk-container-id-1 div.sk-parallel-item:last-child::after {align-self: flex-start;width: 50%;}#sk-container-id-1 div.sk-parallel-item:only-child::after {width: 0;}#sk-container-id-1 div.sk-dashed-wrapped {border: 1px dashed gray;margin: 0 0.4em 0.5em 0.4em;box-sizing: border-box;padding-bottom: 0.4em;background-color: white;}#sk-container-id-1 div.sk-label label {font-family: monospace;font-weight: bold;display: inline-block;line-height: 1.2em;}#sk-container-id-1 div.sk-label-container {text-align: center;}#sk-container-id-1 div.sk-container {/* jupyter's `normalize.less` sets `[hidden] { display: none; }` but bootstrap.min.css set `[hidden] { display: none !important; }` so we also need the `!important` here to be able to override the default hidden behavior on the sphinx rendered scikit-learn.org. See: https://github.com/scikit-learn/scikit-learn/issues/21755 */display: inline-block !important;position: relative;}#sk-container-id-1 div.sk-text-repr-fallback {display: none;}</style><div id=\"sk-container-id-1\" class=\"sk-top-container\"><div class=\"sk-text-repr-fallback\"><pre>RandomForestClassifier()</pre><b>In a Jupyter environment, please rerun this cell to show the HTML representation or trust the notebook. <br />On GitHub, the HTML representation is unable to render, please try loading this page with nbviewer.org.</b></div><div class=\"sk-container\" hidden><div class=\"sk-item\"><div class=\"sk-estimator sk-toggleable\"><input class=\"sk-toggleable__control sk-hidden--visually\" id=\"sk-estimator-id-1\" type=\"checkbox\" checked><label for=\"sk-estimator-id-1\" class=\"sk-toggleable__label sk-toggleable__label-arrow\">RandomForestClassifier</label><div class=\"sk-toggleable__content\"><pre>RandomForestClassifier()</pre></div></div></div></div></div>"
            ],
            "text/plain": [
              "RandomForestClassifier()"
            ]
          },
          "execution_count": 52,
          "metadata": {},
          "output_type": "execute_result"
        }
      ],
      "source": [
        "from sklearn.ensemble import RandomForestClassifier\n",
        "rf = RandomForestClassifier()\n",
        "rf.fit(X=X_train, y=train.sentiment) # this may take a few minutes"
      ]
    },
    {
      "cell_type": "code",
      "execution_count": 53,
      "id": "DH7oXiIsNHaQ",
      "metadata": {
        "id": "DH7oXiIsNHaQ"
      },
      "outputs": [
        {
          "data": {
            "text/plain": [
              "<Axes: >"
            ]
          },
          "execution_count": 53,
          "metadata": {},
          "output_type": "execute_result"
        },
        {
          "data": {
            "image/png": "[encoded data removed]",
            "text/plain": [
              "<Figure size 1000x1000 with 1 Axes>"
            ]
          },
          "metadata": {},
          "output_type": "display_data"
        }
      ],
      "source": [
        "varimp = pd.Series(rf.feature_importances_, index=vocab).sort_values(ascending=False)\n",
        "\n",
        "import matplotlib.pyplot as plt\n",
        "plt.figure(figsize=(10,10))\n",
        "sns.barplot(x=varimp[:20], y=varimp.index[:20])"
      ]
    },
    {
      "cell_type": "code",
      "execution_count": 54,
      "id": "7NfpuAiyNHaQ",
      "metadata": {
        "id": "7NfpuAiyNHaQ"
      },
      "outputs": [],
      "source": [
        "y_pred = rf.predict(X_test)"
      ]
    },
    {
      "cell_type": "code",
      "execution_count": 55,
      "id": "w2x1AynSNHaQ",
      "metadata": {
        "id": "w2x1AynSNHaQ"
      },
      "outputs": [
        {
          "name": "stdout",
          "output_type": "stream",
          "text": [
            "Confusion matrix:\n",
            " [[10279  2221]\n",
            " [ 2244 10256]] \n",
            "\n",
            "Test accuracy: 0.8214\n"
          ]
        },
        {
          "data": {
            "text/plain": [
              "<sklearn.metrics._plot.roc_curve.RocCurveDisplay at 0x160794450>"
            ]
          },
          "execution_count": 55,
          "metadata": {},
          "output_type": "execute_result"
        },
        {
          "data": {
            "image/png": "[encoded data removed]",
            "text/plain": [
              "<Figure size 640x480 with 1 Axes>"
            ]
          },
          "metadata": {},
          "output_type": "display_data"
        }
      ],
      "source": [
        "from sklearn.metrics import confusion_matrix, accuracy_score, RocCurveDisplay\n",
        "print('Confusion matrix:\\n', confusion_matrix(test.sentiment, y_pred), '\\n')\n",
        "print('Test accuracy:', accuracy_score(test.sentiment, y_pred))\n",
        "RocCurveDisplay.from_estimator(rf, X_test, test.sentiment)"
      ]
    },
    {
      "cell_type": "markdown",
      "id": "pE9VcHuxNHaQ",
      "metadata": {
        "id": "pE9VcHuxNHaQ"
      },
      "source": [
        "## <font color='#eb3483'> Pre-Trained Sentiment Classifier </font>\n",
        "\n",
        "In the work above, we trained our own sentiment classifier. This is often useful to identify sentiment within a specific fields, where certain worlds have special meanings. For example, if you were to develop a sentiment classifier for financial news headlines, you would want the word \"bull\" to have positive sentiment and \"bear\" to have a negative sentiment (prices rise in \"bull markets\" and plummet in \"bear markets\"). In most other contexts, the sentiment around bulls and bears would probably be different.\n",
        "\n",
        "For some domains, pre-trained models are available. Like our model above, these models typically map words to sentiment scores (called a **lexicon**) that are then combined for a given sentence. Other folk have trained the model on a specific dataset (just like we did above) and made the model available to us.\n",
        "\n",
        "**For example, the VADER VADER (Valence Aware Dictionary and sEntiment Reasoner) lexicon is a sentiment analysis tool that is particularly effective for analyzing social media text.**"
      ]
    },
    {
      "cell_type": "code",
      "execution_count": 56,
      "id": "p4U0ygioNHaQ",
      "metadata": {
        "id": "p4U0ygioNHaQ"
      },
      "outputs": [
        {
          "name": "stderr",
          "output_type": "stream",
          "text": [
            "[nltk_data] Downloading package vader_lexicon to\n",
            "[nltk_data]     /Users/mollyrudisill/nltk_data...\n"
          ]
        }
      ],
      "source": [
        "from nltk.sentiment import SentimentIntensityAnalyzer\n",
        "nltk.download('vader_lexicon')\n",
        "\n",
        "sia = SentimentIntensityAnalyzer()"
      ]
    },
    {
      "cell_type": "markdown",
      "id": "eIue-7GW2Ijy",
      "metadata": {
        "id": "eIue-7GW2Ijy"
      },
      "source": [
        "**sia.polarity** calls the polarity_scores method from the VADER sentiment analysis tool (sia) and returns a dictionary of sentiment scores for the input text x.\n",
        "\n",
        "The dictionary contains four keys: neg, neu, pos, and compound. The compound score is a normalized, weighted composite score that summarizes the overall sentiment of the text."
      ]
    },
    {
      "cell_type": "code",
      "execution_count": 57,
      "id": "atQNOJn6NHaQ",
      "metadata": {
        "id": "atQNOJn6NHaQ"
      },
      "outputs": [
        {
          "data": {
            "text/plain": [
              "{'neg': 0.0, 'neu': 0.0, 'pos': 1.0, 'compound': 0.6369}"
            ]
          },
          "execution_count": 57,
          "metadata": {},
          "output_type": "execute_result"
        }
      ],
      "source": [
        "#This calls the polarity_scores method from the VADER sentiment analysis tool (sia)\n",
        "sia.polarity_scores(\"love\")"
      ]
    },
    {
      "cell_type": "code",
      "execution_count": 58,
      "id": "WhmNsP0dNHaQ",
      "metadata": {
        "id": "WhmNsP0dNHaQ"
      },
      "outputs": [
        {
          "data": {
            "text/plain": [
              "{'neg': 1.0, 'neu': 0.0, 'pos': 0.0, 'compound': -0.5719}"
            ]
          },
          "execution_count": 58,
          "metadata": {},
          "output_type": "execute_result"
        }
      ],
      "source": [
        "sia.polarity_scores(\"hate\")"
      ]
    },
    {
      "cell_type": "code",
      "execution_count": 59,
      "id": "-8Aq61hGNHaQ",
      "metadata": {
        "id": "-8Aq61hGNHaQ"
      },
      "outputs": [
        {
          "data": {
            "text/plain": [
              "{'neg': 0.0, 'neu': 1.0, 'pos': 0.0, 'compound': 0.0}"
            ]
          },
          "execution_count": 59,
          "metadata": {},
          "output_type": "execute_result"
        }
      ],
      "source": [
        "sia.polarity_scores(\"bull\")"
      ]
    },
    {
      "cell_type": "code",
      "execution_count": 60,
      "id": "AVPBZ9UyNHaQ",
      "metadata": {
        "id": "AVPBZ9UyNHaQ"
      },
      "outputs": [
        {
          "data": {
            "text/plain": [
              "{'neg': 0.0, 'neu': 0.417, 'pos': 0.583, 'compound': 0.6369}"
            ]
          },
          "execution_count": 60,
          "metadata": {},
          "output_type": "execute_result"
        }
      ],
      "source": [
        "sia.polarity_scores(\"I love waffles and ice-cream\")"
      ]
    },
    {
      "cell_type": "markdown",
      "id": "he3uXFBaNHaQ",
      "metadata": {
        "id": "he3uXFBaNHaQ"
      },
      "source": [
        "Let's see how well the VADER lexicon captures the sentiment in our movie reviews:"
      ]
    },
    {
      "cell_type": "code",
      "execution_count": 61,
      "id": "U5ekxYp8NHaQ",
      "metadata": {
        "id": "U5ekxYp8NHaQ"
      },
      "outputs": [
        {
          "data": {
            "text/html": [
              "<div>\n",
              "<style scoped>\n",
              "    .dataframe tbody tr th:only-of-type {\n",
              "        vertical-align: middle;\n",
              "    }\n",
              "\n",
              "    .dataframe tbody tr th {\n",
              "        vertical-align: top;\n",
              "    }\n",
              "\n",
              "    .dataframe thead th {\n",
              "        text-align: right;\n",
              "    }\n",
              "</style>\n",
              "<table border=\"1\" class=\"dataframe\">\n",
              "  <thead>\n",
              "    <tr style=\"text-align: right;\">\n",
              "      <th>sentiment</th>\n",
              "      <th>0</th>\n",
              "      <th>1</th>\n",
              "    </tr>\n",
              "    <tr>\n",
              "      <th>row_0</th>\n",
              "      <th></th>\n",
              "      <th></th>\n",
              "    </tr>\n",
              "  </thead>\n",
              "  <tbody>\n",
              "    <tr>\n",
              "      <th>False</th>\n",
              "      <td>11812</td>\n",
              "      <td>4269</td>\n",
              "    </tr>\n",
              "    <tr>\n",
              "      <th>True</th>\n",
              "      <td>13188</td>\n",
              "      <td>20731</td>\n",
              "    </tr>\n",
              "  </tbody>\n",
              "</table>\n",
              "</div>"
            ],
            "text/plain": [
              "sentiment      0      1\n",
              "row_0                  \n",
              "False      11812   4269\n",
              "True       13188  20731"
            ]
          },
          "execution_count": 61,
          "metadata": {},
          "output_type": "execute_result"
        }
      ],
      "source": [
        "vader_sentiment = [sia.polarity_scores(x)['compound'] for x in df.review] #This is a list comprehension that iterates over each review in the df.review column, calculates the compound sentiment score for each review, and stores these scores in the list vader_sentiment.\n",
        "pd.crosstab(np.array(vader_sentiment) > 0, df.sentiment)"
      ]
    },
    {
      "cell_type": "markdown",
      "id": "I2eDMYvfNHaR",
      "metadata": {
        "id": "I2eDMYvfNHaR"
      },
      "source": [
        "We see that when a movie review has positive sentiment, the VADER lexicon agrees 20731/(20731+4269) = 83% of the time.\n",
        "\n",
        "But when the reviewer's sentiment is actually negative, VADER only agrees 11811/(11811+13189) = 47% of the time.\n",
        "\n",
        "Perhaps there are differences between the way people express sentiment in social media compared to in movie reviews?"
      ]
    }
  ],
  "metadata": {
    "colab": {
      "provenance": [],
      "toc_visible": true
    },
    "kernelspec": {
      "display_name": "Python 3",
      "language": "python",
      "name": "python3"
    },
    "language_info": {
      "codemirror_mode": {
        "name": "ipython",
        "version": 3
      },
      "file_extension": ".py",
      "mimetype": "text/x-python",
      "name": "python",
      "nbconvert_exporter": "python",
      "pygments_lexer": "ipython3",
      "version": "3.11.8"
    }
  },
  "nbformat": 4,
  "nbformat_minor": 5
}
