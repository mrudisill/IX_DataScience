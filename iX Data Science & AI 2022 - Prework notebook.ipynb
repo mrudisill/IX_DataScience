{
 "cells": [
  {
   "cell_type": "markdown",
   "metadata": {},
   "source": [
    "# <font color='#eb3483'> GETTING STARTED </font>\n",
    "\n",
    "\n",
    "Welcome to the <font color='#eb3483'> iXperience course on Data Science</font>! We can't wait to meet you and kick off the class! In the meantime, please run through this notebook to familiarise yourself with Jupyter notebooks and also some Python coding basics."
   ]
  },
  {
   "cell_type": "markdown",
   "metadata": {},
   "source": [
    "### Some navigating in Jupyter Notebooks"
   ]
  },
  {
   "cell_type": "code",
   "execution_count": 1,
   "metadata": {},
   "outputs": [
    {
     "name": "stdout",
     "output_type": "stream",
     "text": [
      "Hello World!\n"
     ]
    }
   ],
   "source": [
    "# to run a cell hit Control+Enter\n",
    "# to run a cell and move to the next cell hit Shift+Enter\n",
    "\n",
    "print('Hello World!')\n"
   ]
  },
  {
   "cell_type": "markdown",
   "metadata": {},
   "source": [
    "### Markdown"
   ]
  },
  {
   "cell_type": "markdown",
   "metadata": {},
   "source": [
    "This is a markdown cell. Double click to see the code."
   ]
  },
  {
   "cell_type": "markdown",
   "metadata": {},
   "source": [
    "To change the cell type (and other options) you need to be in \"command mode\". You are in command mode when the colour on the left of your cell is blue and you are in \"edit mode\" when the colour is green.\n",
    "\n",
    "To get into command mode you can hit esc, click the pencil icon on the top right or click next to the line colour on the left of the cell.\n",
    "\n",
    "Try it in the empty cell below.\n",
    "\n",
    "To get back to edit mode from command mode hit enter.\n",
    "\n",
    "To change a cell to Markdown. Enter command mode and select markdown from the dropdown menu above or simply hit m.\n",
    "\n",
    "To view command mode shortcuts - hit h while in command mode\n"
   ]
  },
  {
   "cell_type": "code",
   "execution_count": null,
   "metadata": {},
   "outputs": [],
   "source": []
  },
  {
   "cell_type": "markdown",
   "metadata": {},
   "source": [
    "\n",
    "Once a cell is set to output markdown, you can write text and it will turn into beautiful html. Here is a great markdown [cheatsheet](https://github.com/adam-p/markdown-here/wiki/Markdown-Cheatsheet#code) to keep handy!\n",
    "\n",
    "**This in bold** \n",
    "(double click this cell to see how we generate these effects - to transform to markdown simply run cell as normal\n",
    "\n",
    "*This in italics*\n",
    "\n",
    "### Introduction to Jupyter Header\n",
    "\n",
    "- Element 1\n",
    "  - Element 1.1\n",
    "  \n",
    "  \n",
    "<hr>\n",
    "\n",
    "![kitty](https://c24e867c169a525707e0-bfbd62e61283d807ee2359a795242ecb.ssl.cf3.rackcdn.com/imagenes/gato/etapas-clave-de-su-vida/gatitos/nuevo-gatito-en-casa/gatito-tumbado-lamiendo-sus-patitas.jpg)"
   ]
  },
  {
   "cell_type": "markdown",
   "metadata": {},
   "source": [
    "<hr>\n",
    "\n",
    "### Code cells"
   ]
  },
  {
   "cell_type": "code",
   "execution_count": 2,
   "metadata": {},
   "outputs": [
    {
     "name": "stdout",
     "output_type": "stream",
     "text": [
      "Hello World!\n",
      "Second line to print!\n",
      "Printing our third line\n"
     ]
    }
   ],
   "source": [
    "# This is a comment, python ignores these lines. Its useful to add small explanations to your code or notes to yourself \n",
    "\n",
    "#Python scripts are executed linearly, line after line, top to bottom\n",
    "\n",
    "print('Hello World!')\n",
    "\n",
    "print(\"Second line to print!\")\n",
    "\n",
    "# in python, text (strings), can be defined either with single quotes ' or double quotes \"\n",
    "print('Printing our third line')\n"
   ]
  },
  {
   "cell_type": "markdown",
   "metadata": {},
   "source": [
    "### A few more helpful tips\n",
    "\n",
    "When in command mode here are a few handy shortcuts. Hitting:\n",
    "- m changes cell to markdown\n",
    "- a inserts cell above\n",
    "- b inserts cell below\n",
    "- dd deletes a cell.\n",
    "- z undoes delete cell\n"
   ]
  },
  {
   "cell_type": "markdown",
   "metadata": {},
   "source": [
    "<hr>"
   ]
  },
  {
   "cell_type": "markdown",
   "metadata": {},
   "source": [
    "\n",
    "# <font color='#eb3483'> INTRO TO PYTHON </font>\n",
    "\n",
    "<font color='#eb3483'> 1. Variables in Python </font>\n",
    "\n",
    "<font color='#eb3483'> 2. Data types </font>\n",
    "\n",
    "<font color='#eb3483'> 3. Data Structures </font>\n",
    "\n",
    "<font color='#eb3483'> 4. Control Flow types </font>\n",
    "\n",
    "<font color='#eb3483'> 5. Functions </font>\n",
    "\n",
    "\n",
    "\n",
    "<br>\n",
    "\n",
    "**Be an active rather than a passive learner:**\n",
    "\n",
    "Anybody can hit shift enter and whiz through this notebook. \n",
    "\n",
    "As you go through the notebook. Stop. Think. Can you think of a situation you might use that code.\n",
    "\n",
    "Change inputs, change names ... see what happens. Be playful and inquisitive. You wont break anything. You can always download it again :)\n",
    "\n",
    "If something doesnt make sense. Google for an explanation. \n",
    "\n",
    "If you arent sure what a piece of code does - try changing it and see. \n",
    "\n",
    "Or you can always use the inbuilt help function as in the cell below\n"
   ]
  },
  {
   "cell_type": "code",
   "execution_count": 3,
   "metadata": {},
   "outputs": [
    {
     "name": "stdout",
     "output_type": "stream",
     "text": [
      "\u001b[0;31mSignature:\u001b[0m \u001b[0mprint\u001b[0m\u001b[0;34m(\u001b[0m\u001b[0;34m*\u001b[0m\u001b[0margs\u001b[0m\u001b[0;34m,\u001b[0m \u001b[0msep\u001b[0m\u001b[0;34m=\u001b[0m\u001b[0;34m' '\u001b[0m\u001b[0;34m,\u001b[0m \u001b[0mend\u001b[0m\u001b[0;34m=\u001b[0m\u001b[0;34m'\\n'\u001b[0m\u001b[0;34m,\u001b[0m \u001b[0mfile\u001b[0m\u001b[0;34m=\u001b[0m\u001b[0;32mNone\u001b[0m\u001b[0;34m,\u001b[0m \u001b[0mflush\u001b[0m\u001b[0;34m=\u001b[0m\u001b[0;32mFalse\u001b[0m\u001b[0;34m)\u001b[0m\u001b[0;34m\u001b[0m\u001b[0;34m\u001b[0m\u001b[0m\n",
      "\u001b[0;31mDocstring:\u001b[0m\n",
      "Prints the values to a stream, or to sys.stdout by default.\n",
      "\n",
      "sep\n",
      "  string inserted between values, default a space.\n",
      "end\n",
      "  string appended after the last value, default a newline.\n",
      "file\n",
      "  a file-like object (stream); defaults to the current sys.stdout.\n",
      "flush\n",
      "  whether to forcibly flush the stream.\n",
      "\u001b[0;31mType:\u001b[0m      builtin_function_or_method"
     ]
    }
   ],
   "source": [
    "print?"
   ]
  },
  {
   "cell_type": "markdown",
   "metadata": {},
   "source": [
    "**I recommend doing this notebook in a couple of sessions over a day or two to just to let the information sink in.**\n",
    "\n",
    "This first notebook has a lot of the really basic need to knows.\n",
    "The use of code in the examples below is to show you how each function works. It might seem a little bit abstract here. But once we nail down the basics we can start applying them to real data - and their utility will come shining through.\n",
    "\n",
    "So for now - let's smash the basic and practice some python!\n"
   ]
  },
  {
   "cell_type": "markdown",
   "metadata": {},
   "source": [
    "<br>\n",
    "<br>\n",
    "\n",
    "<hr>\n",
    "\n"
   ]
  },
  {
   "cell_type": "markdown",
   "metadata": {},
   "source": [
    "# <font color='#eb3483'> 1. VARIABLES IN PYTHON </font>\n",
    "In Python, variable names are like stickers put on objects. Every sticker has a unique name written on it, and it can only be on one object at a time. If desired, more than one sticker can be put on the same object."
   ]
  },
  {
   "cell_type": "code",
   "execution_count": 4,
   "metadata": {},
   "outputs": [
    {
     "name": "stdout",
     "output_type": "stream",
     "text": [
      "Animal is cat, pet is cat\n",
      "Animal is now giraffe, pet is still cat\n"
     ]
    }
   ],
   "source": [
    "# assign the 'animal' sticker to the cat string\n",
    "animal = 'cat'\n",
    "\n",
    "# also assign the 'pet' sticker to the underlying cat string\n",
    "pet = animal\n",
    "\n",
    "print(f'Animal is {animal}, pet is {pet}') # we'll get to the f annotation in a few seconds :) \n",
    "#But to see what the f does, delete it and try run the code again\n",
    "\n",
    "# move the animal sticker to giraffe\n",
    "animal = 'giraffe'\n",
    "\n",
    "print(f'Animal is now {animal}, pet is still {pet}')"
   ]
  },
  {
   "cell_type": "code",
   "execution_count": 5,
   "metadata": {},
   "outputs": [],
   "source": [
    "# How would you get pet to change as well? Try it out below!\n",
    "\n",
    "\n"
   ]
  },
  {
   "cell_type": "markdown",
   "metadata": {},
   "source": [
    "# END OF VARIABLE TYPES \n",
    "(They arent all this quick ;) )\n",
    "\n",
    "![variables](https://starecat.com/content/wp-content/uploads/actual-programming-vs-debating-30-minutes-on-how-to-name-a-variable-drake-meme.jpg)\n",
    "\n",
    "<hr>\n",
    "<br>\n",
    "<br>\n",
    "<br>\n"
   ]
  },
  {
   "cell_type": "markdown",
   "metadata": {},
   "source": [
    "# <font color='#eb3483'> 2. DATA TYPES </font>\n",
    "Python has many types of data that are a part of the core language, they \n",
    "are called primitives.\n",
    "\n",
    "The most common primitives are \n",
    "1. strings, \n",
    "1. numbers (integers and decimals), and \n",
    "1. booleans"
   ]
  },
  {
   "cell_type": "markdown",
   "metadata": {},
   "source": [
    "### <font color='#eb3483'> 1. Strings </font>"
   ]
  },
  {
   "cell_type": "code",
   "execution_count": 6,
   "metadata": {},
   "outputs": [
    {
     "name": "stdout",
     "output_type": "stream",
     "text": [
      "We use strings to represent text:\n",
      "Hello\n",
      "World!\n",
      "Hello World!\n",
      "<class 'str'>\n"
     ]
    }
   ],
   "source": [
    "print(\"We use strings to represent text:\")\n",
    "\n",
    "var_str = 'Hello'\n",
    "var_str2 = \"World!\"\n",
    "print(var_str)\n",
    "print(var_str2)\n",
    "print(var_str, var_str2)\n",
    "\n",
    "print(type(var_str2))"
   ]
  },
  {
   "cell_type": "code",
   "execution_count": 7,
   "metadata": {},
   "outputs": [
    {
     "name": "stdout",
     "output_type": "stream",
     "text": [
      "\u001b[0;31mSignature:\u001b[0m \u001b[0mprint\u001b[0m\u001b[0;34m(\u001b[0m\u001b[0;34m*\u001b[0m\u001b[0margs\u001b[0m\u001b[0;34m,\u001b[0m \u001b[0msep\u001b[0m\u001b[0;34m=\u001b[0m\u001b[0;34m' '\u001b[0m\u001b[0;34m,\u001b[0m \u001b[0mend\u001b[0m\u001b[0;34m=\u001b[0m\u001b[0;34m'\\n'\u001b[0m\u001b[0;34m,\u001b[0m \u001b[0mfile\u001b[0m\u001b[0;34m=\u001b[0m\u001b[0;32mNone\u001b[0m\u001b[0;34m,\u001b[0m \u001b[0mflush\u001b[0m\u001b[0;34m=\u001b[0m\u001b[0;32mFalse\u001b[0m\u001b[0;34m)\u001b[0m\u001b[0;34m\u001b[0m\u001b[0;34m\u001b[0m\u001b[0m\n",
      "\u001b[0;31mDocstring:\u001b[0m\n",
      "Prints the values to a stream, or to sys.stdout by default.\n",
      "\n",
      "sep\n",
      "  string inserted between values, default a space.\n",
      "end\n",
      "  string appended after the last value, default a newline.\n",
      "file\n",
      "  a file-like object (stream); defaults to the current sys.stdout.\n",
      "flush\n",
      "  whether to forcibly flush the stream.\n",
      "\u001b[0;31mType:\u001b[0m      builtin_function_or_method"
     ]
    }
   ],
   "source": [
    "#If you want to better understand what a function does use the inbuilt help feature\n",
    "#by either typing ?function_name or using the help menu item (or good old google)\n",
    "\n",
    "?print"
   ]
  },
  {
   "cell_type": "markdown",
   "metadata": {},
   "source": [
    "Strings can be joined to create longer strings. There are many ways to join strings\n",
    "(this is called string interpolation).\n",
    "\n",
    "We can use the simbol `+` to \"sum\" (concatenate) strings"
   ]
  },
  {
   "cell_type": "code",
   "execution_count": 8,
   "metadata": {},
   "outputs": [
    {
     "name": "stdout",
     "output_type": "stream",
     "text": [
      "Elvis Presley\n"
     ]
    }
   ],
   "source": [
    "name = \"Elvis\"\n",
    "surname = \"Presley\" #(we call a last name a surname in South Africa)\n",
    "\n",
    "var_str_joined = name + \" \" + surname #remove the space between the \"\" and see what happens\n",
    "print(var_str_joined)"
   ]
  },
  {
   "cell_type": "code",
   "execution_count": 9,
   "metadata": {},
   "outputs": [
    {
     "name": "stdout",
     "output_type": "stream",
     "text": [
      "hellohellohellohellohellohellohellohellohellohello\n"
     ]
    }
   ],
   "source": [
    "#We can also \"multiply\" strings\n",
    "n = \"hello\"\n",
    "print(n * 10)"
   ]
  },
  {
   "cell_type": "markdown",
   "metadata": {},
   "source": [
    "We can also use the method `format()` that allows us to insert strings inside other strings\n"
   ]
  },
  {
   "cell_type": "code",
   "execution_count": 10,
   "metadata": {},
   "outputs": [
    {
     "name": "stdout",
     "output_type": "stream",
     "text": [
      "Hi, I'm Spock, and I'm from Shi'Kahr\n"
     ]
    }
   ],
   "source": [
    "name = \"Spock\"\n",
    "city = \"Shi'Kahr\"\n",
    "\n",
    "presentation = \"Hi, I'm {}, and I'm from {}\"\n",
    "\n",
    "print(presentation.format(name, city))\n"
   ]
  },
  {
   "cell_type": "markdown",
   "metadata": {},
   "source": [
    "Try make variables of your own name and city in the below cell\n",
    "and use the presentation command above to print your name and city in a sentance."
   ]
  },
  {
   "cell_type": "code",
   "execution_count": 11,
   "metadata": {},
   "outputs": [
    {
     "name": "stdout",
     "output_type": "stream",
     "text": [
      "Hi im molly and im from charlotte\n"
     ]
    }
   ],
   "source": [
    "name = \"molly\"\n",
    "city = \"charlotte\"\n",
    "\n",
    "presentation = \"Hi im {} and im from {}\"\n",
    "\n",
    "print(presentation.format(name,city))"
   ]
  },
  {
   "cell_type": "markdown",
   "metadata": {},
   "source": [
    "Python is a language with \"batteries included\" this means it includes a lot of \n",
    "functionalities when we install python.\n",
    "\n",
    "Those functionalities are usually grouped in packages (or modules) and we can \n",
    "\"load\" them and use them with the keyword `import`\n",
    "\n",
    "For example, if we want to use the `math` module, that has many mathematical functions,\n",
    "we can access it if we type `import math`"
   ]
  },
  {
   "cell_type": "code",
   "execution_count": 12,
   "metadata": {},
   "outputs": [],
   "source": [
    "import math"
   ]
  },
  {
   "cell_type": "code",
   "execution_count": 13,
   "metadata": {},
   "outputs": [
    {
     "name": "stdout",
     "output_type": "stream",
     "text": [
      "3.141592653589793\n"
     ]
    }
   ],
   "source": [
    "# Now we can access all the functionalities in the math module\n",
    "print(math.pi)"
   ]
  },
  {
   "cell_type": "markdown",
   "metadata": {},
   "source": [
    "When using the `format` method we can specify how do we want to format the \n",
    "variables. For example, we can round the variables."
   ]
  },
  {
   "cell_type": "code",
   "execution_count": 14,
   "metadata": {},
   "outputs": [
    {
     "name": "stdout",
     "output_type": "stream",
     "text": [
      "The first digits of pi are: 3.141592653589793\n"
     ]
    }
   ],
   "source": [
    "pi_str = \"The first digits of pi are: {}\".format(math.pi)\n",
    "print(pi_str)"
   ]
  },
  {
   "cell_type": "code",
   "execution_count": 15,
   "metadata": {},
   "outputs": [
    {
     "name": "stdout",
     "output_type": "stream",
     "text": [
      "The first digits of pi are: 3.14\n"
     ]
    }
   ],
   "source": [
    "# We can print the string rounded to 2 digits\n",
    "pi_str = \"The first digits of pi are: {:.3}\".format(math.pi)\n",
    "print(pi_str)"
   ]
  },
  {
   "cell_type": "code",
   "execution_count": 16,
   "metadata": {},
   "outputs": [
    {
     "name": "stdout",
     "output_type": "stream",
     "text": [
      "Hi, I'm molly, and I'm from charlotte\n"
     ]
    }
   ],
   "source": [
    "#Another (shorter) method to do string interpolation is referencing the variable \n",
    "#directly in the string by using an f-string\n",
    "\n",
    "presentation2 = f\"Hi, I'm {name}, and I'm from {city}\"\n",
    "\n",
    "print(presentation2)"
   ]
  },
  {
   "cell_type": "code",
   "execution_count": 17,
   "metadata": {},
   "outputs": [
    {
     "name": "stdout",
     "output_type": "stream",
     "text": [
      "Hi, I'm molly, and I'm from charlotte\n"
     ]
    }
   ],
   "source": [
    "#Checking we understand object naming\n",
    "\n",
    "#Why does the below code give us that output\n",
    "name = \"John\"\n",
    "print(presentation2)"
   ]
  },
  {
   "cell_type": "markdown",
   "metadata": {},
   "source": [
    "### More operations with strings"
   ]
  },
  {
   "cell_type": "code",
   "execution_count": 18,
   "metadata": {},
   "outputs": [
    {
     "name": "stdout",
     "output_type": "stream",
     "text": [
      "We can convert a string to uppercase with upper()\n",
      "INTRODUCTION TO PYTHON\n",
      "We can convert a string to lowercase with lower()\n",
      "introduction to python\n",
      "We can convert the first letter to upper case with capitalize()\n",
      "Introduction to python\n"
     ]
    }
   ],
   "source": [
    "title = \"introduction to PYTHON\"\n",
    "\n",
    "print(\"We can convert a string to uppercase with upper()\")\n",
    "print(title.upper())\n",
    "\n",
    "print(\"We can convert a string to lowercase with lower()\")\n",
    "print(title.lower())\n",
    "\n",
    "print(\"We can convert the first letter to upper case with capitalize()\")\n",
    "print(title.capitalize())"
   ]
  },
  {
   "cell_type": "code",
   "execution_count": 19,
   "metadata": {},
   "outputs": [
    {
     "name": "stdout",
     "output_type": "stream",
     "text": [
      "We can use `strip()` to remove characters from the beginning and the end of a string\n",
      "Connor\n"
     ]
    }
   ],
   "source": [
    "name_with_commas = \",Connor,\"\n",
    "\n",
    "print(\"We can use `strip()` to remove characters from the beginning and the end of a string\")\n",
    "print(name_with_commas.strip(\",\"))"
   ]
  },
  {
   "cell_type": "code",
   "execution_count": 20,
   "metadata": {},
   "outputs": [
    {
     "name": "stdout",
     "output_type": "stream",
     "text": [
      "We use `replace()` to replace parts of a string for something else\n",
      ",Conman,\n"
     ]
    }
   ],
   "source": [
    "print(\"We use `replace()` to replace parts of a string for something else\")\n",
    "print(name_with_commas.replace(\"nor\", \"man\"))\n",
    "\n",
    "# think of an example where you might need to use replace"
   ]
  },
  {
   "cell_type": "code",
   "execution_count": 21,
   "metadata": {},
   "outputs": [
    {
     "name": "stdout",
     "output_type": "stream",
     "text": [
      "We can chain methods together\n",
      "CONMAN\n"
     ]
    }
   ],
   "source": [
    "print(\"We can chain methods together\")\n",
    "print(\n",
    "      name_with_commas\n",
    "      .strip(\",\")\n",
    "      .replace(\"nor\", \"man\")\n",
    "      .upper())\n"
   ]
  },
  {
   "cell_type": "code",
   "execution_count": 22,
   "metadata": {},
   "outputs": [
    {
     "name": "stdout",
     "output_type": "stream",
     "text": [
      "['spongebob.squarepants', 'ixperience.co']\n"
     ]
    }
   ],
   "source": [
    "# We can split a string in multiple strings by using `split()`\n",
    "\n",
    "email = \"spongebob.squarepants@ixperience.co\"\n",
    "email_bits = email.split(\"@\")\n",
    "print(email_bits)\n",
    "\n",
    "# think of a situation where you might need to use split."
   ]
  },
  {
   "cell_type": "markdown",
   "metadata": {},
   "source": []
  },
  {
   "cell_type": "markdown",
   "metadata": {},
   "source": [
    "### <font color='#eb3483'> Quick knowledge check! </font>\n",
    "1. Your friend just sent you his part of an essay (see \"essay\" variable below) but you realized it's a mess! Write some code to correct the contraction (i.e. doesn't -> does not), properly capitalize the sentence, and take out all of the times he says totally!"
   ]
  },
  {
   "cell_type": "code",
   "execution_count": 23,
   "metadata": {},
   "outputs": [
    {
     "name": "stdout",
     "output_type": "stream",
     "text": [
      "Sometimes the world can be messed up but it does not have to be!\n"
     ]
    }
   ],
   "source": [
    "essay = \"sometimes the world can be totally messed up but it totally doesn't have to be!\"\n",
    "\n",
    "print(\n",
    "    essay.replace(\" totally \", \" \").replace(\"doesn't\", \"does not\").capitalize())\n"
   ]
  },
  {
   "cell_type": "markdown",
   "metadata": {},
   "source": []
  },
  {
   "cell_type": "markdown",
   "metadata": {},
   "source": [
    "2. You just got the results back from your student body election (obviously analyzed through Python), print out a nice final statement summarizing the results (whatever style floats your boat - play around and have fun with it!)"
   ]
  },
  {
   "cell_type": "code",
   "execution_count": 24,
   "metadata": {},
   "outputs": [
    {
     "name": "stdout",
     "output_type": "stream",
     "text": [
      "the winner is Pedro and the loser is Summer, by 60.3594594594 percent!\n"
     ]
    }
   ],
   "source": [
    "winner = \"Pedro\"\n",
    "loser = \"Summer\"\n",
    "pedro_vote_percentage = 60.3594594594\n",
    "\n",
    "print(f\"the winner is {winner} and the loser is {loser}, by {pedro_vote_percentage} percent!\")"
   ]
  },
  {
   "cell_type": "markdown",
   "metadata": {},
   "source": [
    "<hr>\n",
    "<br>\n",
    "\n",
    "### <font color='#eb3483'> 2. Numbers </font>"
   ]
  },
  {
   "cell_type": "code",
   "execution_count": 25,
   "metadata": {},
   "outputs": [
    {
     "name": "stdout",
     "output_type": "stream",
     "text": [
      "There are two basic numeric primitives in python, int(integers) and float(decimals)\n",
      "<class 'int'>\n",
      "<class 'float'>\n",
      "<class 'float'>\n"
     ]
    }
   ],
   "source": [
    "print(\"There are two basic numeric primitives in python, int(integers) and float(decimals)\")\n",
    "\n",
    "integer = 23\n",
    "print(type(integer))\n",
    "\n",
    "#%%\n",
    "decimal = 23.1\n",
    "print(type(decimal))\n",
    "\n",
    "#%%\n",
    "print(type(23.))"
   ]
  },
  {
   "cell_type": "code",
   "execution_count": 26,
   "metadata": {},
   "outputs": [
    {
     "name": "stdout",
     "output_type": "stream",
     "text": [
      "We can convert numbers to strings easily\n",
      "<class 'str'>\n",
      "two + 23.1\n"
     ]
    }
   ],
   "source": [
    "print(\"We can convert numbers to strings easily\")\n",
    "print(type(str(decimal)))\n",
    "print(\"two + \" + str(decimal))"
   ]
  },
  {
   "cell_type": "code",
   "execution_count": 27,
   "metadata": {},
   "outputs": [
    {
     "name": "stdout",
     "output_type": "stream",
     "text": [
      "We can also use numbers in string interpolation\n",
      "Hi, I'm Taryn, I'm from Cape Town and I've been in lockdown for 145000 days\n"
     ]
    }
   ],
   "source": [
    "print(\"We can also use numbers in string interpolation\")\n",
    "name = \"Taryn\"\n",
    "city = \"Cape Town\"\n",
    "count = 145000\n",
    "print(f\"Hi, I'm {name}, I'm from {city} and I've been in lockdown for {count} days\")"
   ]
  },
  {
   "cell_type": "code",
   "execution_count": 28,
   "metadata": {},
   "outputs": [
    {
     "name": "stdout",
     "output_type": "stream",
     "text": [
      "Similarly, we can convert strings to numbers\n",
      "29\n",
      "29.0\n"
     ]
    }
   ],
   "source": [
    "print(\"Similarly, we can convert strings to numbers\")\n",
    "number_string = \"24\" # remember it is a string because it is captured with \"\"\n",
    "print(int(number_string) + 5)\n",
    "print(float(number_string) + 5)"
   ]
  },
  {
   "cell_type": "code",
   "execution_count": 29,
   "metadata": {},
   "outputs": [
    {
     "name": "stdout",
     "output_type": "stream",
     "text": [
      "We have to make sure the numbers are valid!\n",
      "24.5\n"
     ]
    }
   ],
   "source": [
    "print(\"We have to make sure the numbers are valid!\")\n",
    "invalid_number_string = \"24.5\"\n",
    "print(float(invalid_number_string))"
   ]
  },
  {
   "cell_type": "code",
   "execution_count": 30,
   "metadata": {},
   "outputs": [],
   "source": [
    "#Try changing the above so that it is valid"
   ]
  },
  {
   "cell_type": "markdown",
   "metadata": {},
   "source": [
    "### Operations with numbers\n",
    "\n",
    "We can use the basic arithmetic symbols to perform operations with numbers\n"
   ]
  },
  {
   "cell_type": "code",
   "execution_count": 31,
   "metadata": {},
   "outputs": [
    {
     "name": "stdout",
     "output_type": "stream",
     "text": [
      "2+2= 4\n",
      "4-9= -5\n",
      "3*2= 6\n",
      "7/2= 3.5\n"
     ]
    }
   ],
   "source": [
    "#sum\n",
    "print(\"2+2=\",2+2)\n",
    "\n",
    "#substraction\n",
    "print(\"4-9=\",4-9)\n",
    "\n",
    "#multiplication\n",
    "print(\"3*2=\",3*2)\n",
    "\n",
    "#division\n",
    "print(\"7/2=\",7/2)"
   ]
  },
  {
   "cell_type": "code",
   "execution_count": 32,
   "metadata": {},
   "outputs": [
    {
     "name": "stdout",
     "output_type": "stream",
     "text": [
      "7//2= 3\n",
      "7%2= 1\n",
      "negation of 7= -7\n",
      "7**2= 49\n"
     ]
    }
   ],
   "source": [
    "#There are other useful operations too\n",
    "\n",
    "a = 7\n",
    "b = 2\n",
    "# floor division, do a division and remove the remainder --> //\n",
    "print(f\"{a}//{b}=\", a//b)\n",
    "\n",
    "# modulo, do a division and return the remainder --> %\n",
    "print(f\"{a}%{b}=\", a%b)\n",
    "\n",
    "#negation, change the sign of a number\n",
    "print(f\"negation of {a}=\", -a)\n",
    "\n",
    "#square, cube, fourth power, etcetera\n",
    "print(f\"{a}**{b}=\",a**b)"
   ]
  },
  {
   "cell_type": "markdown",
   "metadata": {},
   "source": [
    "### <font color='#eb3483'> Quick knowledge check! </font>\n",
    "1. Whoops, we can't seem to figure out why this code isn't working. Please fix it for us! (Bonus: Can you do it without changing how we defined x and y?)"
   ]
  },
  {
   "cell_type": "code",
   "execution_count": 33,
   "metadata": {},
   "outputs": [
    {
     "name": "stdout",
     "output_type": "stream",
     "text": [
      "X + Y: 37.5\n"
     ]
    }
   ],
   "source": [
    "x = \"24.5\"\n",
    "y = 13\n",
    "mySum= float(x) + y\n",
    "print('X + Y:',str(mySum))"
   ]
  },
  {
   "cell_type": "markdown",
   "metadata": {},
   "source": [
    "<hr>\n",
    "<br>\n",
    "\n",
    "### <font color='#eb3483'> 3. Booleans </font>\n",
    "A boolean variable is a primitive that can only be True or False\n"
   ]
  },
  {
   "cell_type": "code",
   "execution_count": 34,
   "metadata": {},
   "outputs": [
    {
     "name": "stdout",
     "output_type": "stream",
     "text": [
      "<class 'bool'>\n"
     ]
    }
   ],
   "source": [
    "truth = True\n",
    "falsehood = False\n",
    "\n",
    "print(type(truth))"
   ]
  },
  {
   "cell_type": "markdown",
   "metadata": {},
   "source": [
    "As an additional primitive we have `None` which is the null variable\n"
   ]
  },
  {
   "cell_type": "code",
   "execution_count": 35,
   "metadata": {},
   "outputs": [
    {
     "name": "stdout",
     "output_type": "stream",
     "text": [
      "<class 'NoneType'>\n"
     ]
    }
   ],
   "source": [
    "null = None\n",
    "print(type(null))"
   ]
  },
  {
   "cell_type": "code",
   "execution_count": 36,
   "metadata": {},
   "outputs": [
    {
     "name": "stdout",
     "output_type": "stream",
     "text": [
      "True\n"
     ]
    }
   ],
   "source": [
    "#Most variables can be converted to a boolean, usually they are converted to True\n",
    "print(bool(\"potato\"))"
   ]
  },
  {
   "cell_type": "code",
   "execution_count": 37,
   "metadata": {},
   "outputs": [
    {
     "name": "stdout",
     "output_type": "stream",
     "text": [
      "False\n",
      "False\n",
      "False\n",
      "False\n",
      "False\n"
     ]
    }
   ],
   "source": [
    "# The null values (0, \"\", None, and empty lists and dicts) are converted to False\n",
    "\n",
    "print(bool(\"\"))\n",
    "print(bool(0))\n",
    "print(bool(null))\n",
    "print(bool([]))\n",
    "print(bool({}))"
   ]
  },
  {
   "cell_type": "markdown",
   "metadata": {},
   "source": [
    "### Logic Comparisons\n",
    "\n",
    "We can compare variables, the result of a comparison is always a boolean"
   ]
  },
  {
   "cell_type": "code",
   "execution_count": 38,
   "metadata": {},
   "outputs": [
    {
     "name": "stdout",
     "output_type": "stream",
     "text": [
      "7 > 2 True\n",
      "2<=7 True\n",
      "2==2 True\n",
      "7!=23 True\n"
     ]
    }
   ],
   "source": [
    "a = 7\n",
    "b = 2\n",
    "# a greater or equal to b\n",
    "print(f\"{a} > {b}\", a > b)\n",
    "# b smaller or equal to a\n",
    "print(f\"{b}<={a}\", b <= a)\n",
    "# b equals 2\n",
    "print(f\"{b}==2\", b == 2)\n",
    "# a is different than 23\n",
    "print(f\"{a}!=23\", a != 23)"
   ]
  },
  {
   "cell_type": "markdown",
   "metadata": {},
   "source": [
    "We can evaluate the opposite of a logic comparisons with `not`"
   ]
  },
  {
   "cell_type": "code",
   "execution_count": 39,
   "metadata": {},
   "outputs": [
    {
     "name": "stdout",
     "output_type": "stream",
     "text": [
      "not 7!=23 -->  False\n"
     ]
    }
   ],
   "source": [
    "print(f\"not {a}!=23 --> \" , not a != 23)"
   ]
  },
  {
   "cell_type": "markdown",
   "metadata": {},
   "source": [
    "We can evaluate that multiple conditions are true with `and`"
   ]
  },
  {
   "cell_type": "code",
   "execution_count": 40,
   "metadata": {},
   "outputs": [
    {
     "name": "stdout",
     "output_type": "stream",
     "text": [
      "7!=23 and 7<2 -->  False\n"
     ]
    }
   ],
   "source": [
    "print(f\"{a}!=23 and {a}<{b} --> \", a != 23 and a < b)"
   ]
  },
  {
   "cell_type": "markdown",
   "metadata": {},
   "source": [
    "We can evaluate that any condition is true with `or`\n"
   ]
  },
  {
   "cell_type": "code",
   "execution_count": 41,
   "metadata": {},
   "outputs": [
    {
     "name": "stdout",
     "output_type": "stream",
     "text": [
      "7!=23 or 2<7 -->  True\n"
     ]
    }
   ],
   "source": [
    "print(f\"{a}!=23 or {b}<{a} --> \", a != 23 or a < b)"
   ]
  },
  {
   "cell_type": "markdown",
   "metadata": {},
   "source": [
    "When we want to check if something is True or False, we dont use `==`, we use `is`"
   ]
  },
  {
   "cell_type": "code",
   "execution_count": 42,
   "metadata": {},
   "outputs": [
    {
     "name": "stdout",
     "output_type": "stream",
     "text": [
      "truth is True= True\n"
     ]
    }
   ],
   "source": [
    "print(\"truth is True=\", truth is True)\n"
   ]
  },
  {
   "cell_type": "markdown",
   "metadata": {},
   "source": [
    "### <font color='#eb3483'> Quick knowledge check! </font>\n",
    "1. What should the following code evaluate to? Try figuring it out by hand and then run the code to find out!"
   ]
  },
  {
   "cell_type": "code",
   "execution_count": 43,
   "metadata": {},
   "outputs": [
    {
     "name": "stdout",
     "output_type": "stream",
     "text": [
      "The statement is False\n"
     ]
    }
   ],
   "source": [
    "statement = not(((7 > 3) and (bool(\"\"))) or (('a'!='b') or (1 <= 0)))\n",
    "\n",
    "print('The statement is', statement)"
   ]
  },
  {
   "cell_type": "markdown",
   "metadata": {},
   "source": [
    "# BOOM THE END OF DATA TYPES\n",
    "\n",
    "![dt](https://culshoefer.gitbooks.io/programming-is-fun-with-python-and-pygame/content/img/boolean-to-integer.jpg)\n",
    "\n"
   ]
  },
  {
   "cell_type": "markdown",
   "metadata": {},
   "source": [
    "<hr>\n",
    "<br>\n",
    "<br>\n",
    "<br>\n",
    "<br>"
   ]
  },
  {
   "cell_type": "markdown",
   "metadata": {},
   "source": [
    "# <font color='#eb3483'> 3. DATA STRUCTURES </font>\n",
    "\n",
    "Data structures are those objects we use to store information (data)\n",
    "There are many different types, here we are going to see the basics of\n",
    "1. Lists \n",
    "2. Tuples\n",
    "3. Dictionaries\n"
   ]
  },
  {
   "cell_type": "markdown",
   "metadata": {},
   "source": [
    "### <font color='#eb3483'> 1. Lists </font>\n",
    "\n",
    "Lists of one of the fundamental data structures in Python, and can be described generally as an ordered collection (list) of objects. At their most basic level, lists have a length (len(list)), and each element in the list can be accessed via its unique integer index.\n",
    "\n",
    "Note that in Python, all data structures are zero-indexed, meaning that the first occuring entry is assigned an index of 0 instead of 1."
   ]
  },
  {
   "cell_type": "code",
   "execution_count": 44,
   "metadata": {},
   "outputs": [
    {
     "name": "stdout",
     "output_type": "stream",
     "text": [
      "['orange', 'apple', 'pear', 'strawberry', 'pineapple']\n",
      "<class 'list'>\n"
     ]
    }
   ],
   "source": [
    "fruits = [\"orange\", \"apple\", \"pear\", \"strawberry\", \"pineapple\"]\n",
    "\n",
    "print(fruits)\n",
    "\n",
    "print(type(fruits))"
   ]
  },
  {
   "cell_type": "markdown",
   "metadata": {},
   "source": [
    "We access elements in a list with brackets []\n",
    " The index (position) for python lists starts at 0, this means we access the first\n",
    " element by [0]"
   ]
  },
  {
   "cell_type": "code",
   "execution_count": 45,
   "metadata": {},
   "outputs": [
    {
     "name": "stdout",
     "output_type": "stream",
     "text": [
      "orange\n"
     ]
    }
   ],
   "source": [
    "first_fruit = fruits[0]\n",
    "print(first_fruit)"
   ]
  },
  {
   "cell_type": "code",
   "execution_count": 46,
   "metadata": {},
   "outputs": [
    {
     "name": "stdout",
     "output_type": "stream",
     "text": [
      "['orange', 'apple']\n"
     ]
    }
   ],
   "source": [
    "# We can access a range of elements by doing [start:end-1:order]\n",
    "print(fruits[:2])"
   ]
  },
  {
   "cell_type": "code",
   "execution_count": 47,
   "metadata": {},
   "outputs": [
    {
     "name": "stdout",
     "output_type": "stream",
     "text": [
      "['pear', 'strawberry', 'pineapple']\n"
     ]
    }
   ],
   "source": [
    "# get the elements after the second one\n",
    "print(fruits[2:])"
   ]
  },
  {
   "cell_type": "code",
   "execution_count": 48,
   "metadata": {},
   "outputs": [
    {
     "name": "stdout",
     "output_type": "stream",
     "text": [
      "['strawberry', 'pineapple']\n"
     ]
    }
   ],
   "source": [
    "\"\"\"We can select ranges starting  from the last one by using negative numbers\n",
    "For example, we can get the last 2 elements by doing:\n",
    "\"\"\"\n",
    "print(fruits[-2:])"
   ]
  },
  {
   "cell_type": "code",
   "execution_count": 49,
   "metadata": {},
   "outputs": [
    {
     "name": "stdout",
     "output_type": "stream",
     "text": [
      "['orange', 'pear', 'pineapple']\n"
     ]
    }
   ],
   "source": [
    "# We can skip elements by using [::n], for example, if we just want to select the odd elements:\n",
    "print(fruits[::2])"
   ]
  },
  {
   "cell_type": "code",
   "execution_count": 50,
   "metadata": {},
   "outputs": [
    {
     "name": "stdout",
     "output_type": "stream",
     "text": [
      "['pineapple', 'strawberry', 'pear', 'apple', 'orange']\n"
     ]
    }
   ],
   "source": [
    "# if we use a negative number  for the order we will get the list reversed\n",
    "print(fruits[::-1])"
   ]
  },
  {
   "cell_type": "code",
   "execution_count": 51,
   "metadata": {},
   "outputs": [
    {
     "name": "stdout",
     "output_type": "stream",
     "text": [
      "5\n"
     ]
    }
   ],
   "source": [
    "# We can see the number of elements in a list with `len`\n",
    "print(len(fruits))"
   ]
  },
  {
   "cell_type": "code",
   "execution_count": 52,
   "metadata": {},
   "outputs": [
    {
     "name": "stdout",
     "output_type": "stream",
     "text": [
      "['orange', 'apple', 'pear', 'strawberry', 'pineapple', 'melon']\n"
     ]
    }
   ],
   "source": [
    "# We can add elements to the end of a list with `append()`.\n",
    "fruits.append(\"melon\")\n",
    "print(fruits)"
   ]
  },
  {
   "cell_type": "code",
   "execution_count": 53,
   "metadata": {},
   "outputs": [
    {
     "name": "stdout",
     "output_type": "stream",
     "text": [
      "['orange', 'apple', 'pear', 'strawberry', 'pineapple', 'melon', 5, 'banana', 'grape']\n"
     ]
    }
   ],
   "source": [
    "fruits.append(5)\n",
    "fruits.extend([\"banana\", \"grape\"])\n",
    "print(fruits)"
   ]
  },
  {
   "cell_type": "code",
   "execution_count": 54,
   "metadata": {},
   "outputs": [
    {
     "name": "stdout",
     "output_type": "stream",
     "text": [
      "['orange', 'apple', 'pear', 'strawberry', 'pineapple', 'melon', 5, 'banana', 'grape', 'orange', 'apple', 'pear', 'strawberry', 'pineapple', 'melon', 5, 'banana', 'grape']\n"
     ]
    }
   ],
   "source": [
    "# we can repeat a list multiplying it by a number\n",
    "print(fruits * 2)"
   ]
  },
  {
   "cell_type": "code",
   "execution_count": 55,
   "metadata": {},
   "outputs": [
    {
     "name": "stdout",
     "output_type": "stream",
     "text": [
      "['orange', 'apple', 'pear', 'strawberry', 'pineapple', 'melon', 5, 'banana', 'grape', 'Cape Town', 'New York']\n"
     ]
    }
   ],
   "source": [
    "# We can add lists together with `+`\n",
    "cities = [\"Cape Town\", \"New York\"]\n",
    "print(fruits + cities) # Prints concatenated lists"
   ]
  },
  {
   "cell_type": "code",
   "execution_count": 56,
   "metadata": {},
   "outputs": [
    {
     "name": "stdout",
     "output_type": "stream",
     "text": [
      "['mango', 'apple', 'pear', 'strawberry', 'pineapple', 'melon', 5, 'banana', 'grape']\n"
     ]
    }
   ],
   "source": [
    "# We can modify elements in a list\n",
    "\n",
    "fruits[0] = \"mango\"\n",
    "print(fruits)"
   ]
  },
  {
   "cell_type": "code",
   "execution_count": 57,
   "metadata": {},
   "outputs": [
    {
     "name": "stdout",
     "output_type": "stream",
     "text": [
      "['mango', 'apple', 'pear', 'litchi', 'fig', 'pommegranate', 'watermelon']\n"
     ]
    }
   ],
   "source": [
    "# We can extend a list regardless of its initial size\n",
    "fruits[3:] = [\"litchi\", \"fig\", \"pommegranate\", \"watermelon\"]\n",
    "print(fruits)"
   ]
  },
  {
   "cell_type": "code",
   "execution_count": 58,
   "metadata": {},
   "outputs": [
    {
     "name": "stdout",
     "output_type": "stream",
     "text": [
      "['mango', 'apple', 'pear', 'litchi', 'fig', 'pommegranate', 'watermelon']\n",
      "True\n",
      "False\n"
     ]
    }
   ],
   "source": [
    "vegetables = [\"tomato\", \"lettuce\"]\n",
    "# we can check if an element exists on a list\n",
    "print(fruits)\n",
    "print(\"tomato\" in vegetables)\n",
    "\n",
    "print(\"tomato\" in fruits)"
   ]
  },
  {
   "cell_type": "code",
   "execution_count": 59,
   "metadata": {},
   "outputs": [
    {
     "name": "stdout",
     "output_type": "stream",
     "text": [
      "['orange', 'apple', 'pear', 'strawberry']\n",
      "2\n",
      "Position in the list for the word pear is 2\n"
     ]
    }
   ],
   "source": [
    "# We can find the position of an element in a list\n",
    "\n",
    "fruits = [\"orange\", \"apple\", \"pear\", \"strawberry\"]\n",
    "\n",
    "print(fruits)\n",
    "\n",
    "print(fruits.index(\"pear\"))\n",
    "\n",
    "print(\"Position in the list for the word pear is {}\".format(fruits.index(\"pear\")))"
   ]
  },
  {
   "cell_type": "code",
   "execution_count": 60,
   "metadata": {},
   "outputs": [
    {
     "name": "stdout",
     "output_type": "stream",
     "text": [
      "['orange', 'apple', 'strawberry']\n",
      "pear\n"
     ]
    }
   ],
   "source": [
    "# we can remove an element at a specific position from a list with `pop()`\n",
    "\n",
    "a = fruits.pop(2)\n",
    "print(fruits)\n",
    "print(a)"
   ]
  },
  {
   "cell_type": "code",
   "execution_count": 61,
   "metadata": {},
   "outputs": [
    {
     "name": "stdout",
     "output_type": "stream",
     "text": [
      "['apple', 'strawberry']\n"
     ]
    }
   ],
   "source": [
    "# So combining index and pop we can remove a specific element from a list\n",
    "index_orange = fruits.index(\"orange\")\n",
    "fruits.pop(index_orange)\n",
    "print(fruits)"
   ]
  },
  {
   "cell_type": "code",
   "execution_count": 62,
   "metadata": {},
   "outputs": [
    {
     "name": "stdout",
     "output_type": "stream",
     "text": [
      "[10, 23, 25, 33, 34, 54, 65]\n"
     ]
    }
   ],
   "source": [
    "# lists can be sorted with the method `sort()`\n",
    "\n",
    "ages = [23, 33, 10,54,65,34,25]\n",
    "ages.sort()\n",
    "print(ages)"
   ]
  },
  {
   "cell_type": "code",
   "execution_count": 63,
   "metadata": {},
   "outputs": [
    {
     "name": "stdout",
     "output_type": "stream",
     "text": [
      "None\n",
      "['apple', 'orange', 'pear', 'strawberry']\n"
     ]
    }
   ],
   "source": [
    "fruits = [\"orange\", \"apple\", \"pear\", \"strawberry\"]\n",
    "\n",
    "print(fruits.sort())\n",
    "print(fruits)"
   ]
  },
  {
   "cell_type": "code",
   "execution_count": 64,
   "metadata": {},
   "outputs": [
    {
     "name": "stdout",
     "output_type": "stream",
     "text": [
      "[0, 1, 2, 3, 4, 5, 6, 7, 8, 9]\n"
     ]
    }
   ],
   "source": [
    "# We can generate lists of numbers with `range()`\n",
    "range(10)\n",
    "print(list(range(10)))"
   ]
  },
  {
   "cell_type": "code",
   "execution_count": 65,
   "metadata": {},
   "outputs": [
    {
     "name": "stdout",
     "output_type": "stream",
     "text": [
      "T\n",
      "ryn\n"
     ]
    }
   ],
   "source": [
    "# strings can be considered lists of letters, and can be accessed same the way as lists\n",
    "\n",
    "name = \"Taryn\"\n",
    "\n",
    "print(name[0])\n",
    "print(name[2:])"
   ]
  },
  {
   "cell_type": "code",
   "execution_count": 66,
   "metadata": {},
   "outputs": [
    {
     "data": {
      "text/plain": [
       "5"
      ]
     },
     "execution_count": 66,
     "metadata": {},
     "output_type": "execute_result"
    }
   ],
   "source": [
    "len(name)\n"
   ]
  },
  {
   "cell_type": "code",
   "execution_count": 67,
   "metadata": {},
   "outputs": [
    {
     "name": "stdout",
     "output_type": "stream",
     "text": [
      "orange,apple,pear,strawberry\n",
      "<class 'str'>\n"
     ]
    }
   ],
   "source": [
    "#We can convert lists to strings with `.join()`\n",
    "\n",
    "fruits = [\"orange\", \"apple\", \"pear\", \"strawberry\"]\n",
    "\n",
    "comma_separated_fruits = \",\".join(fruits)\n",
    "\n",
    "print(comma_separated_fruits)\n",
    "print(type(comma_separated_fruits))"
   ]
  },
  {
   "cell_type": "code",
   "execution_count": 68,
   "metadata": {},
   "outputs": [
    {
     "name": "stdout",
     "output_type": "stream",
     "text": [
      "Shopping list: \n",
      "orange\n",
      "apple\n",
      "pear\n",
      "strawberry\n"
     ]
    }
   ],
   "source": [
    "line_separated_fruits = \"\\n\".join(fruits)\n",
    "\n",
    "print(\"Shopping list: \\n{}\".format(line_separated_fruits))"
   ]
  },
  {
   "cell_type": "markdown",
   "metadata": {},
   "source": [
    "### <font color='#eb3483'> Quick knowledge check! </font>\n",
    "1. Make a list with your top 5 favorite snacks"
   ]
  },
  {
   "cell_type": "code",
   "execution_count": 2,
   "metadata": {},
   "outputs": [],
   "source": [
    "snacks = [\"apples\", \"cookies\", \"toast\", \"pizza\", \"berries\"]"
   ]
  },
  {
   "cell_type": "markdown",
   "metadata": {},
   "source": [
    "2. Print out your list in alphabetical order, and reverse alphabetical order"
   ]
  },
  {
   "cell_type": "code",
   "execution_count": 11,
   "metadata": {},
   "outputs": [
    {
     "name": "stdout",
     "output_type": "stream",
     "text": [
      "['apples', 'berries', 'cookies', 'pizza', 'toast']\n"
     ]
    },
    {
     "ename": "TypeError",
     "evalue": "'reversed' is an invalid keyword argument for sort()",
     "output_type": "error",
     "traceback": [
      "\u001b[0;31m---------------------------------------------------------------------------\u001b[0m",
      "\u001b[0;31mTypeError\u001b[0m                                 Traceback (most recent call last)",
      "Cell \u001b[0;32mIn[11], line 5\u001b[0m\n\u001b[1;32m      2\u001b[0m snacks\u001b[38;5;241m.\u001b[39msort()\n\u001b[1;32m      3\u001b[0m \u001b[38;5;28mprint\u001b[39m(snacks)\n\u001b[0;32m----> 5\u001b[0m \u001b[38;5;28;43msorted\u001b[39;49m\u001b[43m(\u001b[49m\u001b[43msnacks\u001b[49m\u001b[43m,\u001b[49m\u001b[43m \u001b[49m\u001b[38;5;28;43mreversed\u001b[39;49m\u001b[38;5;241;43m=\u001b[39;49m\u001b[38;5;28;43;01mTrue\u001b[39;49;00m\u001b[43m)\u001b[49m\n\u001b[1;32m      6\u001b[0m \u001b[38;5;28mprint\u001b[39m(snacks)\n",
      "\u001b[0;31mTypeError\u001b[0m: 'reversed' is an invalid keyword argument for sort()"
     ]
    }
   ],
   "source": [
    "snacks = [\"apples\", \"cookies\", \"toast\", \"pizza\", \"berries\"]\n",
    "snacks.sort()\n",
    "print(snacks)\n",
    "\n",
    "sorted(snacks, reversed=True)\n",
    "print(snacks)"
   ]
  },
  {
   "cell_type": "markdown",
   "metadata": {},
   "source": [
    "3. Write code to get the position of your least favorite element and remove it from the list"
   ]
  },
  {
   "cell_type": "code",
   "execution_count": null,
   "metadata": {},
   "outputs": [],
   "source": []
  },
  {
   "cell_type": "markdown",
   "metadata": {},
   "source": [
    "### <font color='#eb3483'> 2. Tuples </font>\n",
    "\n",
    "Tuples are like lists, but once created can't be modified\n"
   ]
  },
  {
   "cell_type": "code",
   "execution_count": 69,
   "metadata": {},
   "outputs": [
    {
     "name": "stdout",
     "output_type": "stream",
     "text": [
      "<class 'tuple'>\n",
      "('Athos', 'Porthos', 'Aramis')\n"
     ]
    }
   ],
   "source": [
    "musketeers = (\"Athos\", \"Porthos\", \"Aramis\")\n",
    "print(type(musketeers))\n",
    "print(musketeers)"
   ]
  },
  {
   "cell_type": "code",
   "execution_count": 70,
   "metadata": {},
   "outputs": [
    {
     "name": "stdout",
     "output_type": "stream",
     "text": [
      "('Porthos', 'Aramis')\n"
     ]
    }
   ],
   "source": [
    "# We can access tuple elements like we do with lists\n",
    "print(musketeers[1:])"
   ]
  },
  {
   "cell_type": "code",
   "execution_count": 71,
   "metadata": {},
   "outputs": [
    {
     "ename": "TypeError",
     "evalue": "'tuple' object does not support item assignment",
     "output_type": "error",
     "traceback": [
      "\u001b[0;31m---------------------------------------------------------------------------\u001b[0m",
      "\u001b[0;31mTypeError\u001b[0m                                 Traceback (most recent call last)",
      "Cell \u001b[0;32mIn[71], line 2\u001b[0m\n\u001b[1;32m      1\u001b[0m \u001b[38;5;66;03m# however, we can't modify a tuple\u001b[39;00m\n\u001b[0;32m----> 2\u001b[0m \u001b[43mmusketeers\u001b[49m\u001b[43m[\u001b[49m\u001b[38;5;241;43m3\u001b[39;49m\u001b[43m]\u001b[49m \u001b[38;5;241m=\u001b[39m \u001b[38;5;124m\"\u001b[39m\u001b[38;5;124mD\u001b[39m\u001b[38;5;124m'\u001b[39m\u001b[38;5;124martagnan\u001b[39m\u001b[38;5;124m\"\u001b[39m\n",
      "\u001b[0;31mTypeError\u001b[0m: 'tuple' object does not support item assignment"
     ]
    }
   ],
   "source": [
    "# however, we can't modify a tuple\n",
    "musketeers[3] = \"D'artagnan\""
   ]
  },
  {
   "cell_type": "markdown",
   "metadata": {},
   "source": [
    "### <font color='#eb3483'> 3. Dictionaries </font>\n",
    "\n",
    "\n",
    "Dictionaries are pairs of keys associated to values. We can easily (and quickly) see a value if we know its associated key"
   ]
  },
  {
   "cell_type": "code",
   "execution_count": 72,
   "metadata": {},
   "outputs": [
    {
     "name": "stdout",
     "output_type": "stream",
     "text": [
      "<class 'dict'>\n",
      "{'peaches': 3, 'strawberries': 1, 'apples': 4}\n"
     ]
    }
   ],
   "source": [
    "inventory = {\n",
    "        \"peaches\": 3,\n",
    "        \"strawberries\": 1,\n",
    "        \"apples\": 4\n",
    "        }\n",
    "print(type(inventory))\n",
    "print(inventory)"
   ]
  },
  {
   "cell_type": "code",
   "execution_count": 73,
   "metadata": {},
   "outputs": [
    {
     "name": "stdout",
     "output_type": "stream",
     "text": [
      "dict_keys(['peaches', 'strawberries', 'apples'])\n"
     ]
    }
   ],
   "source": [
    "# We can see all the keys in a dictionary with `keys()`\n",
    "print(inventory.keys())"
   ]
  },
  {
   "cell_type": "code",
   "execution_count": 74,
   "metadata": {},
   "outputs": [
    {
     "ename": "TypeError",
     "evalue": "'dict_keys' object is not subscriptable",
     "output_type": "error",
     "traceback": [
      "\u001b[0;31m---------------------------------------------------------------------------\u001b[0m",
      "\u001b[0;31mTypeError\u001b[0m                                 Traceback (most recent call last)",
      "Cell \u001b[0;32mIn[74], line 5\u001b[0m\n\u001b[1;32m      1\u001b[0m \u001b[38;5;66;03m# the method `keys()` doesnt return a list, if we want to access the keys like a \u001b[39;00m\n\u001b[1;32m      2\u001b[0m \u001b[38;5;66;03m# list we need to convert them to a list\u001b[39;00m\n\u001b[1;32m      3\u001b[0m \n\u001b[1;32m      4\u001b[0m \u001b[38;5;66;03m# this will fail with a TypeError\u001b[39;00m\n\u001b[0;32m----> 5\u001b[0m \u001b[38;5;28mprint\u001b[39m(\u001b[43minventory\u001b[49m\u001b[38;5;241;43m.\u001b[39;49m\u001b[43mkeys\u001b[49m\u001b[43m(\u001b[49m\u001b[43m)\u001b[49m\u001b[43m[\u001b[49m\u001b[38;5;241;43m0\u001b[39;49m\u001b[43m]\u001b[49m)\n",
      "\u001b[0;31mTypeError\u001b[0m: 'dict_keys' object is not subscriptable"
     ]
    }
   ],
   "source": [
    "# the method `keys()` doesnt return a list, if we want to access the keys like a \n",
    "# list we need to convert them to a list\n",
    "\n",
    "# this will fail with a TypeError\n",
    "print(inventory.keys()[0])"
   ]
  },
  {
   "cell_type": "code",
   "execution_count": 75,
   "metadata": {},
   "outputs": [
    {
     "name": "stdout",
     "output_type": "stream",
     "text": [
      "peaches\n"
     ]
    }
   ],
   "source": [
    "# this will work\n",
    "print(list(inventory.keys())[0])"
   ]
  },
  {
   "cell_type": "code",
   "execution_count": null,
   "metadata": {},
   "outputs": [],
   "source": [
    "# Similarly, we can see the values in a dictionary with `values()`\n",
    "print(inventory.values())"
   ]
  },
  {
   "cell_type": "code",
   "execution_count": null,
   "metadata": {},
   "outputs": [],
   "source": [
    "# We can read the value associated with a specific key with brackets\n",
    "print(inventory[\"strawberries\"])"
   ]
  },
  {
   "cell_type": "code",
   "execution_count": null,
   "metadata": {},
   "outputs": [],
   "source": [
    "# If the key doesnt exist it will throw an error (KeyError)\n",
    "print(inventory[\"melon\"])"
   ]
  },
  {
   "cell_type": "code",
   "execution_count": null,
   "metadata": {},
   "outputs": [],
   "source": [
    "# We can add a new key/modify an existing one to a dictionary using brackets\n",
    "\n",
    "inventory[\"peaches\"] = 1\n",
    "inventory[\"oranges\"] = 2\n",
    "print(inventory)"
   ]
  },
  {
   "cell_type": "code",
   "execution_count": null,
   "metadata": {},
   "outputs": [],
   "source": [
    "# We can check if a key exists in a dictionary\n",
    "print(\"melon\" in inventory)\n",
    "print(\"peaches\" in inventory)"
   ]
  },
  {
   "cell_type": "code",
   "execution_count": null,
   "metadata": {},
   "outputs": [],
   "source": [
    "# We can remove a key from a dictionary with `pop()`\n",
    "\n",
    "kilos_strawberries = inventory.pop(\"strawberries\")\n",
    "print(\"We have {} kilos of strawberries\".format(kilos_strawberries))\n",
    "print(inventory)"
   ]
  },
  {
   "cell_type": "markdown",
   "metadata": {},
   "source": [
    "Each data structure can store other data structures!\n"
   ]
  },
  {
   "cell_type": "code",
   "execution_count": null,
   "metadata": {},
   "outputs": [],
   "source": [
    "# a list with lists inside\n",
    "flights =[\n",
    "        [\"Cape Town\", \"New York City\"],\n",
    "        [\"Cape Town\", \"Johannesburg\"],\n",
    "        [\"Cape Town\", \"Singapore\"],\n",
    "        [\"New York City\", \"Paris\"]\n",
    "        ] \n",
    "\n",
    "print(flights[1][1])"
   ]
  },
  {
   "cell_type": "code",
   "execution_count": null,
   "metadata": {},
   "outputs": [],
   "source": [
    "# a dictionary with tuples and lists as values\n",
    "dict_flights = {\n",
    "        \"Cape Town\": (\"London\", \"Paris\", \"Berlin\"),\n",
    "        \"Lisbon\": (\"New York City\", \"Madrid\")\n",
    "        }\n",
    "print(dict_flights[\"Cape Town\"])"
   ]
  },
  {
   "cell_type": "code",
   "execution_count": null,
   "metadata": {},
   "outputs": [],
   "source": [
    "# a list containing dictionaries\n",
    "dictionaries_list = [\n",
    "        {\"origin\": \"Cape Town\", \"destination\": \"New York\"},\n",
    "        {\"origin\": \"Madrid\", \"destination\": \"Paris\"}\n",
    "        ]\n",
    "\n",
    "print(dictionaries_list)"
   ]
  },
  {
   "cell_type": "markdown",
   "metadata": {},
   "source": [
    "### <font color='#eb3483'> Quick knowledge check! </font>\n",
    "1. Create a dictionary that stores phone contact information (i.e. name, phone number, company)"
   ]
  },
  {
   "cell_type": "code",
   "execution_count": null,
   "metadata": {},
   "outputs": [],
   "source": []
  },
  {
   "cell_type": "markdown",
   "metadata": {},
   "source": [
    "2. Write code that adds a key-value pair to store a <b>list</b> of the contact's social media handles"
   ]
  },
  {
   "cell_type": "code",
   "execution_count": null,
   "metadata": {},
   "outputs": [],
   "source": []
  },
  {
   "cell_type": "markdown",
   "metadata": {},
   "source": [
    "3. Nevermind, there's some privacy laws preventing us from storing social media handles. Write code to remove that key-value pair, make sure to print out the list of keys in the dictionary before and after to make sure you did your job!"
   ]
  },
  {
   "cell_type": "code",
   "execution_count": null,
   "metadata": {},
   "outputs": [],
   "source": []
  },
  {
   "cell_type": "markdown",
   "metadata": {},
   "source": [
    "# BOOM THE END OF DATA STRUCTURES\n",
    "\n",
    "![lists](https://i.pinimg.com/originals/41/05/82/41058209535e7e800b7c06f1aee41df8.jpg)"
   ]
  },
  {
   "cell_type": "markdown",
   "metadata": {},
   "source": [
    "<hr>\n",
    "\n",
    "<br>\n",
    "<br>\n",
    "<br>\n"
   ]
  },
  {
   "cell_type": "markdown",
   "metadata": {},
   "source": [
    "# <font color='#eb3483'> 4. CONTROL FLOW  </font>\n",
    "\n",
    "Here we talk about control flow, which is the way that we can modify the linear\n",
    "behaviour  (line by line) in python programs:\n",
    "\n",
    "1. If-else\n",
    "2. For loops\n",
    "3. While loops"
   ]
  },
  {
   "cell_type": "markdown",
   "metadata": {},
   "source": [
    "### <font color='#eb3483'> 1. If-else  </font>\n",
    "\n",
    "\n",
    "We use if-else to take decisions and execute different parts of the code \n",
    "depending on a condition. \n",
    "\n",
    "In python, the way we declare we are inside a loop (or a function) is by \n",
    "indenting,\n",
    "that is, if we are inside an if-else loop we put the code inside the loop 4 \n",
    "spaces to the right. We can use the tab key in Jupyter Notebooks."
   ]
  },
  {
   "cell_type": "code",
   "execution_count": null,
   "metadata": {},
   "outputs": [],
   "source": [
    "# We can use an if loop to execute something based on one condition\n",
    "temperature = 95\n",
    "\n",
    "if temperature <= 65:\n",
    "    #we indent this line to declare that it is inside the if loop\n",
    "    print(\"Better get a sweater, its chilly out\")\n",
    "    \n",
    "print(\"this gets printed no matter what\")"
   ]
  },
  {
   "cell_type": "code",
   "execution_count": null,
   "metadata": {},
   "outputs": [],
   "source": [
    "#If we want to add many different conditions to an if loop we can use if-else\n",
    "temperature = 50\n",
    "\n",
    "\n",
    "if temperature <= 30:\n",
    "    mom_answer = \"Get a coat, its freezing outside!\"\n",
    "    \n",
    "elif temperature <= 65:           # elif stands for \"else if ...\"\n",
    "    mom_answer = \"Get a sweater, its chilly out!\"\n",
    "    \n",
    "elif temperature <= 85:\n",
    "    mom_answer = \"Don't come back late!\"\n",
    "    \n",
    "else:                             # The else block will run only if none of the previous conditions take place\n",
    "    mom_answer = \"Its too hot out!\"\n",
    "\n",
    "print(mom_answer)"
   ]
  },
  {
   "cell_type": "code",
   "execution_count": null,
   "metadata": {},
   "outputs": [],
   "source": [
    "# try changing the temperature above and checking the result\n"
   ]
  },
  {
   "cell_type": "code",
   "execution_count": null,
   "metadata": {},
   "outputs": [],
   "source": [
    "\n",
    "# We can insert loops inside other loops (nested loops)\n",
    "\n",
    "temperature = 75\n",
    "rain = False\n",
    "\n",
    "if 65 < temperature and temperature < 85:\n",
    "    # True evaluates to True, using not we get the opposite\n",
    "    if not rain:\n",
    "        print(\"Let's go picnic!\")\n"
   ]
  },
  {
   "cell_type": "markdown",
   "metadata": {},
   "source": [
    "### <font color='#eb3483'> Quick knowledge check! </font>\n",
    "1. Write some code that lets you set your mood (i.e. happy) and recommends a song based on your mood."
   ]
  },
  {
   "cell_type": "code",
   "execution_count": null,
   "metadata": {},
   "outputs": [],
   "source": []
  },
  {
   "cell_type": "markdown",
   "metadata": {},
   "source": [
    "\n",
    "### <font color='#eb3483'> 2. For Loops  </font>\n",
    "\n",
    "FOR loops are used to iterate the elements of a list one by one(or anything that \n",
    "is iterable)"
   ]
  },
  {
   "cell_type": "code",
   "execution_count": null,
   "metadata": {},
   "outputs": [],
   "source": [
    "numbers = [1, 2, 3, 4, 5, 6, 7, 80, 9, 10]\n",
    "\n",
    "for n in numbers:\n",
    "    if n <= 10:\n",
    "        print(f\"valid number {n}\")\n",
    "    else:\n",
    "        print(f\"ERROR! number {n} greater than 10\")\n"
   ]
  },
  {
   "cell_type": "code",
   "execution_count": null,
   "metadata": {},
   "outputs": [],
   "source": [
    "# Sometimes we want to break a for loop if a condition happens, we can break a loop with the keyword `break`\n",
    "\n",
    "numbers = [1, 2, 3, 4, 5, 6, 7, 80, 9, 10]\n",
    "\n",
    "for n in numbers:\n",
    "    if n <= 10:\n",
    "        print(f\"valid number {n}\")\n",
    "    else:\n",
    "        print(f\"ERROR! number {n} greater than 10. EXITING THE LOOP\")\n",
    "        break"
   ]
  },
  {
   "cell_type": "code",
   "execution_count": null,
   "metadata": {},
   "outputs": [],
   "source": [
    "# There are times where we dont want to break a loop, we just want to continue if\n",
    "# something happens and do nothing, we can use `pass` for this\n",
    "\n",
    "numbers = [1, 2, 3, 4, 5, 6, 7, 80, 9, 10]\n",
    "\n",
    "for n in numbers:\n",
    "    if n <= 10:\n",
    "        print(f\"valid number {n}\")\n",
    "    else:\n",
    "        # pass is a placeholder, we have to put something inside an else block\n",
    "        # we use pass so nothing happens.\n",
    "        pass"
   ]
  },
  {
   "cell_type": "code",
   "execution_count": null,
   "metadata": {},
   "outputs": [],
   "source": [
    "# continue, opposite to pass, will skip this loop iteration and go to the next one\n",
    "\n",
    "numbers = [1, 2, 3, 4, 5, 6, 7, 80, 9, 10]\n",
    "\n",
    "for n in numbers:\n",
    "    if n <= 10:\n",
    "        print(f\"valid number {n}\")\n",
    "    else:\n",
    "        continue\n",
    "        print(\"this will never get printed\")"
   ]
  },
  {
   "cell_type": "code",
   "execution_count": null,
   "metadata": {},
   "outputs": [],
   "source": [
    "# A simplified way to iterate elements in a list is using a list comprehension\n",
    "\n",
    "[number for number in numbers if number <= 10]"
   ]
  },
  {
   "cell_type": "code",
   "execution_count": null,
   "metadata": {},
   "outputs": [],
   "source": [
    "#Make a line that writes \"too big\" for numbers >10\n",
    "[number for number in numbers if number >= 10]"
   ]
  },
  {
   "cell_type": "code",
   "execution_count": null,
   "metadata": {},
   "outputs": [],
   "source": [
    "# We can iterate the keys in a dictionary with a for loop\n",
    "\n",
    "inventory = {\n",
    "        \"peaches\": 3,\n",
    "        \"strawberries\": 1,\n",
    "        \"apples\": 4\n",
    "        }\n",
    "\n",
    "for fruit in inventory:\n",
    "    print(fruit)"
   ]
  },
  {
   "cell_type": "code",
   "execution_count": null,
   "metadata": {},
   "outputs": [],
   "source": [
    "\n",
    "# We can iterate the keys and values together if we use `.items()`:\n",
    "for fruit, amount in inventory.items():\n",
    "    print(fruit, amount)\n",
    "    print(\"We have {} kilo/s of {}\".format(amount, fruit))"
   ]
  },
  {
   "cell_type": "code",
   "execution_count": null,
   "metadata": {},
   "outputs": [],
   "source": [
    "# We can iterate strings too! (remember, strings are just lists of characters).\n",
    "name = \"IXPERIENCE\"\n",
    "\n",
    "for letter in name:\n",
    "    print(\"GIVE ME A {}!\".format(letter))"
   ]
  },
  {
   "cell_type": "markdown",
   "metadata": {},
   "source": [
    "### <font color='#eb3483'> Quick knowledge check! </font>\n",
    "1. Using the animals dictionary below, write a for loop that loops through and prints out the scientific names of all the animals."
   ]
  },
  {
   "cell_type": "code",
   "execution_count": null,
   "metadata": {},
   "outputs": [],
   "source": [
    "animals = {\n",
    "    'Elephant': {\n",
    "        'scientific_name': 'Loxodonta Africana',\n",
    "        'big_five': True\n",
    "    },\n",
    "    'Zebra':{\n",
    "        'scientific_name': 'Equus Quagga',\n",
    "        'big_five': False\n",
    "    },\n",
    "    'Black Rhinoceras':{\n",
    "        'scientific_name': 'Diceros Bicornis',\n",
    "        'big_five': True\n",
    "    }\n",
    "}\n",
    "\n",
    "for animal in animals.keys():\n",
    "    print(animals[animal]['scientific_name'])"
   ]
  },
  {
   "cell_type": "markdown",
   "metadata": {},
   "source": [
    "2. Extension! Only print them out if they're big five animals."
   ]
  },
  {
   "cell_type": "code",
   "execution_count": null,
   "metadata": {},
   "outputs": [],
   "source": []
  },
  {
   "cell_type": "markdown",
   "metadata": {},
   "source": [
    "### <font color='#eb3483'> 3. While loops  </font>\n",
    "While loops continue running until a condition takes place\n",
    "\n"
   ]
  },
  {
   "cell_type": "code",
   "execution_count": null,
   "metadata": {},
   "outputs": [],
   "source": [
    "n_beer_bottles = 99\n",
    "while n_beer_bottles > 0:\n",
    "    print(\"\"\"\n",
    "        🎜🎝♩ {} bottles of beer on the wall, {} bottles of beer.\n",
    "        Take one down and pass it around, {} bottles of beer on the wall.🎜🎝♩\n",
    "        \"\"\".format(n_beer_bottles, n_beer_bottles, n_beer_bottles - 1))\n",
    "    n_beer_bottles -= 1"
   ]
  },
  {
   "cell_type": "markdown",
   "metadata": {},
   "source": [
    "We need to be carefull when using a while loop, we might get stuck in an \n",
    " INFINITE LOOP!\n",
    " (hit the stop button above or ii to exit the execution)"
   ]
  },
  {
   "cell_type": "code",
   "execution_count": null,
   "metadata": {},
   "outputs": [],
   "source": [
    "n = 1\n",
    "while n > 0:\n",
    "    print(\"Stuck in the loop!\")"
   ]
  },
  {
   "cell_type": "markdown",
   "metadata": {},
   "source": [
    "A common use case for a while loop is to validate user input\n",
    " we can get user input with the function `input()`"
   ]
  },
  {
   "cell_type": "code",
   "execution_count": null,
   "metadata": {},
   "outputs": [],
   "source": [
    "while True:\n",
    "    input_user = input(\"Write a number from 1 to 10, type 'exit' to exit: \")\n",
    "    continue\n",
    "    try:\n",
    "        if input_user == \"exit\":\n",
    "            print(\"Bye!\")\n",
    "            break\n",
    "        elif int(input_user) <= 10:\n",
    "            square = int(input_user) ** 2\n",
    "            print(\"The square of number {} is {}\".format(input_user, square))\n",
    "        else:\n",
    "            print(\"the value {} is not valid\".format(input_user))\n",
    "    except ValueError:\n",
    "        print(\"Error: the value {} can't be converted to an integer\".format(input_user))"
   ]
  },
  {
   "cell_type": "markdown",
   "metadata": {},
   "source": [
    "### <font color='#eb3483'> Quick knowledge check! </font>\n",
    "1. Let's build a little app out of your music recommendation code from the if lesson block! Write a while loop that takes user input on their emotion and outputs a song recommendation until they say exit. (Challenge - can you make it recommend a different song if you pick the same emotion twice?)"
   ]
  },
  {
   "cell_type": "code",
   "execution_count": null,
   "metadata": {},
   "outputs": [],
   "source": []
  },
  {
   "cell_type": "markdown",
   "metadata": {},
   "source": [
    "# BOOM END OF CONTROL FLOW\n",
    "\n",
    "![chips](https://data.whicdn.com/images/1093046/original.png)\n",
    "\n",
    "<hr>\n",
    "<br>\n",
    "<br>\n",
    "<br>\n"
   ]
  },
  {
   "cell_type": "markdown",
   "metadata": {},
   "source": [
    "# <font color='#eb3483'> 5. FUNCTIONS  </font>\n",
    "\n",
    "Functions are a way of packaging together code that does a specific job and that we might want to re-use. Let's say we wanted to write code that gets two radiuses and compares which has the bigger area."
   ]
  },
  {
   "cell_type": "code",
   "execution_count": null,
   "metadata": {},
   "outputs": [],
   "source": [
    "radius_1 = 10\n",
    "radius_2 = 30\n",
    "\n",
    "area_1 = 3.2 * radius_1**2\n",
    "area_2 = 3.2 * radius_2**2\n",
    "\n",
    "print('Area 1 is bigger than area 2: ', area_1 > area_2)"
   ]
  },
  {
   "cell_type": "markdown",
   "metadata": {},
   "source": [
    "Instead of writing out $3.2*r^2$ twice, we could wrap it in a function!"
   ]
  },
  {
   "cell_type": "code",
   "execution_count": null,
   "metadata": {},
   "outputs": [],
   "source": [
    "#To create a function  we use the keyword 'def' (as in define) and add the name of our function\n",
    "#Next to the name of the function we add any input arguments (i.e. radius)\n",
    "def computeArea(radius):\n",
    "    #Return tells the function what to return (in this case the area)\n",
    "    return 3.2*radius**2"
   ]
  },
  {
   "cell_type": "markdown",
   "metadata": {},
   "source": [
    "For our example oru function is called computeArea and accepts one input argument, radius, and it returns the area. Let's see it in action!"
   ]
  },
  {
   "cell_type": "code",
   "execution_count": null,
   "metadata": {},
   "outputs": [],
   "source": [
    "radius_1 = 10\n",
    "radius_2 = 30\n",
    "\n",
    "#Now instead of re-writing area calculation we can just use our function!\n",
    "area_1 = computeArea(radius_1)\n",
    "area_2 = computeArea(radius_2)\n",
    "\n",
    "print('Area 1 is bigger than area 2: ', area_1 > area_2)"
   ]
  },
  {
   "cell_type": "markdown",
   "metadata": {},
   "source": [
    "This might not seem like big savings, but what if had a more complicated function or wanted to use it in a bunch of different areas? It also let's us make changes all in one place - for example, I totally just remembered that Pi is 3.14 not 3.2!  Now we only have too make a change in one place (go ahead, do it yourself!)"
   ]
  },
  {
   "cell_type": "code",
   "execution_count": null,
   "metadata": {},
   "outputs": [],
   "source": [
    "#Functions don't always need input arguments or return arguments\n",
    "def sayHi():\n",
    "    print('Hi')\n",
    "\n",
    "sayHi()"
   ]
  },
  {
   "cell_type": "code",
   "execution_count": null,
   "metadata": {},
   "outputs": [],
   "source": [
    "#Functions can also have multiple output arguments (just add them all in a comma separated list) too!\n",
    "def capitalizeMyName(firstName, lastName):\n",
    "    return firstName.capitalize(), lastName.capitalize()\n",
    "\n",
    "#Notice that the results are returned in a tuple!\n",
    "capitalizeMyName('warren', 'buffet')"
   ]
  },
  {
   "cell_type": "markdown",
   "metadata": {},
   "source": [
    "Don't worry, python will remind you if you didn't input the right number of arguments!"
   ]
  },
  {
   "cell_type": "code",
   "execution_count": null,
   "metadata": {},
   "outputs": [],
   "source": [
    "def myFun(foo, bar):\n",
    "    return foo + bar\n",
    "\n",
    "myFun()"
   ]
  },
  {
   "cell_type": "markdown",
   "metadata": {},
   "source": [
    "Python is really great about handling all kinds of types, so your inputs and outputs to functions can be pretty much anything! Lists, dictionaries, even other functions!"
   ]
  },
  {
   "cell_type": "code",
   "execution_count": null,
   "metadata": {},
   "outputs": [],
   "source": [
    "def metaFunctionBuilder(multiplier):\n",
    "    #This function builds another function that is a multiplier\n",
    "    def fun(x):\n",
    "        return multiplier*x\n",
    "    return fun\n",
    "\n",
    "#We can assign the new function to a variable that let's us access it\n",
    "newFunction = metaFunctionBuilder(5)\n",
    "\n",
    "#Look it works!\n",
    "newFunction(10)"
   ]
  },
  {
   "cell_type": "markdown",
   "metadata": {},
   "source": [
    "We can also put default arguments for functions (this is great for when we have arguments that don't change most of the time)"
   ]
  },
  {
   "cell_type": "code",
   "execution_count": null,
   "metadata": {},
   "outputs": [],
   "source": [
    "def multiply(x, multiplier = 10):\n",
    "    return x*multiplier\n",
    "\n",
    "print('With Defaults:', multiply(5)) \n",
    "print('With Multiplier = 5:', multiply(5, multiplier = 5)) #Note we can specify the parameter with the name\n",
    "print('With Multiplier = 5:', multiply(5, 5)) #Or just put it in the right order"
   ]
  },
  {
   "cell_type": "markdown",
   "metadata": {},
   "source": [
    "### <font color='#eb3483'> Quick knowledge check! </font>\n",
    "1. Write a function that calculates the area of a rectangle. "
   ]
  },
  {
   "cell_type": "code",
   "execution_count": null,
   "metadata": {},
   "outputs": [],
   "source": []
  },
  {
   "cell_type": "markdown",
   "metadata": {},
   "source": [
    "# BOOM END OF FUNCTIONS\n",
    "![functions](https://i.pinimg.com/564x/7c/6a/ca/7c6acaabf60032c86abd6951c6cfc557.jpg)\n",
    "\n",
    "\n",
    "# THAT'S IT! YOU SLAYED YOUR PREWORK STARTER NOTEBOOK. NOW HEAD ON OVER TO YOUR PREWORK ASSIGNMENT...\n",
    "\n"
   ]
  }
 ],
 "metadata": {
  "kernelspec": {
   "display_name": "Python 3 (ipykernel)",
   "language": "python",
   "name": "python3"
  },
  "language_info": {
   "codemirror_mode": {
    "name": "ipython",
    "version": 3
   },
   "file_extension": ".py",
   "mimetype": "text/x-python",
   "name": "python",
   "nbconvert_exporter": "python",
   "pygments_lexer": "ipython3",
   "version": "3.11.7"
  }
 },
 "nbformat": 4,
 "nbformat_minor": 4
}
