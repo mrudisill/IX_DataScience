{
 "cells": [
  {
   "cell_type": "markdown",
   "metadata": {},
   "source": [
    "# <font color='#eb3483'> Predicting the Stock Market </font>\n",
    "\n",
    "The time has come to finally start monetizing your data science skills - let's try to predict the stock market! Before you get too excited, predicting the stock market is an insanely hard task (it's also why banks pay big bucks for good data scientists). Your goal for this homework exercise is to predict the market close price for a stock of your choice. Try using both the simple time series methods we started with (extracting trend, seasonality...etc.), and then try your hand at using prophet. How does each model do? Compare the performance using an evaluation method we discussed in class."
   ]
  },
  {
   "cell_type": "markdown",
   "metadata": {},
   "source": [
    "### <font color='#eb3483'> Retrieving Stock Data </font>\n",
    "Fun fact - pandas was actually created for financial modelling (hence all the nifty time series functionality). A cool by-product of this is that it has some great tools for obtaining financial data. For this homework assignment, we'll use the `pandas_datareader` package to grab stock price data. You can install it us `conda install pandas-datareader`. Here's some sample code to grab google's stock data for the past 4 years - feel free to grab whatever data you want to model."
   ]
  },
  {
   "cell_type": "code",
   "execution_count": null,
   "metadata": {},
   "outputs": [],
   "source": [
    "from pandas_datareader import data\n",
    "\n",
    "goog = data.DataReader('GOOG', start='2016', end='2020',\n",
    "                       data_source='yahoo')\n",
    "goog.head()"
   ]
  },
  {
   "cell_type": "markdown",
   "metadata": {},
   "source": [
    "### <font color='#eb3483'> Your Turn </font>"
   ]
  },
  {
   "cell_type": "code",
   "execution_count": null,
   "metadata": {},
   "outputs": [],
   "source": []
  }
 ],
 "metadata": {
  "kernelspec": {
   "display_name": "Python 3",
   "language": "python",
   "name": "python3"
  },
  "language_info": {
   "codemirror_mode": {
    "name": "ipython",
    "version": 3
   },
   "file_extension": ".py",
   "mimetype": "text/x-python",
   "name": "python",
   "nbconvert_exporter": "python",
   "pygments_lexer": "ipython3",
   "version": "3.8.5"
  }
 },
 "nbformat": 4,
 "nbformat_minor": 4
}
