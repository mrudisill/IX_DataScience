{
 "cells": [
  {
   "cell_type": "markdown",
   "metadata": {},
   "source": [
    "# <font color='#eb3483'> Introduction to Numpy </font>\n",
    "\n",
    "\n",
    "If there's one thing you should be comfortable with by the end of this course, it's numpy (NUMerical PYthon) and Pandas - the backbone of data science in python. Both numpy and pandas package really helpful (and behind the scenes very quick) functions that you'll want to whip out time and time again. \n",
    "\n",
    "Today we'll start with numpy - a package that takes lists and supercharges them to be lean, mean data science machines. By convention most people import numpy as np - before we continue make sure that the import statement works (i.e. numpy is installed in your environment)!"
   ]
  },
  {
   "cell_type": "code",
   "execution_count": 28,
   "metadata": {},
   "outputs": [],
   "source": [
    "#the convention is to import numpy as np\n",
    "import numpy as np"
   ]
  },
  {
   "cell_type": "markdown",
   "metadata": {},
   "source": [
    "## <font color='#eb3483'> Arrays </font>\n",
    "\n",
    "Numpy arrays can be thought of as generalizations of lists. Instead of having one dimension along which they may have multiple entries, arrays can have arbitrarily many axes!"
   ]
  },
  {
   "cell_type": "markdown",
   "metadata": {},
   "source": [
    "### <font color='#eb3483'> 1 dimensional arrays (a.k.a vectors) </font>"
   ]
  },
  {
   "cell_type": "code",
   "execution_count": 29,
   "metadata": {},
   "outputs": [
    {
     "name": "stdout",
     "output_type": "stream",
     "text": [
      "[4 5 3]\n"
     ]
    },
    {
     "data": {
      "text/plain": [
       "numpy.ndarray"
      ]
     },
     "execution_count": 29,
     "metadata": {},
     "output_type": "execute_result"
    }
   ],
   "source": [
    "#To create a numpy array you can feed in a standard python list as the input argument\n",
    "example1 = np.array([4, 5, 3])\n",
    "print(example1)\n",
    "type(example1)"
   ]
  },
  {
   "cell_type": "code",
   "execution_count": 30,
   "metadata": {},
   "outputs": [
    {
     "data": {
      "text/plain": [
       "3"
      ]
     },
     "execution_count": 30,
     "metadata": {},
     "output_type": "execute_result"
    }
   ],
   "source": [
    "#Let's check out how long our array is\n",
    "len(example1)"
   ]
  },
  {
   "cell_type": "code",
   "execution_count": 31,
   "metadata": {},
   "outputs": [
    {
     "data": {
      "text/plain": [
       "(3,)"
      ]
     },
     "execution_count": 31,
     "metadata": {},
     "output_type": "execute_result"
    }
   ],
   "source": [
    "#Shape gives us the length along each dimension\n",
    "example1.shape # (rows, columns)"
   ]
  },
  {
   "cell_type": "code",
   "execution_count": 32,
   "metadata": {},
   "outputs": [
    {
     "data": {
      "text/plain": [
       "1"
      ]
     },
     "execution_count": 32,
     "metadata": {},
     "output_type": "execute_result"
    }
   ],
   "source": [
    "#ndim tells us how many dimensions our array has\n",
    "example1.ndim "
   ]
  },
  {
   "cell_type": "code",
   "execution_count": 33,
   "metadata": {},
   "outputs": [
    {
     "data": {
      "text/plain": [
       "dtype('int64')"
      ]
     },
     "execution_count": 33,
     "metadata": {},
     "output_type": "execute_result"
    }
   ],
   "source": [
    "#Note that unlike lists, each array has a specific date type (we can see it with dtype)\n",
    "example1.dtype"
   ]
  },
  {
   "cell_type": "code",
   "execution_count": 34,
   "metadata": {},
   "outputs": [
    {
     "data": {
      "text/plain": [
       "array([4., 5., 3.])"
      ]
     },
     "execution_count": 34,
     "metadata": {},
     "output_type": "execute_result"
    }
   ],
   "source": [
    "#We can change the type use astype (to set a type use np.TYPE - google for a list of types)\n",
    "example1.astype(np.float64)"
   ]
  },
  {
   "cell_type": "markdown",
   "metadata": {},
   "source": [
    "### <font color='#eb3483'> 2 dimensional arrays (a.k.a matrices) </font>"
   ]
  },
  {
   "cell_type": "code",
   "execution_count": 35,
   "metadata": {},
   "outputs": [
    {
     "name": "stdout",
     "output_type": "stream",
     "text": [
      "[[ 1  2  1]\n",
      " [ 5 43  5]]\n"
     ]
    }
   ],
   "source": [
    "#Now let's feed in a list of lists\n",
    "example2 = np.array([[1, 2, 1], [5, 43, 5]])\n",
    "print(example2)"
   ]
  },
  {
   "cell_type": "code",
   "execution_count": 36,
   "metadata": {},
   "outputs": [
    {
     "name": "stdout",
     "output_type": "stream",
     "text": [
      "\u001b[0;31mDocstring:\u001b[0m\n",
      "array(object, dtype=None, *, copy=True, order='K', subok=False, ndmin=0,\n",
      "      like=None)\n",
      "\n",
      "Create an array.\n",
      "\n",
      "Parameters\n",
      "----------\n",
      "object : array_like\n",
      "    An array, any object exposing the array interface, an object whose\n",
      "    __array__ method returns an array, or any (nested) sequence.\n",
      "    If object is a scalar, a 0-dimensional array containing object is\n",
      "    returned.\n",
      "dtype : data-type, optional\n",
      "    The desired data-type for the array.  If not given, then the type will\n",
      "    be determined as the minimum type required to hold the objects in the\n",
      "    sequence.\n",
      "copy : bool, optional\n",
      "    If true (default), then the object is copied.  Otherwise, a copy will\n",
      "    only be made if __array__ returns a copy, if obj is a nested sequence,\n",
      "    or if a copy is needed to satisfy any of the other requirements\n",
      "    (`dtype`, `order`, etc.).\n",
      "order : {'K', 'A', 'C', 'F'}, optional\n",
      "    Specify the memory layout of the array. If object is not an array, the\n",
      "    newly created array will be in C order (row major) unless 'F' is\n",
      "    specified, in which case it will be in Fortran order (column major).\n",
      "    If object is an array the following holds.\n",
      "\n",
      "    ===== ========= ===================================================\n",
      "    order  no copy                     copy=True\n",
      "    ===== ========= ===================================================\n",
      "    'K'   unchanged F & C order preserved, otherwise most similar order\n",
      "    'A'   unchanged F order if input is F and not C, otherwise C order\n",
      "    'C'   C order   C order\n",
      "    'F'   F order   F order\n",
      "    ===== ========= ===================================================\n",
      "\n",
      "    When ``copy=False`` and a copy is made for other reasons, the result is\n",
      "    the same as if ``copy=True``, with some exceptions for 'A', see the\n",
      "    Notes section. The default order is 'K'.\n",
      "subok : bool, optional\n",
      "    If True, then sub-classes will be passed-through, otherwise\n",
      "    the returned array will be forced to be a base-class array (default).\n",
      "ndmin : int, optional\n",
      "    Specifies the minimum number of dimensions that the resulting\n",
      "    array should have.  Ones will be prepended to the shape as\n",
      "    needed to meet this requirement.\n",
      "like : array_like, optional\n",
      "    Reference object to allow the creation of arrays which are not\n",
      "    NumPy arrays. If an array-like passed in as ``like`` supports\n",
      "    the ``__array_function__`` protocol, the result will be defined\n",
      "    by it. In this case, it ensures the creation of an array object\n",
      "    compatible with that passed in via this argument.\n",
      "\n",
      "    .. versionadded:: 1.20.0\n",
      "\n",
      "Returns\n",
      "-------\n",
      "out : ndarray\n",
      "    An array object satisfying the specified requirements.\n",
      "\n",
      "See Also\n",
      "--------\n",
      "empty_like : Return an empty array with shape and type of input.\n",
      "ones_like : Return an array of ones with shape and type of input.\n",
      "zeros_like : Return an array of zeros with shape and type of input.\n",
      "full_like : Return a new array with shape of input filled with value.\n",
      "empty : Return a new uninitialized array.\n",
      "ones : Return a new array setting values to one.\n",
      "zeros : Return a new array setting values to zero.\n",
      "full : Return a new array of given shape filled with value.\n",
      "\n",
      "\n",
      "Notes\n",
      "-----\n",
      "When order is 'A' and `object` is an array in neither 'C' nor 'F' order,\n",
      "and a copy is forced by a change in dtype, then the order of the result is\n",
      "not necessarily 'C' as expected. This is likely a bug.\n",
      "\n",
      "Examples\n",
      "--------\n",
      ">>> np.array([1, 2, 3])\n",
      "array([1, 2, 3])\n",
      "\n",
      "Upcasting:\n",
      "\n",
      ">>> np.array([1, 2, 3.0])\n",
      "array([ 1.,  2.,  3.])\n",
      "\n",
      "More than one dimension:\n",
      "\n",
      ">>> np.array([[1, 2], [3, 4]])\n",
      "array([[1, 2],\n",
      "       [3, 4]])\n",
      "\n",
      "Minimum dimensions 2:\n",
      "\n",
      ">>> np.array([1, 2, 3], ndmin=2)\n",
      "array([[1, 2, 3]])\n",
      "\n",
      "Type provided:\n",
      "\n",
      ">>> np.array([1, 2, 3], dtype=complex)\n",
      "array([ 1.+0.j,  2.+0.j,  3.+0.j])\n",
      "\n",
      "Data-type consisting of more than one element:\n",
      "\n",
      ">>> x = np.array([(1,2),(3,4)],dtype=[('a','<i4'),('b','<i4')])\n",
      ">>> x['a']\n",
      "array([1, 3])\n",
      "\n",
      "Creating an array from sub-classes:\n",
      "\n",
      ">>> np.array(np.mat('1 2; 3 4'))\n",
      "array([[1, 2],\n",
      "       [3, 4]])\n",
      "\n",
      ">>> np.array(np.mat('1 2; 3 4'), subok=True)\n",
      "matrix([[1, 2],\n",
      "        [3, 4]])\n",
      "\u001b[0;31mType:\u001b[0m      builtin_function_or_method"
     ]
    }
   ],
   "source": [
    "#Remember you can always check-out the help docs\n",
    "np.array?"
   ]
  },
  {
   "cell_type": "code",
   "execution_count": 37,
   "metadata": {},
   "outputs": [
    {
     "data": {
      "text/plain": [
       "(2, 3)"
      ]
     },
     "execution_count": 37,
     "metadata": {},
     "output_type": "execute_result"
    }
   ],
   "source": [
    "example2.shape"
   ]
  },
  {
   "cell_type": "code",
   "execution_count": 38,
   "metadata": {},
   "outputs": [
    {
     "data": {
      "text/plain": [
       "2"
      ]
     },
     "execution_count": 38,
     "metadata": {},
     "output_type": "execute_result"
    }
   ],
   "source": [
    "example2.ndim"
   ]
  },
  {
   "cell_type": "markdown",
   "metadata": {},
   "source": [
    "## <font color='#eb3483'> Creating Arrays </font>"
   ]
  },
  {
   "cell_type": "markdown",
   "metadata": {},
   "source": [
    "`arange` returns equally-spaced values within a given interval (inclusive of the start and exclusively of the stop). It has the following parameters:\n",
    "1. **start** : number, optional\n",
    "    Start of interval.  The interval includes this value.  The default\n",
    "    start value is 0.\n",
    "2. **stop** : number\n",
    "    End of interval.  The interval does not include this value, except\n",
    "    in some cases where `step` is not an integer and floating point\n",
    "    round-off affects the length of `out`.\n",
    "3. **step** : number, optional\n",
    "    Spacing between values.  For any output `out`, this is the distance\n",
    "    between two adjacent values, ``out[i+1] - out[i]``.  The default\n",
    "    step size is 1.  If `step` is specified as a position argument,\n",
    "    `start` must also be given."
   ]
  },
  {
   "cell_type": "code",
   "execution_count": 39,
   "metadata": {
    "scrolled": true
   },
   "outputs": [
    {
     "name": "stdout",
     "output_type": "stream",
     "text": [
      "[0 1 2 3 4 5 6 7 8 9]\n",
      "\n",
      " [1.2  1.67 2.14 2.61 3.08 3.55 4.02 4.49 4.96 5.43 5.9  6.37 6.84 7.31\n",
      " 7.78]\n"
     ]
    }
   ],
   "source": [
    "# make range using arange\n",
    "\n",
    "arng = np.arange(0, 10, 1)\n",
    "\n",
    "print(arng)\n",
    "\n",
    "# arange isn't constrained to integer values!\n",
    "arng = np.arange(1.2, 7.87, 0.47)\n",
    "\n",
    "print('\\n', arng)\n",
    "\n",
    "#what does '\\n' do?"
   ]
  },
  {
   "cell_type": "markdown",
   "metadata": {},
   "source": [
    "Numpy also provides a number of utility functions to generate arrays in commonly used forms. A few of these are:\n",
    "\n",
    "1. `ones` returns an array of the specified shape populated entirely with ones.\n",
    "\n",
    "2. `zeros` returns an array of the specified shape, filled with zeros.\n",
    "\n",
    "3. `eye` returns a 2D array with ones on the diagonal and zeros everywhere else\n",
    "\n",
    "4. `diag` returns a 2D array with the given array on its diagonal and zeros elsewhere.\n",
    "\n",
    "4. `repeat` repeats a number or each element in a sequence of numbers a given number of times in an array.\n",
    "\n",
    "4. `np.random` creates an array with random values in the interval (0, 1)"
   ]
  },
  {
   "cell_type": "code",
   "execution_count": 40,
   "metadata": {},
   "outputs": [
    {
     "data": {
      "text/plain": [
       "array([[1., 1., 1.],\n",
       "       [1., 1., 1.]])"
      ]
     },
     "execution_count": 40,
     "metadata": {},
     "output_type": "execute_result"
    }
   ],
   "source": [
    "np.ones((2, 3))"
   ]
  },
  {
   "cell_type": "code",
   "execution_count": 41,
   "metadata": {},
   "outputs": [
    {
     "data": {
      "text/plain": [
       "array([[0., 0.],\n",
       "       [0., 0.],\n",
       "       [0., 0.]])"
      ]
     },
     "execution_count": 41,
     "metadata": {},
     "output_type": "execute_result"
    }
   ],
   "source": [
    "np.zeros((3,2))"
   ]
  },
  {
   "cell_type": "code",
   "execution_count": 42,
   "metadata": {},
   "outputs": [
    {
     "data": {
      "text/plain": [
       "array([[1., 0., 0.],\n",
       "       [0., 1., 0.],\n",
       "       [0., 0., 1.]])"
      ]
     },
     "execution_count": 42,
     "metadata": {},
     "output_type": "execute_result"
    }
   ],
   "source": [
    "np.eye(3)"
   ]
  },
  {
   "cell_type": "code",
   "execution_count": 43,
   "metadata": {},
   "outputs": [
    {
     "data": {
      "text/plain": [
       "array([[1, 0, 0],\n",
       "       [0, 2, 0],\n",
       "       [0, 0, 3]])"
      ]
     },
     "execution_count": 43,
     "metadata": {},
     "output_type": "execute_result"
    }
   ],
   "source": [
    "np.diag([1, 2, 3])"
   ]
  },
  {
   "cell_type": "code",
   "execution_count": 44,
   "metadata": {},
   "outputs": [
    {
     "data": {
      "text/plain": [
       "array([1, 1, 1, 2, 2, 2, 3, 3, 3, 4, 4, 4])"
      ]
     },
     "execution_count": 44,
     "metadata": {},
     "output_type": "execute_result"
    }
   ],
   "source": [
    "np.repeat([1, 2, 3, 4], 3)"
   ]
  },
  {
   "cell_type": "markdown",
   "metadata": {},
   "source": [
    "To generate random numbers we use ... "
   ]
  },
  {
   "cell_type": "code",
   "execution_count": 45,
   "metadata": {},
   "outputs": [
    {
     "data": {
      "text/plain": [
       "array([0.2915122 , 0.02028906])"
      ]
     },
     "execution_count": 45,
     "metadata": {},
     "output_type": "execute_result"
    }
   ],
   "source": [
    "np.random.random(2)"
   ]
  },
  {
   "cell_type": "code",
   "execution_count": 46,
   "metadata": {},
   "outputs": [
    {
     "data": {
      "text/plain": [
       "array([[0.98941479, 0.04518727, 0.86676687],\n",
       "       [0.05234234, 0.84420291, 0.74257321]])"
      ]
     },
     "execution_count": 46,
     "metadata": {},
     "output_type": "execute_result"
    }
   ],
   "source": [
    "np.random.random((2,3))"
   ]
  },
  {
   "cell_type": "markdown",
   "metadata": {},
   "source": [
    "### <font color='#eb3483'> Quick knowledge check! </font>\n",
    "1. We learned how to make an array using `arange`. A closely related function is `linspace` - take a look at the help doc. for linspace and recreate the array generated by `np.arange(0, 10, 1)` using linspace."
   ]
  },
  {
   "cell_type": "code",
   "execution_count": 47,
   "metadata": {},
   "outputs": [],
   "source": [
    "# your code goes here"
   ]
  },
  {
   "cell_type": "markdown",
   "metadata": {},
   "source": [
    "2. Make a 5 x 3 matrix of all threes using numpy."
   ]
  },
  {
   "cell_type": "code",
   "execution_count": 48,
   "metadata": {},
   "outputs": [],
   "source": [
    "# your code goes here"
   ]
  },
  {
   "cell_type": "markdown",
   "metadata": {},
   "source": [
    "## <font color='#eb3483'> Combining and Splitting Arrays </font>\n",
    "\n",
    "Numpy provides a number of ways in which we can combine arrays to form new arrays.\n",
    "\n",
    "Two of the key functions are `vstack` and `hstack`. These functions respectively stack arrays vertically (one on top of another) and horizontally (one alongside another).\n",
    "\n",
    "You can see that this implies that `vstack` requires that the stacked arrays have the same number of columns, while `hstack` requires that the stacked arrays have the same number of rows."
   ]
  },
  {
   "cell_type": "code",
   "execution_count": 49,
   "metadata": {},
   "outputs": [
    {
     "name": "stdout",
     "output_type": "stream",
     "text": [
      "arr:\n",
      " [[1 2 3]\n",
      " [4 5 6]] \n",
      "\n",
      "vstacked:\n",
      " [[1 2 3]\n",
      " [4 5 6]\n",
      " [1 2 3]\n",
      " [4 5 6]] \n",
      "\n",
      "hstacked:\n",
      " [[1 2 3 1 2 3]\n",
      " [4 5 6 4 5 6]] \n",
      "\n"
     ]
    }
   ],
   "source": [
    "# create a dataframe which we'll play around with stacking\n",
    "arr = np.array([[1, 2, 3], [4, 5, 6]])\n",
    "\n",
    "print('arr:\\n', arr, '\\n')\n",
    "\n",
    "# lets stack the same array vertically\n",
    "vstacked = np.vstack([arr, arr])\n",
    "\n",
    "print('vstacked:\\n', vstacked, '\\n')\n",
    "\n",
    "# lets stack the same array horizontally\n",
    "hstacked = np.hstack([arr, arr])\n",
    "\n",
    "print('hstacked:\\n', hstacked, '\\n')"
   ]
  },
  {
   "cell_type": "markdown",
   "metadata": {},
   "source": [
    "Where we can combine arrays, so to can we break them up! `vsplit` and `hsplit` are the splitting analogs to `vstack` and `hstack`. Instead of passing in two arrays and getting one back, we now feed in one array and a list of indices where we want to split them (note that N split points, will give us N + 1 new arrays)."
   ]
  },
  {
   "cell_type": "code",
   "execution_count": 50,
   "metadata": {},
   "outputs": [
    {
     "name": "stdout",
     "output_type": "stream",
     "text": [
      "arr:\n",
      " [[ 0  1  2  3]\n",
      " [ 4  5  6  7]\n",
      " [ 8  9 10 11]\n",
      " [12 13 14 15]\n",
      " [16 17 18 19]] \n",
      "\n",
      "Upper Split:\n",
      " [[0 1 2 3]\n",
      " [4 5 6 7]] \n",
      " Middle Split:\n",
      " [[ 8  9 10 11]\n",
      " [12 13 14 15]] \n",
      " Lower Split:\n",
      " [[16 17 18 19]] \n",
      "\n",
      "Left Split:\n",
      " [[ 0  1]\n",
      " [ 4  5]\n",
      " [ 8  9]\n",
      " [12 13]\n",
      " [16 17]] \n",
      " Right Split:\n",
      " [[ 2  3]\n",
      " [ 6  7]\n",
      " [10 11]\n",
      " [14 15]\n",
      " [18 19]] \n",
      "\n"
     ]
    }
   ],
   "source": [
    "# create a dataframe which we'll play around with splitting \n",
    "# Note we're creating an array counting from 0 to 11 and then turning it into a matrix using reshape\n",
    "arr = np.arange(20).reshape((5,4))\n",
    "\n",
    "print('arr:\\n', arr, '\\n')\n",
    "\n",
    "# lets split the array vertically (try change the)\n",
    "upper, middle, lower = np.vsplit(arr, [2,4])\n",
    "\n",
    "print('Upper Split:\\n', upper, '\\n',\n",
    "      'Middle Split:\\n', middle, '\\n',\n",
    "     'Lower Split:\\n', lower, '\\n',)\n",
    "\n",
    "# lets stack the same array horizontally\n",
    "left, right = np.hsplit(arr, [2])\n",
    "\n",
    "print('Left Split:\\n', left, '\\n',\n",
    "      'Right Split:\\n', right, '\\n')"
   ]
  },
  {
   "cell_type": "markdown",
   "metadata": {},
   "source": [
    "### <font color='#eb3483'> Quick knowledge check! </font>\n",
    "1. Replace the `?` below with either h or v (think about which one will work) - run the code to see if you got it right!"
   ]
  },
  {
   "cell_type": "code",
   "execution_count": 51,
   "metadata": {},
   "outputs": [
    {
     "name": "stdout",
     "output_type": "stream",
     "text": [
      "[[1. 1. 1. 1. 1. 1. 1.]\n",
      " [0. 0. 0. 0. 0. 0. 0.]\n",
      " [0. 0. 0. 0. 0. 0. 0.]\n",
      " [0. 0. 0. 0. 0. 0. 0.]\n",
      " [0. 0. 0. 0. 0. 0. 0.]\n",
      " [0. 0. 0. 0. 0. 0. 0.]\n",
      " [0. 0. 0. 0. 0. 0. 0.]\n",
      " [0. 0. 0. 0. 0. 0. 0.]]\n"
     ]
    }
   ],
   "source": [
    "arr1 = np.ones((1,7))\n",
    "arr2 = np.zeros((7,7))\n",
    "\n",
    "myBigArray = np.vstack([arr1,arr2])\n",
    "\n",
    "print(myBigArray)"
   ]
  },
  {
   "cell_type": "markdown",
   "metadata": {},
   "source": [
    "## <font color='#eb3483'> Operations and Arithmetic </font>\n",
    "\n",
    "\n",
    "Numpy arrays support element-wise arithmetic via a set of overloaded operators that you should be very familiar with (they simply perform the usual operations on each element of the given tensor).\n",
    "\n",
    "1. `+` — element-wise addition\n",
    "2. `-` — element-wise subtraction\n",
    "3. `*` — element-wise multiplication\n",
    "4. `/` — element-wise division\n",
    "5. `**` — element-wise power"
   ]
  },
  {
   "cell_type": "code",
   "execution_count": 52,
   "metadata": {},
   "outputs": [
    {
     "name": "stdout",
     "output_type": "stream",
     "text": [
      "addition:\n",
      " [5 7 9] \n",
      "\n",
      "subtraction:\n",
      " [-3 -3 -3] \n",
      "\n",
      "multiplication:\n",
      " [ 4 10 18] \n",
      "\n",
      "division:\n",
      " [0.25 0.4  0.5 ] \n",
      "\n",
      "power:\n",
      " [1 4 9] \n",
      "\n"
     ]
    }
   ],
   "source": [
    "x = np.array([1, 2, 3])\n",
    "y = np.array([4, 5, 6])\n",
    "\n",
    "print('addition:\\n', x + y, '\\n')\n",
    "print('subtraction:\\n', x - y, '\\n')\n",
    "print('multiplication:\\n', x * y, '\\n')\n",
    "print('division:\\n', x / y, '\\n')\n",
    "print('power:\\n', x ** 2, '\\n')"
   ]
  },
  {
   "cell_type": "markdown",
   "metadata": {},
   "source": [
    "We can also perform the **dot product** (which you may be familiar with):\n",
    "\n",
    "$ \\begin{bmatrix}x_1 \\ x_2 \\ x_3\\end{bmatrix}\n",
    "\\cdot\n",
    "\\begin{bmatrix}y_1 \\\\ y_2 \\\\ y_3\\end{bmatrix}\n",
    "= x_1 y_1 + x_2 y_2 + x_3 y_3$"
   ]
  },
  {
   "cell_type": "code",
   "execution_count": 53,
   "metadata": {},
   "outputs": [
    {
     "data": {
      "text/plain": [
       "32"
      ]
     },
     "execution_count": 53,
     "metadata": {},
     "output_type": "execute_result"
    }
   ],
   "source": [
    "x.dot(y)"
   ]
  },
  {
   "cell_type": "markdown",
   "metadata": {},
   "source": [
    "This can also be written as:"
   ]
  },
  {
   "cell_type": "code",
   "execution_count": 54,
   "metadata": {},
   "outputs": [
    {
     "data": {
      "text/plain": [
       "32"
      ]
     },
     "execution_count": 54,
     "metadata": {},
     "output_type": "execute_result"
    }
   ],
   "source": [
    "x @ y"
   ]
  },
  {
   "cell_type": "markdown",
   "metadata": {},
   "source": [
    "Taking the dot product implicitly transposes the first vector `x`. We can also achieve this through use of the transpose method for Numpy arrays."
   ]
  },
  {
   "cell_type": "code",
   "execution_count": 55,
   "metadata": {
    "scrolled": true
   },
   "outputs": [
    {
     "name": "stdout",
     "output_type": "stream",
     "text": [
      "array:\n",
      " [[ 0  1  2  3]\n",
      " [ 4  5  6  7]\n",
      " [ 8  9 10 11]\n",
      " [12 13 14 15]\n",
      " [16 17 18 19]] \n",
      "\n",
      "transposed array:\n",
      " [[ 0  4  8 12 16]\n",
      " [ 1  5  9 13 17]\n",
      " [ 2  6 10 14 18]\n",
      " [ 3  7 11 15 19]] \n",
      "\n",
      "transposed array shape:\n",
      " (4, 5) \n",
      "\n"
     ]
    }
   ],
   "source": [
    "print('array:\\n', arr, '\\n')\n",
    "print('transposed array:\\n', arr.T, '\\n')\n",
    "print('transposed array shape:\\n', arr.T.shape, '\\n')"
   ]
  },
  {
   "cell_type": "markdown",
   "metadata": {},
   "source": [
    "We can also use the same idea for boolean operators"
   ]
  },
  {
   "cell_type": "code",
   "execution_count": 56,
   "metadata": {},
   "outputs": [
    {
     "name": "stdout",
     "output_type": "stream",
     "text": [
      "arr1 > arr2?  [False  True False]\n",
      "arr1 < arr2?  [False False  True]\n",
      "arr1 = arr2?  [ True False False]\n",
      "arr1 != arr2?  [False  True  True]\n"
     ]
    }
   ],
   "source": [
    "arr1 = np.array([1, 2, 3])\n",
    "arr2 = np.array([1, -124, 5])\n",
    "\n",
    "print('arr1 > arr2? ', arr1 > arr2)\n",
    "print('arr1 < arr2? ', arr1 < arr2)\n",
    "print('arr1 = arr2? ', arr1 == arr2) #Note for checking equality we use two == \n",
    "print('arr1 != arr2? ', arr1 != arr2) #!= means not equal"
   ]
  },
  {
   "cell_type": "markdown",
   "metadata": {},
   "source": [
    "We can also extend the same idea of comparing boolean variables (i.e. and, or) to vectors of boolean arrays."
   ]
  },
  {
   "cell_type": "code",
   "execution_count": 57,
   "metadata": {},
   "outputs": [
    {
     "name": "stdout",
     "output_type": "stream",
     "text": [
      "arr1 AND arr2 [ True False False False]\n",
      "arr1 OR arr2 [ True  True  True False]\n"
     ]
    }
   ],
   "source": [
    "arr1 = np.array([True, True, False, False])\n",
    "arr2 = np.array([True, False, True, False])\n",
    "\n",
    "print('arr1 AND arr2', arr1 & arr2) #Note that for vectors, we need & and not 'and'\n",
    "print('arr1 OR arr2', arr1 | arr2) #Note that for vectors, we need | and not 'or'"
   ]
  },
  {
   "cell_type": "markdown",
   "metadata": {},
   "source": [
    "You might be wondering why we use numpy's functions instead of doing a loop and using Python's base functions (i.e. why not loop through our numpy array and add the two arrays together one at a time)? Beyond being a little more readable, numpy's functions actually run a lot faster than Python's built-in functions. It won't come up for smaller applications, but when you're working with massive datasets it's important to keep in mind that you want to rely on numpy whenever possible to keep your code working fast!"
   ]
  },
  {
   "cell_type": "markdown",
   "metadata": {},
   "source": [
    "## <font color='#eb3483'> Aggregations </font>\n",
    "\n",
    "A lot of times you might want to get a summarized view of your numpy array - that's where aggregations come in! Python has a lot of aggregation functions built-in (i.e. `sum`,  `max`, `min`...etc.) but again, the numpy varieties run a lot faster!\n",
    "\n",
    "Some handy aggregation functions you might want to use are:\n",
    "\n",
    "1. `sum` — add together all the elements\n",
    "2. `mean` — get the average of all the elements\n",
    "3. `std` — get the standard deviation of all the elements\n",
    "4. `max` — get the maximum value in the array\n",
    "5. `min` — get the minimum value in the array\n",
    "6. `argmax` — get the index of the maximum value in the array\n",
    "7. `argmin` — get the index of the minimum value in the array\n",
    "\n",
    "Let's take some for a spin"
   ]
  },
  {
   "cell_type": "code",
   "execution_count": 58,
   "metadata": {},
   "outputs": [
    {
     "name": "stdout",
     "output_type": "stream",
     "text": [
      "Our array:  [0 1 2 3 4 5 6 7 8 9]\n",
      "Sum:  45\n",
      "Average:  4.5\n",
      "Max:  9\n",
      "Argmax:  9\n"
     ]
    }
   ],
   "source": [
    "#Let's make an array to play around with\n",
    "arr = np.arange(10)\n",
    "print('Our array: ', arr)\n",
    "\n",
    "#Let's start by trying out some basic aggregation functions\n",
    "print('Sum: ', np.sum(arr))\n",
    "print('Average: ', np.mean(arr)) #Mean = Stats-y way to say average\n",
    "print('Max: ', np.max(arr)) \n",
    "print('Argmax: ', np.argmax(arr)) #"
   ]
  },
  {
   "cell_type": "markdown",
   "metadata": {},
   "source": [
    "For these aggregation functions, we can also access them directly from the array object (remember too include the '()' because they're functions not attributes)."
   ]
  },
  {
   "cell_type": "code",
   "execution_count": 59,
   "metadata": {},
   "outputs": [
    {
     "name": "stdout",
     "output_type": "stream",
     "text": [
      "Sum:  45\n",
      "Mean:  4.5\n",
      "Max:  9\n",
      "Argmax:  9\n"
     ]
    }
   ],
   "source": [
    "#Remix of the above with a different syntax\n",
    "print('Sum: ', arr.sum())\n",
    "print('Mean: ', arr.mean())\n",
    "print('Max: ', arr.max())\n",
    "print('Argmax: ', arr.argmax()) #"
   ]
  },
  {
   "cell_type": "markdown",
   "metadata": {},
   "source": [
    "When we're working with matrices, we can use the same aggregation functions and even apply them to only one dimension (note `axis = 0` means columns, `axis = 1` means rows - though I usually can't remember and just go to the help doc to double check)"
   ]
  },
  {
   "cell_type": "code",
   "execution_count": 60,
   "metadata": {},
   "outputs": [
    {
     "name": "stdout",
     "output_type": "stream",
     "text": [
      "Our matrix: \n",
      " [[ 0  1  2  3]\n",
      " [ 4  5  6  7]\n",
      " [ 8  9 10 11]\n",
      " [12 13 14 15]\n",
      " [16 17 18 19]]\n",
      "Sum (everything):  190\n",
      "Sum (rows):  [ 6 22 38 54 70]\n",
      "Sum (cols):  [40 45 50 55]\n"
     ]
    }
   ],
   "source": [
    "matrix = np.arange(20).reshape(5,4)\n",
    "print('Our matrix: \\n', matrix)\n",
    "\n",
    "print('Sum (everything): ', matrix.sum())\n",
    "print('Sum (rows): ', matrix.sum(axis=1)) #Notice that we have 4 results and 4 roows\n",
    "print('Sum (cols): ', matrix.sum(axis=0)) #Notice that we now have 5 results (1 per col)"
   ]
  },
  {
   "cell_type": "markdown",
   "metadata": {},
   "source": [
    "Sometimes our matrices might have missing values (numpy has a handy data type called `nan`), a lot of our aggregation functions stop working if we hit a nan so we have to use 'nan-safe' pieces (generally you just tack on nan to the name of the function)."
   ]
  },
  {
   "cell_type": "code",
   "execution_count": 61,
   "metadata": {},
   "outputs": [
    {
     "name": "stdout",
     "output_type": "stream",
     "text": [
      "Normal sum:  nan\n",
      "Nan-safe sum:  8.0\n"
     ]
    }
   ],
   "source": [
    "#Let's make an array with a missing value\n",
    "nanArray = np.array([1, np.nan, 3, 4])\n",
    "\n",
    "print('Normal sum: ', nanArray.sum())\n",
    "print('Nan-safe sum: ', np.nansum(nanArray)) #Note that we have to use the np.FUN format for nan safe functions"
   ]
  },
  {
   "cell_type": "markdown",
   "metadata": {},
   "source": [
    "We also have aggregations for boolean arrays too!"
   ]
  },
  {
   "cell_type": "code",
   "execution_count": 62,
   "metadata": {},
   "outputs": [
    {
     "name": "stdout",
     "output_type": "stream",
     "text": [
      "Any : True\n",
      "All : False\n"
     ]
    }
   ],
   "source": [
    "arr1 = np.array([True, False, True, False])\n",
    "\n",
    "#Any checks if any value of the array is true\n",
    "print('Any :', arr1.any())\n",
    "\n",
    "#All checks if ALL value of the array are true\n",
    "print('All :', arr1.all())"
   ]
  },
  {
   "cell_type": "markdown",
   "metadata": {},
   "source": [
    "### <font color='#eb3483'> Quick knowledge check! </font>\n",
    "1. Add together matrices a and b and get the average value of each column in the added matrices."
   ]
  },
  {
   "cell_type": "code",
   "execution_count": 63,
   "metadata": {},
   "outputs": [],
   "source": [
    "a = np.arange(25).reshape((5,5))\n",
    "b = np.eye(5)\n",
    "\n",
    "#Your code goes here"
   ]
  },
  {
   "cell_type": "markdown",
   "metadata": {},
   "source": [
    "## <font color='#eb3483'> Slicing </font>"
   ]
  },
  {
   "cell_type": "markdown",
   "metadata": {},
   "source": [
    "It is very easy to take subsections of numpy arrays, this is called *\"slicing\"* (since we take a slice of the array)"
   ]
  },
  {
   "cell_type": "code",
   "execution_count": 64,
   "metadata": {},
   "outputs": [
    {
     "data": {
      "text/plain": [
       "array([[ 1,  2,  3,  4],\n",
       "       [ 5,  6,  7,  8],\n",
       "       [ 9, 10, 11, 12]])"
      ]
     },
     "execution_count": 64,
     "metadata": {},
     "output_type": "execute_result"
    }
   ],
   "source": [
    "matrix_34 = np.array([[1,2,3,4], [5,6,7,8], [9,10,11,12]])\n",
    "matrix_34"
   ]
  },
  {
   "cell_type": "markdown",
   "metadata": {},
   "source": [
    "We get the first row the same way we would do with a regular python list"
   ]
  },
  {
   "cell_type": "code",
   "execution_count": 65,
   "metadata": {},
   "outputs": [
    {
     "data": {
      "text/plain": [
       "array([1, 2, 3, 4])"
      ]
     },
     "execution_count": 65,
     "metadata": {},
     "output_type": "execute_result"
    }
   ],
   "source": [
    "matrix_34[0]"
   ]
  },
  {
   "cell_type": "markdown",
   "metadata": {},
   "source": [
    "We can choose the first 2 rows"
   ]
  },
  {
   "cell_type": "code",
   "execution_count": 66,
   "metadata": {},
   "outputs": [
    {
     "data": {
      "text/plain": [
       "array([[1, 2, 3, 4],\n",
       "       [5, 6, 7, 8]])"
      ]
     },
     "execution_count": 66,
     "metadata": {},
     "output_type": "execute_result"
    }
   ],
   "source": [
    "matrix_34[:2]"
   ]
  },
  {
   "cell_type": "markdown",
   "metadata": {},
   "source": [
    "We can select the 2nd element of each row (that is, the 2nd column):"
   ]
  },
  {
   "cell_type": "code",
   "execution_count": 67,
   "metadata": {},
   "outputs": [
    {
     "data": {
      "text/plain": [
       "array([ 2,  6, 10])"
      ]
     },
     "execution_count": 67,
     "metadata": {},
     "output_type": "execute_result"
    }
   ],
   "source": [
    "matrix_34[:,1]"
   ]
  },
  {
   "cell_type": "markdown",
   "metadata": {},
   "source": [
    "When we are slicing we dont get copies, but references to the same elements in the original array:"
   ]
  },
  {
   "cell_type": "code",
   "execution_count": 68,
   "metadata": {},
   "outputs": [
    {
     "data": {
      "text/plain": [
       "array([[1, 2, 3, 4],\n",
       "       [5, 6, 7, 8]])"
      ]
     },
     "execution_count": 68,
     "metadata": {},
     "output_type": "execute_result"
    }
   ],
   "source": [
    "two_first_rows = matrix_34[:2,:]\n",
    "two_first_rows"
   ]
  },
  {
   "cell_type": "code",
   "execution_count": 69,
   "metadata": {},
   "outputs": [
    {
     "name": "stdout",
     "output_type": "stream",
     "text": [
      "Before changing slice: \n",
      " [[ 1  2  3  4]\n",
      " [ 5  6  7  8]\n",
      " [ 9 10 11 12]]\n",
      "After changing slice: \n",
      " [[100   2   3   4]\n",
      " [  5   6   7   8]\n",
      " [  9  10  11  12]]\n"
     ]
    }
   ],
   "source": [
    "print('Before changing slice: \\n', matrix_34)\n",
    "two_first_rows[0, 0] = 100\n",
    "print('After changing slice: \\n',matrix_34)"
   ]
  },
  {
   "cell_type": "markdown",
   "metadata": {},
   "source": [
    "However, if we can always get around this by using numpy arrays copy function, which will make a copy of the sliced view."
   ]
  },
  {
   "cell_type": "code",
   "execution_count": 70,
   "metadata": {},
   "outputs": [
    {
     "name": "stdout",
     "output_type": "stream",
     "text": [
      "Before changing copied slice: \n",
      " [[100   2   3   4]\n",
      " [  5   6   7   8]\n",
      " [  9  10  11  12]]\n",
      "After copied slice: \n",
      " [[100   2   3   4]\n",
      " [  5   6   7   8]\n",
      " [  9  10  11  12]]\n"
     ]
    }
   ],
   "source": [
    "print('Before changing copied slice: \\n', matrix_34)\n",
    "selection = matrix_34[:2,:].copy() #Makes a copy of our slice\n",
    "selection[0,1] = 100\n",
    "matrix_34\n",
    "print('After copied slice: \\n',matrix_34)"
   ]
  },
  {
   "cell_type": "markdown",
   "metadata": {},
   "source": [
    "### <font color='#eb3483'> Quick knowledge check! </font>\n",
    "1. Using the matrix below, use slicing to return only even number rows and columns (i.e. no element that's in either an odd row or an odd column should be included)."
   ]
  },
  {
   "cell_type": "code",
   "execution_count": 71,
   "metadata": {},
   "outputs": [
    {
     "data": {
      "text/plain": [
       "array([[ 0,  2,  4,  6,  8],\n",
       "       [20, 22, 24, 26, 28],\n",
       "       [40, 42, 44, 46, 48],\n",
       "       [60, 62, 64, 66, 68],\n",
       "       [80, 82, 84, 86, 88]])"
      ]
     },
     "execution_count": 71,
     "metadata": {},
     "output_type": "execute_result"
    }
   ],
   "source": [
    "import numpy as np\n",
    "matrix = np.arange(100).reshape((10,10))\n",
    "\n",
    "matrix[::2, ::2]"
   ]
  },
  {
   "cell_type": "markdown",
   "metadata": {},
   "source": [
    "## <font color='#eb3483'> Fancy Indexing </font>\n",
    "\n",
    "So far, we've looked at indexing pretty similar to lists - we either put in the element we want to see (i.e. `x[0]`) or slice (`x[1:4]`) - but we can do a whole lot more in numpy! One additional way we can index is called 'masking' - feeding in a boolean array that tells us whether or not return each row with a true or false. Let's see it in action:"
   ]
  },
  {
   "cell_type": "code",
   "execution_count": 72,
   "metadata": {},
   "outputs": [
    {
     "name": "stdout",
     "output_type": "stream",
     "text": [
      "Masking in action:  [0 2]\n"
     ]
    }
   ],
   "source": [
    "arr = np.arange(3)\n",
    "mask = [True, False, True]\n",
    "\n",
    "print('Masking in action: ', arr[mask])"
   ]
  },
  {
   "cell_type": "markdown",
   "metadata": {},
   "source": [
    "Masking let's us get data that meet some conditions."
   ]
  },
  {
   "cell_type": "code",
   "execution_count": 73,
   "metadata": {},
   "outputs": [
    {
     "name": "stdout",
     "output_type": "stream",
     "text": [
      "> 0:  [1 2]\n",
      "!= 1:  [0 2]\n",
      "Matrix: \n",
      " [[1. 0. 0. 0. 0.]\n",
      " [0. 1. 0. 0. 0.]\n",
      " [0. 0. 1. 0. 0.]\n",
      " [0. 0. 0. 1. 0.]\n",
      " [0. 0. 0. 0. 1.]]\n",
      "Matrix > 0: \n",
      " [1. 1. 1. 1. 1.]\n"
     ]
    }
   ],
   "source": [
    "# Let's get all the values greater than 0\n",
    "print('> 0: ', arr[arr > 0])\n",
    "\n",
    "#Or not equal to 1\n",
    "print('!= 1: ', arr[arr != 1])\n",
    "\n",
    "#It works on matrices too!\n",
    "matrix = np.eye(5)\n",
    "print('Matrix: \\n', matrix)\n",
    "print('Matrix > 0: \\n', matrix[matrix > 0])"
   ]
  },
  {
   "cell_type": "markdown",
   "metadata": {},
   "source": [
    "We can also feed in the specific indices we want to acces in array format (i.e. `x[[0,6,9]]` to get the 1st, 7th and 10th elements!"
   ]
  },
  {
   "cell_type": "code",
   "execution_count": 74,
   "metadata": {},
   "outputs": [
    {
     "name": "stdout",
     "output_type": "stream",
     "text": [
      "Array indexing:  [ 2  5 30]\n",
      "Matrix indexing:  [0.01636855 0.16861968 0.0814864 ]\n"
     ]
    }
   ],
   "source": [
    "arr = np.arange(100)\n",
    "ind = [2, 5, 30]\n",
    "\n",
    "#Get the 3rd, 6th and 31st values of the array\n",
    "print('Array indexing: ', arr[ind])\n",
    "\n",
    "#It works for matrices too!\n",
    "matrix = np.random.rand(100).reshape(10,10)\n",
    "rows = [1, 3, 5]\n",
    "cols = [3, 8, 2] \n",
    "\n",
    "#Note that this code is returning elements at (1,3), (3,8), and (5,2)\n",
    "print('Matrix indexing: ', matrix[rows, cols])"
   ]
  },
  {
   "cell_type": "markdown",
   "metadata": {},
   "source": [
    "### <font color='#eb3483'> Quick knowledge check! </font>\n",
    "1. For the matrix below, get the average of all the values in the matrix above 50"
   ]
  },
  {
   "cell_type": "code",
   "execution_count": 75,
   "metadata": {},
   "outputs": [],
   "source": [
    "matrix = np.arange(100).reshape(10,10)"
   ]
  }
 ],
 "metadata": {
  "kernelspec": {
   "display_name": "Python 3 (ipykernel)",
   "language": "python",
   "name": "python3"
  },
  "language_info": {
   "codemirror_mode": {
    "name": "ipython",
    "version": 3
   },
   "file_extension": ".py",
   "mimetype": "text/x-python",
   "name": "python",
   "nbconvert_exporter": "python",
   "pygments_lexer": "ipython3",
   "version": "3.11.8"
  }
 },
 "nbformat": 4,
 "nbformat_minor": 4
}
