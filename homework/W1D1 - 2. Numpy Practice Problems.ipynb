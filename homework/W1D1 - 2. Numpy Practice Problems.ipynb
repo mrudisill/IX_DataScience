{
 "cells": [
  {
   "cell_type": "markdown",
   "metadata": {},
   "source": [
    "# <font color='#eb3483'> Numpy Exercises </font>\n",
    "\n",
    "Numpy is a really handy package to have mastered - these bonus questions are your chance to practice and get the functions engrained. Remember that learning data science is like learning a sport - you'll only get better with time and practice! You can start by importing numpy below:"
   ]
  },
  {
   "cell_type": "code",
   "execution_count": 1,
   "metadata": {},
   "outputs": [],
   "source": [
    "# your code goes here\n",
    "import numpy as np"
   ]
  },
  {
   "cell_type": "markdown",
   "metadata": {},
   "source": [
    "### <font color='#eb3483'>  1. Creating Arrays </font>\n",
    "For this question we're going to be creating the following array two different ways\n",
    "```\n",
    "[[1,  6, 11],\n",
    " [2,  7, 12],\n",
    " [3,  8, 13],\n",
    " [4,  9, 14],\n",
    " [5, 10, 15]]\n",
    "```\n",
    "(a) Start by creating a list with the data and turning it into a numpy array - call it array"
   ]
  },
  {
   "cell_type": "code",
   "execution_count": 5,
   "metadata": {},
   "outputs": [
    {
     "name": "stdout",
     "output_type": "stream",
     "text": [
      "[[ 1  6 11]\n",
      " [ 2  7 12]\n",
      " [ 3  8 13]\n",
      " [ 4  9 14]\n",
      " [ 5 10 15]]\n"
     ]
    }
   ],
   "source": [
    "# your code goes here\n",
    "array = np.array([[1, 6, 11], [2, 7, 12], [3, 8, 13], [4, 9, 14], [5, 10, 15]])\n",
    "print(array)"
   ]
  },
  {
   "cell_type": "markdown",
   "metadata": {},
   "source": [
    "(b) **Challenge!** Create the same array, but instead of typing in each value manually into a list generate the matrix using `np.arange`. Hint: Arange creates a vector, you'll need to use reshape and transpose to get the final result"
   ]
  },
  {
   "cell_type": "code",
   "execution_count": 25,
   "metadata": {},
   "outputs": [
    {
     "name": "stdout",
     "output_type": "stream",
     "text": [
      "[[ 1  6 11]\n",
      " [ 2  7 12]\n",
      " [ 3  8 13]\n",
      " [ 4  9 14]\n",
      " [ 5 10 15]]\n"
     ]
    },
    {
     "ename": "NameError",
     "evalue": "name 'shape' is not defined",
     "output_type": "error",
     "traceback": [
      "\u001b[0;31m---------------------------------------------------------------------------\u001b[0m",
      "\u001b[0;31mNameError\u001b[0m                                 Traceback (most recent call last)",
      "Cell \u001b[0;32mIn[25], line 9\u001b[0m\n\u001b[1;32m      6\u001b[0m array_np \u001b[38;5;241m=\u001b[39m array_np\u001b[38;5;241m.\u001b[39mT\n\u001b[1;32m      8\u001b[0m \u001b[38;5;28mprint\u001b[39m(array_np)\n\u001b[0;32m----> 9\u001b[0m \u001b[38;5;28mprint\u001b[39m(\u001b[43mshape\u001b[49m\u001b[38;5;241m.\u001b[39marray_np)\n",
      "\u001b[0;31mNameError\u001b[0m: name 'shape' is not defined"
     ]
    }
   ],
   "source": [
    "# your code goes here\n",
    "array_np = np.arange(1, 16,1)\n",
    "\n",
    "array_np= array_np.reshape(3,5)\n",
    "\n",
    "array_np = array_np.T\n",
    "\n",
    "print(array_np)\n"
   ]
  },
  {
   "cell_type": "markdown",
   "metadata": {},
   "source": [
    "### <font color='#eb3483'>  2. Array Attributes and Indexing </font>\n",
    "\n",
    "\n",
    "Now let's delve a little deeper to understand `array`"
   ]
  },
  {
   "cell_type": "markdown",
   "metadata": {},
   "source": [
    "What's the shape of the array?"
   ]
  },
  {
   "cell_type": "code",
   "execution_count": 26,
   "metadata": {},
   "outputs": [
    {
     "name": "stdout",
     "output_type": "stream",
     "text": [
      "(5, 3)\n"
     ]
    }
   ],
   "source": [
    "# your code goes here\n",
    "shape = array_np.shape\n",
    "print(shape)"
   ]
  },
  {
   "cell_type": "markdown",
   "metadata": {},
   "source": [
    "What's the type of the array?"
   ]
  },
  {
   "cell_type": "code",
   "execution_count": 27,
   "metadata": {},
   "outputs": [
    {
     "name": "stdout",
     "output_type": "stream",
     "text": [
      "int64\n"
     ]
    }
   ],
   "source": [
    "# your code goes here\n",
    "\n",
    "type = array_np.dtype\n",
    "\n",
    "print(type)"
   ]
  },
  {
   "cell_type": "markdown",
   "metadata": {},
   "source": [
    "Set the type of array to float (hint: the dtype for float in numpy is np.float64)"
   ]
  },
  {
   "cell_type": "code",
   "execution_count": 33,
   "metadata": {},
   "outputs": [
    {
     "data": {
      "text/plain": [
       "array([[ 1.,  6., 11.],\n",
       "       [ 2.,  7., 12.],\n",
       "       [ 3.,  8., 13.],\n",
       "       [ 4.,  9., 14.],\n",
       "       [ 5., 10., 15.]])"
      ]
     },
     "execution_count": 33,
     "metadata": {},
     "output_type": "execute_result"
    }
   ],
   "source": [
    "# your code goes here\n",
    "array_np.astype(np.float64)\n"
   ]
  },
  {
   "cell_type": "markdown",
   "metadata": {},
   "source": [
    "Select the 3rd column of the array"
   ]
  },
  {
   "cell_type": "code",
   "execution_count": 37,
   "metadata": {},
   "outputs": [
    {
     "name": "stdout",
     "output_type": "stream",
     "text": [
      "[11 12 13 14 15]\n"
     ]
    }
   ],
   "source": [
    "# your code goes here\n",
    "colum_3 = array_np[:, 2]\n",
    "print(colum_3)\n"
   ]
  },
  {
   "cell_type": "markdown",
   "metadata": {},
   "source": [
    "Select the (0,1), (2, 2) and (4,0) elements of the array at the same time"
   ]
  },
  {
   "cell_type": "code",
   "execution_count": 43,
   "metadata": {},
   "outputs": [
    {
     "name": "stdout",
     "output_type": "stream",
     "text": [
      "[ 6 13  5]\n"
     ]
    }
   ],
   "source": [
    "# your code goes here\n",
    "\n",
    "row = np.array([0, 2, 4])\n",
    "cols = np.array([1, 2, 0])\n",
    "\n",
    "points = array_np[row, cols]\n",
    "\n",
    "print(points)"
   ]
  },
  {
   "cell_type": "markdown",
   "metadata": {},
   "source": [
    "Slice into the array to get the top 2x2 square of data (i.e. the first two columns of the first two rows)"
   ]
  },
  {
   "cell_type": "code",
   "execution_count": 45,
   "metadata": {},
   "outputs": [
    {
     "name": "stdout",
     "output_type": "stream",
     "text": [
      "[[1 6]\n",
      " [2 7]]\n"
     ]
    }
   ],
   "source": [
    "# your code goes here\n",
    "\n",
    "two_two = array_np[:2, :2]\n",
    "\n",
    "print(two_two)"
   ]
  },
  {
   "cell_type": "markdown",
   "metadata": {},
   "source": [
    "**Challenge!** Select all values of array that are divisible by 2 (hint you might want to use the `%` (integer division) operator)"
   ]
  },
  {
   "cell_type": "code",
   "execution_count": 46,
   "metadata": {},
   "outputs": [
    {
     "name": "stdout",
     "output_type": "stream",
     "text": [
      "[ 6  2 12  8  4 14 10]\n"
     ]
    }
   ],
   "source": [
    "# your code goes here\n",
    "modolu_two = array_np[array_np % 2 == 0]\n",
    "\n",
    "print(modolu_two)\n"
   ]
  },
  {
   "cell_type": "markdown",
   "metadata": {},
   "source": [
    "### <font color='#eb3483'>  3. Growing our array </font>\n",
    "\n",
    "\n",
    "Now let's start changing our array!"
   ]
  },
  {
   "cell_type": "markdown",
   "metadata": {},
   "source": [
    "Create a vector with the numbres 16 to 20, call it newCol *(hint: use np.arange)*"
   ]
  },
  {
   "cell_type": "code",
   "execution_count": 48,
   "metadata": {},
   "outputs": [
    {
     "name": "stdout",
     "output_type": "stream",
     "text": [
      "[16 17 18 19 20]\n"
     ]
    }
   ],
   "source": [
    "# your code goes here\n",
    "\n",
    "new_Col = np.arange(16, 21, 1)\n",
    "print(new_Col)"
   ]
  },
  {
   "cell_type": "markdown",
   "metadata": {},
   "source": [
    "Reverse newCol (i.e. 20 19 18...etc)"
   ]
  },
  {
   "cell_type": "code",
   "execution_count": 51,
   "metadata": {},
   "outputs": [
    {
     "name": "stdout",
     "output_type": "stream",
     "text": [
      "[20 19 18 17 16]\n"
     ]
    }
   ],
   "source": [
    "# your code goes here\n",
    "\n",
    "new_Col = new_Col[::-1]\n",
    "print(new_Col)"
   ]
  },
  {
   "cell_type": "markdown",
   "metadata": {},
   "source": [
    "Assign the value `100` to the 2nd position in newCol"
   ]
  },
  {
   "cell_type": "code",
   "execution_count": 53,
   "metadata": {},
   "outputs": [
    {
     "name": "stdout",
     "output_type": "stream",
     "text": [
      "[ 20 100  18  17  16]\n"
     ]
    }
   ],
   "source": [
    "# your code goes here\n",
    "\n",
    "new_Col[new_Col == 19] = 100\n",
    "\n",
    "print(new_Col)\n"
   ]
  },
  {
   "cell_type": "markdown",
   "metadata": {},
   "source": [
    "Reshape newCol to have dimension (5,1) instead of just (5,)"
   ]
  },
  {
   "cell_type": "code",
   "execution_count": 56,
   "metadata": {},
   "outputs": [
    {
     "name": "stdout",
     "output_type": "stream",
     "text": [
      "[[ 20]\n",
      " [100]\n",
      " [ 18]\n",
      " [ 17]\n",
      " [ 16]]\n"
     ]
    }
   ],
   "source": [
    "# your code goes here\n",
    "\n",
    "reshape = new_Col.reshape((5,1))\n",
    "\n",
    "print(reshape)"
   ]
  },
  {
   "cell_type": "markdown",
   "metadata": {},
   "source": [
    "Add the new column to our array (hint: you should use either vstack or hstack, which one makes sense?)"
   ]
  },
  {
   "cell_type": "code",
   "execution_count": null,
   "metadata": {},
   "outputs": [],
   "source": []
  },
  {
   "cell_type": "code",
   "execution_count": 66,
   "metadata": {
    "scrolled": true
   },
   "outputs": [
    {
     "name": "stdout",
     "output_type": "stream",
     "text": [
      "[[ 20  20]\n",
      " [100 100]\n",
      " [ 18  18]\n",
      " [ 17  17]\n",
      " [ 16  16]]\n"
     ]
    }
   ],
   "source": [
    "# your code goes here\n",
    "\n",
    "hstacked = np.hstack((reshape, reshape))\n",
    "\n",
    "print(hstacked)\n",
    "\n",
    "\n"
   ]
  },
  {
   "cell_type": "markdown",
   "metadata": {},
   "source": [
    "### <font color='#eb3483'>  4. Aggregations </font>\n",
    "Now let's build some aggregations of our array:"
   ]
  },
  {
   "cell_type": "markdown",
   "metadata": {},
   "source": [
    "Get the average value in our matrix"
   ]
  },
  {
   "cell_type": "code",
   "execution_count": 67,
   "metadata": {},
   "outputs": [
    {
     "name": "stdout",
     "output_type": "stream",
     "text": [
      "Average:  34.2\n"
     ]
    }
   ],
   "source": [
    "# your code goes here\n",
    "print('Average: ', np.mean(reshape))"
   ]
  },
  {
   "cell_type": "markdown",
   "metadata": {},
   "source": [
    "Now get the average for each column"
   ]
  },
  {
   "cell_type": "code",
   "execution_count": 73,
   "metadata": {},
   "outputs": [
    {
     "name": "stdout",
     "output_type": "stream",
     "text": [
      "Average (colum)  [34.2 34.2]\n"
     ]
    }
   ],
   "source": [
    "# your code goes here\n",
    "print('Average (colum) ', hstacked.mean(axis=0))\n"
   ]
  },
  {
   "cell_type": "markdown",
   "metadata": {},
   "source": [
    "Get the standard deviation of our matrix"
   ]
  },
  {
   "cell_type": "code",
   "execution_count": 74,
   "metadata": {},
   "outputs": [
    {
     "name": "stdout",
     "output_type": "stream",
     "text": [
      "Standard Deviation  32.92658500361068\n"
     ]
    }
   ],
   "source": [
    "# your code goes here\n",
    "print('Standard Deviation ', np.std(hstacked))\n"
   ]
  },
  {
   "cell_type": "markdown",
   "metadata": {},
   "source": [
    "**Challenge!** Get the maximum value in the array, but only include values that are less than the average value of the matrix"
   ]
  },
  {
   "cell_type": "code",
   "execution_count": 78,
   "metadata": {},
   "outputs": [
    {
     "name": "stdout",
     "output_type": "stream",
     "text": [
      "Average:  34.2\n",
      "filtered max:  20\n"
     ]
    }
   ],
   "source": [
    "# your code goes here\n",
    "average = np.mean(hstacked)\n",
    "print('Average: ', average)\n",
    "\n",
    "filter = hstacked[hstacked < average]\n",
    "\n",
    "max= np.max(filter)\n",
    "\n",
    "print('filtered max: ', max)"
   ]
  },
  {
   "cell_type": "code",
   "execution_count": null,
   "metadata": {},
   "outputs": [],
   "source": []
  }
 ],
 "metadata": {
  "kernelspec": {
   "display_name": "Python 3",
   "language": "python",
   "name": "python3"
  },
  "language_info": {
   "codemirror_mode": {
    "name": "ipython",
    "version": 3
   },
   "file_extension": ".py",
   "mimetype": "text/x-python",
   "name": "python",
   "nbconvert_exporter": "python",
   "pygments_lexer": "ipython3",
   "version": "3.11.1"
  }
 },
 "nbformat": 4,
 "nbformat_minor": 2
}
