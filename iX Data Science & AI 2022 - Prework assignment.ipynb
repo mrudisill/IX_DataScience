{
 "cells": [
  {
   "cell_type": "markdown",
   "metadata": {},
   "source": [
    "# <font color='#eb3483'> NON TECHNICAL SKILLS ASSIGNMENT </font>\n"
   ]
  },
  {
   "cell_type": "markdown",
   "metadata": {},
   "source": [
    "Find an article on anything you like! It could be something you read today, current affairs, a series review - anything. Read through it with a critical thinking eye in mind. (read article a above).  \n",
    "\n",
    "Paste the link here and jot down 4-5 critical questioning thoughts you had while you read it."
   ]
  },
  {
   "cell_type": "code",
   "execution_count": 1,
   "metadata": {},
   "outputs": [],
   "source": [
    "#write your questions here using markdown"
   ]
  },
  {
   "cell_type": "markdown",
   "metadata": {},
   "source": [
    "# <font color='#eb3483'> TECHNICAL SKILLS ASSIGNMENT  </font>\n"
   ]
  },
  {
   "cell_type": "markdown",
   "metadata": {},
   "source": [
    "### Don't worry if you can't get any of these working. We are going to learn step by step! This is just your chance to test things out, play with some code and get into the groove.\n",
    "\n",
    "### Still add your code to the cells (even if it doesn't work) - so we can see if/what's tripping people up."
   ]
  },
  {
   "cell_type": "markdown",
   "metadata": {},
   "source": [
    "### Problem 1: Markdown\n",
    "\n",
    "Write your name in a mix of styles and or colours \n",
    "\n",
    "Insert an image of a hysterical meme"
   ]
  },
  {
   "cell_type": "markdown",
   "metadata": {},
   "source": [
    "# <font color= \"FF00FF\"> Molly </font>\n",
    "## <font color= \"0340FF\">Rudisill</font>"
   ]
  },
  {
   "cell_type": "markdown",
   "metadata": {},
   "source": [
    "![dt](https://datasciencedojo.com/wp-content/uploads/52.jpg)"
   ]
  },
  {
   "cell_type": "markdown",
   "metadata": {},
   "source": [
    "### Problem 2: Basic Operations\n"
   ]
  },
  {
   "cell_type": "markdown",
   "metadata": {},
   "source": [
    "You are at Vanessa's Vegan Cafe and you loved it so much you wanna leave a tip. Write a function that takes the amount owed and calculates how much money you pay with an 18% tip. If functions still scare you, just the solution code will do."
   ]
  },
  {
   "cell_type": "code",
   "execution_count": 2,
   "metadata": {},
   "outputs": [
    {
     "name": "stdout",
     "output_type": "stream",
     "text": [
      "51.33\n"
     ]
    }
   ],
   "source": [
    "amount_owned= 43.5\n",
    "total = amount_owned * .18 + amount_owned\n",
    "print(total)\n"
   ]
  },
  {
   "cell_type": "markdown",
   "metadata": {},
   "source": [
    "<br>"
   ]
  },
  {
   "cell_type": "markdown",
   "metadata": {},
   "source": [
    "### Problem 3: Lists"
   ]
  },
  {
   "cell_type": "markdown",
   "metadata": {},
   "source": [
    "I have a fortune cookie that says my lucky numbers are:\n",
    "\n",
    "   [23, 54, 6, 8, 10078, 3]\n",
    "\n",
    "Create a list of my fortune cookie numbers and then create a new list for each of:\n",
    "- replacing the number 6 with 1\n",
    "- the above list in decreasing order\n",
    "- all values greater than 15"
   ]
  },
  {
   "cell_type": "code",
   "execution_count": 1,
   "metadata": {},
   "outputs": [
    {
     "name": "stdout",
     "output_type": "stream",
     "text": [
      "[23, 54, 6, 8, 10078, 3]\n",
      "[23, 54, 1, 8, 10078, 3]\n",
      "[1, 3, 8, 23, 54, 10078]\n",
      "hi\n"
     ]
    }
   ],
   "source": [
    "# your code here\n",
    "lucky_numbers = [23, 54, 6, 8, 10078, 3]\n",
    "print(lucky_numbers)\n",
    "# replace the number 6 with 1\n",
    "lucky_numbers[2]=1\n",
    "print(lucky_numbers)\n",
    "# decreasing order\n",
    "lucky_numbers.sort()\n",
    "print(lucky_numbers)\n",
    "# all values greater than 15\n",
    "\n",
    "\n"
   ]
  },
  {
   "cell_type": "markdown",
   "metadata": {},
   "source": [
    "<br>"
   ]
  },
  {
   "cell_type": "markdown",
   "metadata": {},
   "source": [
    "### Problem 4: Dictionaries"
   ]
  },
  {
   "cell_type": "markdown",
   "metadata": {},
   "source": [
    " Create a dictionary where the keys are the first 3 days of the week and the values\n",
    " are the position of that day in the week.\n",
    "\n",
    " Transform all keys in that dictionary to uppercase\n"
   ]
  },
  {
   "cell_type": "code",
   "execution_count": 7,
   "metadata": {},
   "outputs": [
    {
     "name": "stdout",
     "output_type": "stream",
     "text": [
      "{'sunday': 1, 'monday': 2, 'tuesday': 3}\n",
      "{'SUNDAY': 1, 'MONDAY': 2, 'TUESDAY': 3}\n"
     ]
    }
   ],
   "source": [
    "# your code here\n",
    "days_of_week: dict = {\n",
    "    \"sunday\": 1,\n",
    "    \"monday\" : 2,\n",
    "    \"tuesday\": 3\n",
    "}\n",
    "print(days_of_week)\n",
    "\n",
    "days_of_week[\"sunday\".upper()] = days_of_week.pop(\"sunday\")\n",
    "days_of_week[\"monday\".upper()] = days_of_week.pop(\"monday\")\n",
    "days_of_week[\"tuesday\".upper()] = days_of_week.pop(\"tuesday\")\n",
    "\n",
    "print(days_of_week)\n",
    "\n"
   ]
  },
  {
   "cell_type": "markdown",
   "metadata": {},
   "source": [
    "<br>"
   ]
  },
  {
   "cell_type": "markdown",
   "metadata": {},
   "source": [
    "### Problem 5: OPTIONAL EXTRA \n",
    "\n",
    "### FOR LOOPS\n",
    "\n",
    "\n",
    "1) take your dictionary from above. and instead turn all of the keys to uppercase, using a for loop.\n",
    "\n",
    "*hint - you can't change a dictionary while it is in the middle of a for-loop. How can you get around this?*\n",
    "\n",
    "\n"
   ]
  },
  {
   "cell_type": "markdown",
   "metadata": {},
   "source": []
  },
  {
   "cell_type": "code",
   "execution_count": 9,
   "metadata": {},
   "outputs": [
    {
     "name": "stdout",
     "output_type": "stream",
     "text": [
      "{'SUNDAY': 1, 'MONDAY': 2, 'TUESDAY': 3}\n"
     ]
    }
   ],
   "source": [
    "# your code here\n",
    "days_of_week: dict = {\n",
    "    \"sunday\": 1,\n",
    "    \"monday\" : 2,\n",
    "    \"tuesday\": 3\n",
    "}\n",
    "\n",
    "for value in days_of_week:\n",
    "    days_of_week[value.upper()] = days_of_week.pop(value)\n",
    "\n",
    "print(days_of_week)"
   ]
  },
  {
   "cell_type": "markdown",
   "metadata": {},
   "source": [
    "2) Create a list containing all of the keys in the dictionary that have the letter \"r\"\n"
   ]
  },
  {
   "cell_type": "code",
   "execution_count": 17,
   "metadata": {},
   "outputs": [
    {
     "name": "stdout",
     "output_type": "stream",
     "text": [
      "['raspberry', 'strawberry', 'blueberry']\n"
     ]
    }
   ],
   "source": [
    "# your code here\n",
    "inventory: dict = {\n",
    "    \"peaches\": 0, \"raspberry\": 1, \"strawberry\": 2, \"apple\": 3, \"blueberry\":4}\n",
    "\n",
    "fruit_list= []\n",
    "\n",
    "for fruit in inventory:\n",
    "    if \"r\" in fruit:\n",
    "        fruit_list.append(fruit) \n",
    "\n",
    "\n",
    "print(fruit_list)\n",
    "       \n",
    "\n"
   ]
  },
  {
   "cell_type": "code",
   "execution_count": null,
   "metadata": {},
   "outputs": [],
   "source": []
  },
  {
   "cell_type": "markdown",
   "metadata": {},
   "source": [
    "<br>"
   ]
  },
  {
   "cell_type": "markdown",
   "metadata": {},
   "source": [
    "## <font color='#eb3483'> Challenge! (Super Optional)  </font>\n",
    "\n",
    "In this mini project, your goal is to take in a list of corporate emails and output contact cards for each employee (i.e. 'Mr T works at Ateam'). Don't worry if this seems hard, it's a challenge for a reason - try your best and don't be afraid to google if you're stuck! Here's the data you'll be working with:"
   ]
  },
  {
   "cell_type": "code",
   "execution_count": 46,
   "metadata": {},
   "outputs": [
    {
     "name": "stdout",
     "output_type": "stream",
     "text": [
      "mr t works at ateam\n",
      "baby spice works at spicegirls\n",
      "scary spice works at spicegirls\n",
      "kermit frog works at muppets\n",
      "mr t works at ateam\n",
      "baby spice works at spicegirls\n",
      "scary spice works at spicegirls\n",
      "kermit frog works at muppets\n",
      "None\n"
     ]
    }
   ],
   "source": [
    "emails = ['mr.t@ateam.org',\n",
    "          'baby.spice@spicegirls.com',\n",
    "          'scary.spice@spicegirls.com',\n",
    "          'kermit.frog@muppets.org']\n",
    "\n",
    "# for loop\n",
    "for email in emails:\n",
    "    first_split = email.split(\".\")\n",
    "    first_name = first_split[0]\n",
    "    second_split= first_split[1].split(\"@\")\n",
    "    last_name= second_split[0]\n",
    "    third_split = second_split[1].split(\".com\")\n",
    "    work_place = third_split[0]\n",
    "\n",
    "    print(f\"{first_name} {last_name} works at {work_place}\")\n",
    "\n",
    "# function\n",
    "def name_generator(email_list):\n",
    "    name_list = []\n",
    "    for email in email_list:\n",
    "        first_split = email.split(\".\")\n",
    "        first_name = first_split[0]\n",
    "        second_split= first_split[1].split(\"@\")\n",
    "        last_name = second_split[0]\n",
    "        third_split = second_split[1].split(\".com\")\n",
    "        work_place = third_split[0]\n",
    "        \n",
    "        print(f\"{first_name} {last_name} works at {work_place}\")\n",
    "    \n",
    "\n",
    "print(name_generator(emails))\n",
    "\n"
   ]
  },
  {
   "cell_type": "markdown",
   "metadata": {},
   "source": [
    "There are multiple ways to go about doing this, but the high-level steps you should think about are:\n",
    "<ul>\n",
    "    <li> Extracting each employee's first name, last name and company from the e-mail (maybe with a function) </li>\n",
    "    <li> Store the details in a data structure of your choice </li>\n",
    "    <li> Print out the details </li>\n",
    "</ul>\n",
    "\n",
    "Good luck - remember part of the fun of coding is playing around with this! Some fun extensions could include printing out all the employees that work at the same company, trying out different ways of storing all the details (it's a great chance to play around with different data types we learned!), or try adding a different format of email (i.e. trudeau@canada.gov) and seeing how you can change your code to handle it."
   ]
  },
  {
   "cell_type": "markdown",
   "metadata": {},
   "source": [
    "# Save and upload this notebook using the link in the pre-work guide"
   ]
  }
 ],
 "metadata": {
  "kernelspec": {
   "display_name": "Python 3 (ipykernel)",
   "language": "python",
   "name": "python3"
  },
  "language_info": {
   "codemirror_mode": {
    "name": "ipython",
    "version": 3
   },
   "file_extension": ".py",
   "mimetype": "text/x-python",
   "name": "python",
   "nbconvert_exporter": "python",
   "pygments_lexer": "ipython3",
   "version": "3.11.7"
  }
 },
 "nbformat": 4,
 "nbformat_minor": 2
}
