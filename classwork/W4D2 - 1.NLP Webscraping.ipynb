{
  "cells": [
    {
      "cell_type": "markdown",
      "metadata": {
        "id": "5Yasg5cUXDjF"
      },
      "source": [
        "###  <font color='#eb3483'> Webscraping </font>\n",
        "\n",
        "Together, `BeautifulSoup` and `re` give us powerful tools for extracting information from webscraped data. Let's take a minute to see how this might work.  \n",
        "\n",
        "Suppose that we want to scrape the price information:\n",
        "\n",
        "https://webscraper.io/test-sites/e-commerce/allinone\n",
        "\n",
        "Take a minute to visit the webpage with your webrowser. If you are using Chrome, right click and select \"Inspect\". This will show you the underlying HTML code for this page.\n",
        "\n",
        "Let's webscrape! ... which really means reading the HTML code into Python. We use the `requests` package for this."
      ]
    },
    {
      "cell_type": "code",
      "execution_count": 1,
      "metadata": {
        "id": "qlRaXBo4ZVMo"
      },
      "outputs": [
        {
          "name": "stdout",
          "output_type": "stream",
          "text": [
            "Requirement already satisfied: requests in /opt/anaconda3/lib/python3.11/site-packages (2.31.0)\n",
            "Requirement already satisfied: charset-normalizer<4,>=2 in /opt/anaconda3/lib/python3.11/site-packages (from requests) (2.0.4)\n",
            "Requirement already satisfied: idna<4,>=2.5 in /opt/anaconda3/lib/python3.11/site-packages (from requests) (3.4)\n",
            "Requirement already satisfied: urllib3<3,>=1.21.1 in /opt/anaconda3/lib/python3.11/site-packages (from requests) (2.0.7)\n",
            "Requirement already satisfied: certifi>=2017.4.17 in /opt/anaconda3/lib/python3.11/site-packages (from requests) (2024.2.2)\n",
            "Requirement already satisfied: pandas in /opt/anaconda3/lib/python3.11/site-packages (2.1.4)\n",
            "Requirement already satisfied: numpy<2,>=1.23.2 in /opt/anaconda3/lib/python3.11/site-packages (from pandas) (1.26.4)\n",
            "Requirement already satisfied: python-dateutil>=2.8.2 in /opt/anaconda3/lib/python3.11/site-packages (from pandas) (2.8.2)\n",
            "Requirement already satisfied: pytz>=2020.1 in /opt/anaconda3/lib/python3.11/site-packages (from pandas) (2023.3.post1)\n",
            "Requirement already satisfied: tzdata>=2022.1 in /opt/anaconda3/lib/python3.11/site-packages (from pandas) (2023.3)\n",
            "Requirement already satisfied: six>=1.5 in /opt/anaconda3/lib/python3.11/site-packages (from python-dateutil>=2.8.2->pandas) (1.16.0)\n",
            "Requirement already satisfied: beautifulsoup4 in /opt/anaconda3/lib/python3.11/site-packages (4.12.2)\n",
            "Requirement already satisfied: soupsieve>1.2 in /opt/anaconda3/lib/python3.11/site-packages (from beautifulsoup4) (2.5)\n"
          ]
        }
      ],
      "source": [
        "!pip install requests\n",
        "!pip install pandas\n",
        "!pip install beautifulsoup4"
      ]
    },
    {
      "cell_type": "markdown",
      "metadata": {
        "id": "ukBpvdTHXKui"
      },
      "source": [
        "####  <font color='#eb3483'> Approach using Regular Expressions </font>"
      ]
    },
    {
      "cell_type": "code",
      "execution_count": 2,
      "metadata": {
        "id": "yPvH84cyXNgi"
      },
      "outputs": [],
      "source": [
        "import requests\n",
        "from bs4 import BeautifulSoup\n",
        "import re\n",
        "\n",
        "url = 'https://webscraper.io/test-sites/e-commerce/allinone'\n",
        "response = requests.get(url)\n",
        "soup = BeautifulSoup(response.content, 'html.parser')"
      ]
    },
    {
      "cell_type": "code",
      "execution_count": 3,
      "metadata": {
        "colab": {
          "base_uri": "https://localhost:8080/"
        },
        "id": "cVAaNhfvXOPJ",
        "outputId": "123e88d3-92cd-4a27-b63e-eb38e66a35fd"
      },
      "outputs": [
        {
          "name": "stdout",
          "output_type": "stream",
          "text": [
            "$379.95\n",
            "$148.99\n"
          ]
        }
      ],
      "source": [
        "# Find all elements with the class 'price'\n",
        "prices = soup.find_all(class_='price')\n",
        "\n",
        "# Extract the text from each element\n",
        "for price in prices:\n",
        "    # Use a regular expression to extract the price in the format $XX.XX\n",
        "    price_text = price.get_text()\n",
        "    price_value = re.findall(r'\\$\\d+\\.\\d{2}', price_text)\n",
        "    if price_value:\n",
        "        print(price_value[0])"
      ]
    },
    {
      "cell_type": "markdown",
      "metadata": {
        "id": "CrMVBP1ZX1nC"
      },
      "source": [
        "####  <font color='#eb3483'> Extracting data from tables </font>"
      ]
    },
    {
      "cell_type": "code",
      "execution_count": 4,
      "metadata": {
        "id": "dirnEgCFYRVq"
      },
      "outputs": [],
      "source": [
        "import requests\n",
        "import pandas as pd\n",
        "from bs4 import BeautifulSoup"
      ]
    },
    {
      "cell_type": "code",
      "execution_count": 5,
      "metadata": {
        "id": "r_WF64oWaY-_"
      },
      "outputs": [],
      "source": [
        "# Fetch the Web Page\n",
        "url = \"https://www.worldometers.info/world-population/population-by-country/\"\n",
        "response = requests.get(url)\n",
        "html_content = response.content\n",
        "\n",
        "# Parse the HTML Content\n",
        "soup = BeautifulSoup(html_content, 'html.parser')"
      ]
    },
    {
      "cell_type": "code",
      "execution_count": 6,
      "metadata": {
        "id": "GNJCL6jxabX2"
      },
      "outputs": [
        {
          "name": "stdout",
          "output_type": "stream",
          "text": [
            "Headers: ['#', 'Country (or dependency)', 'Population (2023)', 'Yearly Change', 'Net Change', 'Density (P/Km²)', 'Land Area (Km²)', 'Migrants (net)', 'Fert. Rate', 'Med. Age', 'Urban Pop %', 'World Share']\n"
          ]
        }
      ],
      "source": [
        "# Find the Table\n",
        "table = soup.find('table', id='example2')  # Find the table with the specific id\n",
        "\n",
        "# Extract Table Headers\n",
        "headers = []\n",
        "for th in table.find_all('th'):\n",
        "    headers.append(th.text.strip())\n",
        "\n",
        "print(\"Headers:\", headers)"
      ]
    },
    {
      "cell_type": "code",
      "execution_count": 7,
      "metadata": {
        "id": "4dhFvK7Lahed"
      },
      "outputs": [
        {
          "name": "stdout",
          "output_type": "stream",
          "text": [
            "['1', 'India', '1,428,627,663', '0.81 %', '11,454,490', '481', '2,973,190', '-486,136', '2.0', '28', '36 %', '17.76 %']\n",
            "['2', 'China', '1,425,671,352', '-0.02 %', '-215,985', '152', '9,388,211', '-310,220', '1.2', '39', '65 %', '17.72 %']\n",
            "['3', 'United States', '339,996,563', '0.50 %', '1,706,706', '37', '9,147,420', '999,700', '1.7', '38', '83 %', '4.23 %']\n",
            "['4', 'Indonesia', '277,534,122', '0.74 %', '2,032,783', '153', '1,811,570', '-49,997', '2.1', '30', '59 %', '3.45 %']\n",
            "['5', 'Pakistan', '240,485,658', '1.98 %', '4,660,796', '312', '770,880', '-165,988', '3.3', '21', '35 %', '2.99 %']\n"
          ]
        }
      ],
      "source": [
        "# Extract Table Rows\n",
        "rows = []\n",
        "for tr in table.find_all('tr'):\n",
        "    cells = tr.find_all('td')\n",
        "    if len(cells) > 0:\n",
        "        row = [cell.text.strip() for cell in cells]\n",
        "        rows.append(row)\n",
        "\n",
        "# Print the first 5 rows to check\n",
        "for row in rows[:5]:\n",
        "    print(row)"
      ]
    },
    {
      "cell_type": "code",
      "execution_count": 8,
      "metadata": {
        "id": "qzL_TSxGZsMQ"
      },
      "outputs": [
        {
          "data": {
            "text/html": [
              "<div>\n",
              "<style scoped>\n",
              "    .dataframe tbody tr th:only-of-type {\n",
              "        vertical-align: middle;\n",
              "    }\n",
              "\n",
              "    .dataframe tbody tr th {\n",
              "        vertical-align: top;\n",
              "    }\n",
              "\n",
              "    .dataframe thead th {\n",
              "        text-align: right;\n",
              "    }\n",
              "</style>\n",
              "<table border=\"1\" class=\"dataframe\">\n",
              "  <thead>\n",
              "    <tr style=\"text-align: right;\">\n",
              "      <th></th>\n",
              "      <th>#</th>\n",
              "      <th>Country (or dependency)</th>\n",
              "      <th>Population (2023)</th>\n",
              "      <th>Yearly Change</th>\n",
              "      <th>Net Change</th>\n",
              "      <th>Density (P/Km²)</th>\n",
              "      <th>Land Area (Km²)</th>\n",
              "      <th>Migrants (net)</th>\n",
              "      <th>Fert. Rate</th>\n",
              "      <th>Med. Age</th>\n",
              "      <th>Urban Pop %</th>\n",
              "      <th>World Share</th>\n",
              "    </tr>\n",
              "  </thead>\n",
              "  <tbody>\n",
              "    <tr>\n",
              "      <th>0</th>\n",
              "      <td>1</td>\n",
              "      <td>India</td>\n",
              "      <td>1,428,627,663</td>\n",
              "      <td>0.81 %</td>\n",
              "      <td>11,454,490</td>\n",
              "      <td>481</td>\n",
              "      <td>2,973,190</td>\n",
              "      <td>-486,136</td>\n",
              "      <td>2.0</td>\n",
              "      <td>28</td>\n",
              "      <td>36 %</td>\n",
              "      <td>17.76 %</td>\n",
              "    </tr>\n",
              "    <tr>\n",
              "      <th>1</th>\n",
              "      <td>2</td>\n",
              "      <td>China</td>\n",
              "      <td>1,425,671,352</td>\n",
              "      <td>-0.02 %</td>\n",
              "      <td>-215,985</td>\n",
              "      <td>152</td>\n",
              "      <td>9,388,211</td>\n",
              "      <td>-310,220</td>\n",
              "      <td>1.2</td>\n",
              "      <td>39</td>\n",
              "      <td>65 %</td>\n",
              "      <td>17.72 %</td>\n",
              "    </tr>\n",
              "    <tr>\n",
              "      <th>2</th>\n",
              "      <td>3</td>\n",
              "      <td>United States</td>\n",
              "      <td>339,996,563</td>\n",
              "      <td>0.50 %</td>\n",
              "      <td>1,706,706</td>\n",
              "      <td>37</td>\n",
              "      <td>9,147,420</td>\n",
              "      <td>999,700</td>\n",
              "      <td>1.7</td>\n",
              "      <td>38</td>\n",
              "      <td>83 %</td>\n",
              "      <td>4.23 %</td>\n",
              "    </tr>\n",
              "    <tr>\n",
              "      <th>3</th>\n",
              "      <td>4</td>\n",
              "      <td>Indonesia</td>\n",
              "      <td>277,534,122</td>\n",
              "      <td>0.74 %</td>\n",
              "      <td>2,032,783</td>\n",
              "      <td>153</td>\n",
              "      <td>1,811,570</td>\n",
              "      <td>-49,997</td>\n",
              "      <td>2.1</td>\n",
              "      <td>30</td>\n",
              "      <td>59 %</td>\n",
              "      <td>3.45 %</td>\n",
              "    </tr>\n",
              "    <tr>\n",
              "      <th>4</th>\n",
              "      <td>5</td>\n",
              "      <td>Pakistan</td>\n",
              "      <td>240,485,658</td>\n",
              "      <td>1.98 %</td>\n",
              "      <td>4,660,796</td>\n",
              "      <td>312</td>\n",
              "      <td>770,880</td>\n",
              "      <td>-165,988</td>\n",
              "      <td>3.3</td>\n",
              "      <td>21</td>\n",
              "      <td>35 %</td>\n",
              "      <td>2.99 %</td>\n",
              "    </tr>\n",
              "  </tbody>\n",
              "</table>\n",
              "</div>"
            ],
            "text/plain": [
              "   # Country (or dependency) Population (2023) Yearly Change  Net Change  \\\n",
              "0  1                   India     1,428,627,663        0.81 %  11,454,490   \n",
              "1  2                   China     1,425,671,352       -0.02 %    -215,985   \n",
              "2  3           United States       339,996,563        0.50 %   1,706,706   \n",
              "3  4               Indonesia       277,534,122        0.74 %   2,032,783   \n",
              "4  5                Pakistan       240,485,658        1.98 %   4,660,796   \n",
              "\n",
              "  Density (P/Km²) Land Area (Km²) Migrants (net) Fert. Rate Med. Age  \\\n",
              "0             481       2,973,190       -486,136        2.0       28   \n",
              "1             152       9,388,211       -310,220        1.2       39   \n",
              "2              37       9,147,420        999,700        1.7       38   \n",
              "3             153       1,811,570        -49,997        2.1       30   \n",
              "4             312         770,880       -165,988        3.3       21   \n",
              "\n",
              "  Urban Pop % World Share  \n",
              "0        36 %     17.76 %  \n",
              "1        65 %     17.72 %  \n",
              "2        83 %      4.23 %  \n",
              "3        59 %      3.45 %  \n",
              "4        35 %      2.99 %  "
            ]
          },
          "execution_count": 8,
          "metadata": {},
          "output_type": "execute_result"
        }
      ],
      "source": [
        "# Create DataFrame\n",
        "df = pd.DataFrame(rows, columns=headers)\n",
        "df.head()"
      ]
    }
  ],
  "metadata": {
    "colab": {
      "provenance": []
    },
    "kernelspec": {
      "display_name": "Python 3",
      "name": "python3"
    },
    "language_info": {
      "codemirror_mode": {
        "name": "ipython",
        "version": 3
      },
      "file_extension": ".py",
      "mimetype": "text/x-python",
      "name": "python",
      "nbconvert_exporter": "python",
      "pygments_lexer": "ipython3",
      "version": "3.11.1"
    }
  },
  "nbformat": 4,
  "nbformat_minor": 0
}
